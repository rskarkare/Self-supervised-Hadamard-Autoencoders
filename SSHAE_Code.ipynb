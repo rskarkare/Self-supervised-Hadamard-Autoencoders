{
 "cells": [
  {
   "cell_type": "code",
   "execution_count": 51,
   "id": "934fd3e3",
   "metadata": {},
   "outputs": [],
   "source": [
    "# import all the libraries\n",
    "import numpy as np\n",
    "import pandas as pd\n",
    "import torch\n",
    "import matplotlib.pyplot as plt\n",
    "from torch import nn, optim\n",
    "from torch.nn import functional as F\n",
    "from torch.utils.data import Dataset\n",
    "from sklearn.model_selection import train_test_split\n",
    "from sklearn.preprocessing import StandardScaler, MinMaxScaler\n",
    "from torch.utils.data import DataLoader\n",
    "from tqdm import tqdm\n",
    "import torch.nn.functional as F\n",
    "from collections import Counter"
   ]
  },
  {
   "cell_type": "code",
   "execution_count": 52,
   "id": "96239c3f",
   "metadata": {},
   "outputs": [
    {
     "data": {
      "text/plain": [
       "False"
      ]
     },
     "execution_count": 52,
     "metadata": {},
     "output_type": "execute_result"
    }
   ],
   "source": [
    "# gpu usage\n",
    "torch.cuda.is_available()"
   ]
  },
  {
   "cell_type": "code",
   "execution_count": 53,
   "id": "97dd1c7e",
   "metadata": {},
   "outputs": [],
   "source": [
    "# import the dataset \n",
    "data = pd.read_csv('./MMdata.csv')\n",
    "data_original = data.copy()"
   ]
  },
  {
   "cell_type": "code",
   "execution_count": 54,
   "id": "f347329b",
   "metadata": {},
   "outputs": [
    {
     "data": {
      "text/plain": [
       "(19484, 98)"
      ]
     },
     "execution_count": 54,
     "metadata": {},
     "output_type": "execute_result"
    }
   ],
   "source": [
    "data.shape"
   ]
  },
  {
   "cell_type": "code",
   "execution_count": 55,
   "id": "0853a243",
   "metadata": {},
   "outputs": [],
   "source": [
    "#make 5 copies of each row for using for self-supervision\n",
    "data_original = np.array(data_original)\n",
    "data_original = np.repeat(data_original, repeats=5, axis=0)"
   ]
  },
  {
   "cell_type": "code",
   "execution_count": 56,
   "id": "1ecf0d33",
   "metadata": {},
   "outputs": [],
   "source": [
    "data_original = pd.DataFrame(data_original)\n",
    "#data_original = data_original.to_csv('./data_new.csv')"
   ]
  },
  {
   "cell_type": "code",
   "execution_count": 57,
   "id": "da71dc1e",
   "metadata": {},
   "outputs": [],
   "source": [
    "# drop the nas and reset index and Quality columns\n",
    "data = data.dropna()"
   ]
  },
  {
   "cell_type": "code",
   "execution_count": 60,
   "id": "fed76d40",
   "metadata": {},
   "outputs": [],
   "source": [
    "# Get all the features \n",
    "data = pd.DataFrame(data)\n",
    "Quality = data.iloc[:, -1]"
   ]
  },
  {
   "cell_type": "code",
   "execution_count": 61,
   "id": "6eca0012",
   "metadata": {},
   "outputs": [],
   "source": [
    "data.columns = data_original.columns\n",
    "#data = data.drop(['Quality'], axis = 1)"
   ]
  },
  {
   "cell_type": "code",
   "execution_count": 62,
   "id": "dfb93a30",
   "metadata": {},
   "outputs": [
    {
     "data": {
      "text/html": [
       "<div>\n",
       "<style scoped>\n",
       "    .dataframe tbody tr th:only-of-type {\n",
       "        vertical-align: middle;\n",
       "    }\n",
       "\n",
       "    .dataframe tbody tr th {\n",
       "        vertical-align: top;\n",
       "    }\n",
       "\n",
       "    .dataframe thead th {\n",
       "        text-align: right;\n",
       "    }\n",
       "</style>\n",
       "<table border=\"1\" class=\"dataframe\">\n",
       "  <thead>\n",
       "    <tr style=\"text-align: right;\">\n",
       "      <th></th>\n",
       "      <th>0</th>\n",
       "      <th>1</th>\n",
       "      <th>2</th>\n",
       "      <th>3</th>\n",
       "      <th>4</th>\n",
       "      <th>5</th>\n",
       "      <th>6</th>\n",
       "      <th>7</th>\n",
       "      <th>8</th>\n",
       "      <th>9</th>\n",
       "      <th>...</th>\n",
       "      <th>88</th>\n",
       "      <th>89</th>\n",
       "      <th>90</th>\n",
       "      <th>91</th>\n",
       "      <th>92</th>\n",
       "      <th>93</th>\n",
       "      <th>94</th>\n",
       "      <th>95</th>\n",
       "      <th>96</th>\n",
       "      <th>97</th>\n",
       "    </tr>\n",
       "  </thead>\n",
       "  <tbody>\n",
       "    <tr>\n",
       "      <th>0</th>\n",
       "      <td>179.08</td>\n",
       "      <td>3055.142</td>\n",
       "      <td>27.0</td>\n",
       "      <td>1.500000</td>\n",
       "      <td>34.52</td>\n",
       "      <td>43.0</td>\n",
       "      <td>95.01392</td>\n",
       "      <td>29.41720</td>\n",
       "      <td>0.787498</td>\n",
       "      <td>56.47257</td>\n",
       "      <td>...</td>\n",
       "      <td>153569.0</td>\n",
       "      <td>170236.0</td>\n",
       "      <td>178610.0</td>\n",
       "      <td>0.116788</td>\n",
       "      <td>0.000712</td>\n",
       "      <td>-1.993775</td>\n",
       "      <td>-0.006603</td>\n",
       "      <td>1.403689</td>\n",
       "      <td>-0.001574</td>\n",
       "      <td>1</td>\n",
       "    </tr>\n",
       "    <tr>\n",
       "      <th>5</th>\n",
       "      <td>220.16</td>\n",
       "      <td>3042.356</td>\n",
       "      <td>37.0</td>\n",
       "      <td>1.237499</td>\n",
       "      <td>34.07</td>\n",
       "      <td>43.2</td>\n",
       "      <td>94.71411</td>\n",
       "      <td>29.61720</td>\n",
       "      <td>0.849999</td>\n",
       "      <td>60.74240</td>\n",
       "      <td>...</td>\n",
       "      <td>153278.0</td>\n",
       "      <td>169905.0</td>\n",
       "      <td>178279.0</td>\n",
       "      <td>51.337479</td>\n",
       "      <td>0.157384</td>\n",
       "      <td>13.864785</td>\n",
       "      <td>0.023139</td>\n",
       "      <td>9.124539</td>\n",
       "      <td>0.011357</td>\n",
       "      <td>2</td>\n",
       "    </tr>\n",
       "    <tr>\n",
       "      <th>6</th>\n",
       "      <td>220.16</td>\n",
       "      <td>3042.356</td>\n",
       "      <td>37.0</td>\n",
       "      <td>1.237499</td>\n",
       "      <td>34.07</td>\n",
       "      <td>43.2</td>\n",
       "      <td>94.71411</td>\n",
       "      <td>29.61720</td>\n",
       "      <td>0.849999</td>\n",
       "      <td>60.74240</td>\n",
       "      <td>...</td>\n",
       "      <td>153278.0</td>\n",
       "      <td>169905.0</td>\n",
       "      <td>178279.0</td>\n",
       "      <td>49.346500</td>\n",
       "      <td>0.151293</td>\n",
       "      <td>10.969676</td>\n",
       "      <td>0.017709</td>\n",
       "      <td>2.632476</td>\n",
       "      <td>0.000484</td>\n",
       "      <td>1</td>\n",
       "    </tr>\n",
       "    <tr>\n",
       "      <th>7</th>\n",
       "      <td>178.75</td>\n",
       "      <td>3080.730</td>\n",
       "      <td>42.0</td>\n",
       "      <td>1.312500</td>\n",
       "      <td>33.67</td>\n",
       "      <td>43.2</td>\n",
       "      <td>94.93970</td>\n",
       "      <td>29.61720</td>\n",
       "      <td>0.774998</td>\n",
       "      <td>61.99442</td>\n",
       "      <td>...</td>\n",
       "      <td>152973.0</td>\n",
       "      <td>169576.0</td>\n",
       "      <td>177955.0</td>\n",
       "      <td>5.096756</td>\n",
       "      <td>0.015944</td>\n",
       "      <td>-0.287779</td>\n",
       "      <td>-0.003404</td>\n",
       "      <td>3.141537</td>\n",
       "      <td>0.001336</td>\n",
       "      <td>1</td>\n",
       "    </tr>\n",
       "    <tr>\n",
       "      <th>8</th>\n",
       "      <td>178.65</td>\n",
       "      <td>3071.981</td>\n",
       "      <td>34.0</td>\n",
       "      <td>1.462498</td>\n",
       "      <td>34.12</td>\n",
       "      <td>43.1</td>\n",
       "      <td>95.43774</td>\n",
       "      <td>29.51721</td>\n",
       "      <td>0.725000</td>\n",
       "      <td>38.27238</td>\n",
       "      <td>...</td>\n",
       "      <td>152871.0</td>\n",
       "      <td>169583.0</td>\n",
       "      <td>177950.0</td>\n",
       "      <td>27.753040</td>\n",
       "      <td>0.085244</td>\n",
       "      <td>10.691397</td>\n",
       "      <td>0.017188</td>\n",
       "      <td>16.297215</td>\n",
       "      <td>0.023372</td>\n",
       "      <td>3</td>\n",
       "    </tr>\n",
       "    <tr>\n",
       "      <th>...</th>\n",
       "      <td>...</td>\n",
       "      <td>...</td>\n",
       "      <td>...</td>\n",
       "      <td>...</td>\n",
       "      <td>...</td>\n",
       "      <td>...</td>\n",
       "      <td>...</td>\n",
       "      <td>...</td>\n",
       "      <td>...</td>\n",
       "      <td>...</td>\n",
       "      <td>...</td>\n",
       "      <td>...</td>\n",
       "      <td>...</td>\n",
       "      <td>...</td>\n",
       "      <td>...</td>\n",
       "      <td>...</td>\n",
       "      <td>...</td>\n",
       "      <td>...</td>\n",
       "      <td>...</td>\n",
       "      <td>...</td>\n",
       "      <td>...</td>\n",
       "    </tr>\n",
       "    <tr>\n",
       "      <th>9558</th>\n",
       "      <td>189.57</td>\n",
       "      <td>3012.240</td>\n",
       "      <td>30.0</td>\n",
       "      <td>1.212498</td>\n",
       "      <td>33.97</td>\n",
       "      <td>43.4</td>\n",
       "      <td>93.84644</td>\n",
       "      <td>29.81721</td>\n",
       "      <td>0.675000</td>\n",
       "      <td>61.34911</td>\n",
       "      <td>...</td>\n",
       "      <td>166751.0</td>\n",
       "      <td>180397.0</td>\n",
       "      <td>188697.0</td>\n",
       "      <td>30.721352</td>\n",
       "      <td>0.094324</td>\n",
       "      <td>12.779609</td>\n",
       "      <td>0.021104</td>\n",
       "      <td>26.086159</td>\n",
       "      <td>0.039767</td>\n",
       "      <td>4</td>\n",
       "    </tr>\n",
       "    <tr>\n",
       "      <th>9559</th>\n",
       "      <td>189.57</td>\n",
       "      <td>3012.240</td>\n",
       "      <td>30.0</td>\n",
       "      <td>1.212498</td>\n",
       "      <td>33.97</td>\n",
       "      <td>43.4</td>\n",
       "      <td>93.84644</td>\n",
       "      <td>29.81721</td>\n",
       "      <td>0.675000</td>\n",
       "      <td>61.34911</td>\n",
       "      <td>...</td>\n",
       "      <td>166751.0</td>\n",
       "      <td>180397.0</td>\n",
       "      <td>188697.0</td>\n",
       "      <td>0.028498</td>\n",
       "      <td>0.000442</td>\n",
       "      <td>0.238046</td>\n",
       "      <td>-0.002417</td>\n",
       "      <td>1.690350</td>\n",
       "      <td>-0.001094</td>\n",
       "      <td>1</td>\n",
       "    </tr>\n",
       "    <tr>\n",
       "      <th>9560</th>\n",
       "      <td>191.65</td>\n",
       "      <td>3056.628</td>\n",
       "      <td>33.0</td>\n",
       "      <td>1.174999</td>\n",
       "      <td>34.33</td>\n",
       "      <td>43.5</td>\n",
       "      <td>93.91016</td>\n",
       "      <td>29.91720</td>\n",
       "      <td>0.612499</td>\n",
       "      <td>58.67612</td>\n",
       "      <td>...</td>\n",
       "      <td>169297.0</td>\n",
       "      <td>183023.0</td>\n",
       "      <td>191344.0</td>\n",
       "      <td>2.345815</td>\n",
       "      <td>0.007530</td>\n",
       "      <td>5.082227</td>\n",
       "      <td>0.006668</td>\n",
       "      <td>11.262484</td>\n",
       "      <td>0.014938</td>\n",
       "      <td>1</td>\n",
       "    </tr>\n",
       "    <tr>\n",
       "      <th>9561</th>\n",
       "      <td>191.65</td>\n",
       "      <td>3056.628</td>\n",
       "      <td>33.0</td>\n",
       "      <td>1.174999</td>\n",
       "      <td>34.33</td>\n",
       "      <td>43.5</td>\n",
       "      <td>93.91016</td>\n",
       "      <td>29.91720</td>\n",
       "      <td>0.612499</td>\n",
       "      <td>58.67612</td>\n",
       "      <td>...</td>\n",
       "      <td>169297.0</td>\n",
       "      <td>183023.0</td>\n",
       "      <td>191344.0</td>\n",
       "      <td>2.345815</td>\n",
       "      <td>0.007530</td>\n",
       "      <td>5.082227</td>\n",
       "      <td>0.006668</td>\n",
       "      <td>11.262484</td>\n",
       "      <td>0.014938</td>\n",
       "      <td>1</td>\n",
       "    </tr>\n",
       "    <tr>\n",
       "      <th>9568</th>\n",
       "      <td>190.85</td>\n",
       "      <td>3032.417</td>\n",
       "      <td>63.0</td>\n",
       "      <td>1.149998</td>\n",
       "      <td>34.08</td>\n",
       "      <td>43.5</td>\n",
       "      <td>93.46216</td>\n",
       "      <td>29.91720</td>\n",
       "      <td>0.637500</td>\n",
       "      <td>57.15001</td>\n",
       "      <td>...</td>\n",
       "      <td>167814.0</td>\n",
       "      <td>182044.0</td>\n",
       "      <td>190468.0</td>\n",
       "      <td>32.271446</td>\n",
       "      <td>0.099065</td>\n",
       "      <td>10.852888</td>\n",
       "      <td>0.017490</td>\n",
       "      <td>7.027946</td>\n",
       "      <td>0.007846</td>\n",
       "      <td>1</td>\n",
       "    </tr>\n",
       "  </tbody>\n",
       "</table>\n",
       "<p>2630 rows × 98 columns</p>\n",
       "</div>"
      ],
      "text/plain": [
       "          0         1     2         3      4     5         6         7   \\\n",
       "0     179.08  3055.142  27.0  1.500000  34.52  43.0  95.01392  29.41720   \n",
       "5     220.16  3042.356  37.0  1.237499  34.07  43.2  94.71411  29.61720   \n",
       "6     220.16  3042.356  37.0  1.237499  34.07  43.2  94.71411  29.61720   \n",
       "7     178.75  3080.730  42.0  1.312500  33.67  43.2  94.93970  29.61720   \n",
       "8     178.65  3071.981  34.0  1.462498  34.12  43.1  95.43774  29.51721   \n",
       "...      ...       ...   ...       ...    ...   ...       ...       ...   \n",
       "9558  189.57  3012.240  30.0  1.212498  33.97  43.4  93.84644  29.81721   \n",
       "9559  189.57  3012.240  30.0  1.212498  33.97  43.4  93.84644  29.81721   \n",
       "9560  191.65  3056.628  33.0  1.174999  34.33  43.5  93.91016  29.91720   \n",
       "9561  191.65  3056.628  33.0  1.174999  34.33  43.5  93.91016  29.91720   \n",
       "9568  190.85  3032.417  63.0  1.149998  34.08  43.5  93.46216  29.91720   \n",
       "\n",
       "            8         9   ...        88        89        90         91  \\\n",
       "0     0.787498  56.47257  ...  153569.0  170236.0  178610.0   0.116788   \n",
       "5     0.849999  60.74240  ...  153278.0  169905.0  178279.0  51.337479   \n",
       "6     0.849999  60.74240  ...  153278.0  169905.0  178279.0  49.346500   \n",
       "7     0.774998  61.99442  ...  152973.0  169576.0  177955.0   5.096756   \n",
       "8     0.725000  38.27238  ...  152871.0  169583.0  177950.0  27.753040   \n",
       "...        ...       ...  ...       ...       ...       ...        ...   \n",
       "9558  0.675000  61.34911  ...  166751.0  180397.0  188697.0  30.721352   \n",
       "9559  0.675000  61.34911  ...  166751.0  180397.0  188697.0   0.028498   \n",
       "9560  0.612499  58.67612  ...  169297.0  183023.0  191344.0   2.345815   \n",
       "9561  0.612499  58.67612  ...  169297.0  183023.0  191344.0   2.345815   \n",
       "9568  0.637500  57.15001  ...  167814.0  182044.0  190468.0  32.271446   \n",
       "\n",
       "            92         93        94         95        96  97  \n",
       "0     0.000712  -1.993775 -0.006603   1.403689 -0.001574   1  \n",
       "5     0.157384  13.864785  0.023139   9.124539  0.011357   2  \n",
       "6     0.151293  10.969676  0.017709   2.632476  0.000484   1  \n",
       "7     0.015944  -0.287779 -0.003404   3.141537  0.001336   1  \n",
       "8     0.085244  10.691397  0.017188  16.297215  0.023372   3  \n",
       "...        ...        ...       ...        ...       ...  ..  \n",
       "9558  0.094324  12.779609  0.021104  26.086159  0.039767   4  \n",
       "9559  0.000442   0.238046 -0.002417   1.690350 -0.001094   1  \n",
       "9560  0.007530   5.082227  0.006668  11.262484  0.014938   1  \n",
       "9561  0.007530   5.082227  0.006668  11.262484  0.014938   1  \n",
       "9568  0.099065  10.852888  0.017490   7.027946  0.007846   1  \n",
       "\n",
       "[2630 rows x 98 columns]"
      ]
     },
     "execution_count": 62,
     "metadata": {},
     "output_type": "execute_result"
    }
   ],
   "source": [
    "data"
   ]
  },
  {
   "cell_type": "code",
   "execution_count": 63,
   "id": "f24e7303",
   "metadata": {},
   "outputs": [],
   "source": [
    "data = data.iloc[:, :-1]"
   ]
  },
  {
   "cell_type": "code",
   "execution_count": 64,
   "id": "3c770495",
   "metadata": {},
   "outputs": [],
   "source": [
    "# normalize the dataset using stdscaler/MinMaxScaler\n",
    "scaler = MinMaxScaler()\n",
    "scaler.fit(data)\n",
    "data_norm = scaler.transform(data)"
   ]
  },
  {
   "cell_type": "code",
   "execution_count": 65,
   "id": "57ff7688",
   "metadata": {},
   "outputs": [],
   "source": [
    "data_norm = pd.DataFrame(data_norm)"
   ]
  },
  {
   "cell_type": "code",
   "execution_count": 66,
   "id": "d3814e1a",
   "metadata": {},
   "outputs": [],
   "source": [
    "data_norm = data_norm.reset_index()"
   ]
  },
  {
   "cell_type": "code",
   "execution_count": 67,
   "id": "6ea14fec",
   "metadata": {},
   "outputs": [
    {
     "data": {
      "text/plain": [
       "((2630, 98),\n",
       " index    0.0\n",
       " 0        0.0\n",
       " 1        0.0\n",
       " 2        0.0\n",
       " 3        0.0\n",
       "         ... \n",
       " 92       0.0\n",
       " 93       0.0\n",
       " 94       0.0\n",
       " 95       0.0\n",
       " 96       0.0\n",
       " Length: 98, dtype: float64,\n",
       " index    2629.0\n",
       " 0           1.0\n",
       " 1           1.0\n",
       " 2           1.0\n",
       " 3           1.0\n",
       "           ...  \n",
       " 92          1.0\n",
       " 93          1.0\n",
       " 94          1.0\n",
       " 95          1.0\n",
       " 96          1.0\n",
       " Length: 98, dtype: float64)"
      ]
     },
     "execution_count": 67,
     "metadata": {},
     "output_type": "execute_result"
    }
   ],
   "source": [
    "data_norm.shape, data_norm.min(), data_norm.max()"
   ]
  },
  {
   "cell_type": "code",
   "execution_count": 68,
   "id": "bf95b21b",
   "metadata": {},
   "outputs": [],
   "source": [
    "data_norm = data_norm.drop(['index'], axis = 1)"
   ]
  },
  {
   "cell_type": "code",
   "execution_count": 69,
   "id": "a68f0c65",
   "metadata": {},
   "outputs": [
    {
     "data": {
      "text/html": [
       "<div>\n",
       "<style scoped>\n",
       "    .dataframe tbody tr th:only-of-type {\n",
       "        vertical-align: middle;\n",
       "    }\n",
       "\n",
       "    .dataframe tbody tr th {\n",
       "        vertical-align: top;\n",
       "    }\n",
       "\n",
       "    .dataframe thead th {\n",
       "        text-align: right;\n",
       "    }\n",
       "</style>\n",
       "<table border=\"1\" class=\"dataframe\">\n",
       "  <thead>\n",
       "    <tr style=\"text-align: right;\">\n",
       "      <th></th>\n",
       "      <th>0</th>\n",
       "      <th>1</th>\n",
       "      <th>2</th>\n",
       "      <th>3</th>\n",
       "      <th>4</th>\n",
       "      <th>5</th>\n",
       "      <th>6</th>\n",
       "      <th>7</th>\n",
       "      <th>8</th>\n",
       "      <th>9</th>\n",
       "      <th>...</th>\n",
       "      <th>87</th>\n",
       "      <th>88</th>\n",
       "      <th>89</th>\n",
       "      <th>90</th>\n",
       "      <th>91</th>\n",
       "      <th>92</th>\n",
       "      <th>93</th>\n",
       "      <th>94</th>\n",
       "      <th>95</th>\n",
       "      <th>96</th>\n",
       "    </tr>\n",
       "  </thead>\n",
       "  <tbody>\n",
       "    <tr>\n",
       "      <th>0</th>\n",
       "      <td>0.007265</td>\n",
       "      <td>0.974576</td>\n",
       "      <td>0.003033</td>\n",
       "      <td>0.017742</td>\n",
       "      <td>0.771739</td>\n",
       "      <td>0.470588</td>\n",
       "      <td>0.005161</td>\n",
       "      <td>0.470585</td>\n",
       "      <td>0.988867</td>\n",
       "      <td>0.717924</td>\n",
       "      <td>...</td>\n",
       "      <td>0.509580</td>\n",
       "      <td>0.382647</td>\n",
       "      <td>0.776922</td>\n",
       "      <td>0.451033</td>\n",
       "      <td>0.002309</td>\n",
       "      <td>0.002310</td>\n",
       "      <td>0.010015</td>\n",
       "      <td>0.010015</td>\n",
       "      <td>0.017086</td>\n",
       "      <td>0.017088</td>\n",
       "    </tr>\n",
       "    <tr>\n",
       "      <th>1</th>\n",
       "      <td>0.701301</td>\n",
       "      <td>0.968310</td>\n",
       "      <td>0.008089</td>\n",
       "      <td>0.011828</td>\n",
       "      <td>0.608696</td>\n",
       "      <td>0.588235</td>\n",
       "      <td>0.004664</td>\n",
       "      <td>0.588232</td>\n",
       "      <td>0.990294</td>\n",
       "      <td>0.790885</td>\n",
       "      <td>...</td>\n",
       "      <td>0.508959</td>\n",
       "      <td>0.381922</td>\n",
       "      <td>0.775411</td>\n",
       "      <td>0.450197</td>\n",
       "      <td>0.080821</td>\n",
       "      <td>0.080822</td>\n",
       "      <td>0.049354</td>\n",
       "      <td>0.049354</td>\n",
       "      <td>0.032994</td>\n",
       "      <td>0.032995</td>\n",
       "    </tr>\n",
       "    <tr>\n",
       "      <th>2</th>\n",
       "      <td>0.701301</td>\n",
       "      <td>0.968310</td>\n",
       "      <td>0.008089</td>\n",
       "      <td>0.011828</td>\n",
       "      <td>0.608696</td>\n",
       "      <td>0.588235</td>\n",
       "      <td>0.004664</td>\n",
       "      <td>0.588232</td>\n",
       "      <td>0.990294</td>\n",
       "      <td>0.790885</td>\n",
       "      <td>...</td>\n",
       "      <td>0.508959</td>\n",
       "      <td>0.381922</td>\n",
       "      <td>0.775411</td>\n",
       "      <td>0.450197</td>\n",
       "      <td>0.077769</td>\n",
       "      <td>0.077770</td>\n",
       "      <td>0.042172</td>\n",
       "      <td>0.042172</td>\n",
       "      <td>0.019618</td>\n",
       "      <td>0.019619</td>\n",
       "    </tr>\n",
       "    <tr>\n",
       "      <th>3</th>\n",
       "      <td>0.001689</td>\n",
       "      <td>0.987116</td>\n",
       "      <td>0.010617</td>\n",
       "      <td>0.013517</td>\n",
       "      <td>0.463768</td>\n",
       "      <td>0.588235</td>\n",
       "      <td>0.005038</td>\n",
       "      <td>0.588232</td>\n",
       "      <td>0.988581</td>\n",
       "      <td>0.812279</td>\n",
       "      <td>...</td>\n",
       "      <td>0.507705</td>\n",
       "      <td>0.381162</td>\n",
       "      <td>0.773910</td>\n",
       "      <td>0.449379</td>\n",
       "      <td>0.009943</td>\n",
       "      <td>0.009943</td>\n",
       "      <td>0.014247</td>\n",
       "      <td>0.014246</td>\n",
       "      <td>0.020666</td>\n",
       "      <td>0.020668</td>\n",
       "    </tr>\n",
       "    <tr>\n",
       "      <th>4</th>\n",
       "      <td>0.000000</td>\n",
       "      <td>0.982828</td>\n",
       "      <td>0.006572</td>\n",
       "      <td>0.016897</td>\n",
       "      <td>0.626812</td>\n",
       "      <td>0.529412</td>\n",
       "      <td>0.005863</td>\n",
       "      <td>0.529415</td>\n",
       "      <td>0.987439</td>\n",
       "      <td>0.406927</td>\n",
       "      <td>...</td>\n",
       "      <td>0.507631</td>\n",
       "      <td>0.380908</td>\n",
       "      <td>0.773942</td>\n",
       "      <td>0.449366</td>\n",
       "      <td>0.044670</td>\n",
       "      <td>0.044671</td>\n",
       "      <td>0.041482</td>\n",
       "      <td>0.041483</td>\n",
       "      <td>0.047772</td>\n",
       "      <td>0.047774</td>\n",
       "    </tr>\n",
       "    <tr>\n",
       "      <th>...</th>\n",
       "      <td>...</td>\n",
       "      <td>...</td>\n",
       "      <td>...</td>\n",
       "      <td>...</td>\n",
       "      <td>...</td>\n",
       "      <td>...</td>\n",
       "      <td>...</td>\n",
       "      <td>...</td>\n",
       "      <td>...</td>\n",
       "      <td>...</td>\n",
       "      <td>...</td>\n",
       "      <td>...</td>\n",
       "      <td>...</td>\n",
       "      <td>...</td>\n",
       "      <td>...</td>\n",
       "      <td>...</td>\n",
       "      <td>...</td>\n",
       "      <td>...</td>\n",
       "      <td>...</td>\n",
       "      <td>...</td>\n",
       "      <td>...</td>\n",
       "    </tr>\n",
       "    <tr>\n",
       "      <th>2625</th>\n",
       "      <td>0.184491</td>\n",
       "      <td>0.953552</td>\n",
       "      <td>0.004550</td>\n",
       "      <td>0.011264</td>\n",
       "      <td>0.572464</td>\n",
       "      <td>0.705882</td>\n",
       "      <td>0.003227</td>\n",
       "      <td>0.705884</td>\n",
       "      <td>0.986297</td>\n",
       "      <td>0.801253</td>\n",
       "      <td>...</td>\n",
       "      <td>0.540225</td>\n",
       "      <td>0.415493</td>\n",
       "      <td>0.823295</td>\n",
       "      <td>0.476505</td>\n",
       "      <td>0.049220</td>\n",
       "      <td>0.049221</td>\n",
       "      <td>0.046662</td>\n",
       "      <td>0.046663</td>\n",
       "      <td>0.067941</td>\n",
       "      <td>0.067943</td>\n",
       "    </tr>\n",
       "    <tr>\n",
       "      <th>2626</th>\n",
       "      <td>0.184491</td>\n",
       "      <td>0.953552</td>\n",
       "      <td>0.004550</td>\n",
       "      <td>0.011264</td>\n",
       "      <td>0.572464</td>\n",
       "      <td>0.705882</td>\n",
       "      <td>0.003227</td>\n",
       "      <td>0.705884</td>\n",
       "      <td>0.986297</td>\n",
       "      <td>0.801253</td>\n",
       "      <td>...</td>\n",
       "      <td>0.540225</td>\n",
       "      <td>0.415493</td>\n",
       "      <td>0.823295</td>\n",
       "      <td>0.476505</td>\n",
       "      <td>0.002174</td>\n",
       "      <td>0.002175</td>\n",
       "      <td>0.015551</td>\n",
       "      <td>0.015552</td>\n",
       "      <td>0.017676</td>\n",
       "      <td>0.017678</td>\n",
       "    </tr>\n",
       "    <tr>\n",
       "      <th>2627</th>\n",
       "      <td>0.219632</td>\n",
       "      <td>0.975304</td>\n",
       "      <td>0.006067</td>\n",
       "      <td>0.010420</td>\n",
       "      <td>0.702899</td>\n",
       "      <td>0.764706</td>\n",
       "      <td>0.003333</td>\n",
       "      <td>0.764701</td>\n",
       "      <td>0.984870</td>\n",
       "      <td>0.755578</td>\n",
       "      <td>...</td>\n",
       "      <td>0.548338</td>\n",
       "      <td>0.421837</td>\n",
       "      <td>0.835279</td>\n",
       "      <td>0.483189</td>\n",
       "      <td>0.005726</td>\n",
       "      <td>0.005726</td>\n",
       "      <td>0.027568</td>\n",
       "      <td>0.027569</td>\n",
       "      <td>0.037399</td>\n",
       "      <td>0.037400</td>\n",
       "    </tr>\n",
       "    <tr>\n",
       "      <th>2628</th>\n",
       "      <td>0.219632</td>\n",
       "      <td>0.975304</td>\n",
       "      <td>0.006067</td>\n",
       "      <td>0.010420</td>\n",
       "      <td>0.702899</td>\n",
       "      <td>0.764706</td>\n",
       "      <td>0.003333</td>\n",
       "      <td>0.764701</td>\n",
       "      <td>0.984870</td>\n",
       "      <td>0.755578</td>\n",
       "      <td>...</td>\n",
       "      <td>0.548338</td>\n",
       "      <td>0.421837</td>\n",
       "      <td>0.835279</td>\n",
       "      <td>0.483189</td>\n",
       "      <td>0.005726</td>\n",
       "      <td>0.005726</td>\n",
       "      <td>0.027568</td>\n",
       "      <td>0.027569</td>\n",
       "      <td>0.037399</td>\n",
       "      <td>0.037400</td>\n",
       "    </tr>\n",
       "    <tr>\n",
       "      <th>2629</th>\n",
       "      <td>0.206116</td>\n",
       "      <td>0.963440</td>\n",
       "      <td>0.021234</td>\n",
       "      <td>0.009856</td>\n",
       "      <td>0.612319</td>\n",
       "      <td>0.764706</td>\n",
       "      <td>0.002591</td>\n",
       "      <td>0.764701</td>\n",
       "      <td>0.985441</td>\n",
       "      <td>0.729500</td>\n",
       "      <td>...</td>\n",
       "      <td>0.545848</td>\n",
       "      <td>0.418142</td>\n",
       "      <td>0.830811</td>\n",
       "      <td>0.480977</td>\n",
       "      <td>0.051596</td>\n",
       "      <td>0.051597</td>\n",
       "      <td>0.041883</td>\n",
       "      <td>0.041883</td>\n",
       "      <td>0.028674</td>\n",
       "      <td>0.028676</td>\n",
       "    </tr>\n",
       "  </tbody>\n",
       "</table>\n",
       "<p>2630 rows × 97 columns</p>\n",
       "</div>"
      ],
      "text/plain": [
       "            0         1         2         3         4         5         6   \\\n",
       "0     0.007265  0.974576  0.003033  0.017742  0.771739  0.470588  0.005161   \n",
       "1     0.701301  0.968310  0.008089  0.011828  0.608696  0.588235  0.004664   \n",
       "2     0.701301  0.968310  0.008089  0.011828  0.608696  0.588235  0.004664   \n",
       "3     0.001689  0.987116  0.010617  0.013517  0.463768  0.588235  0.005038   \n",
       "4     0.000000  0.982828  0.006572  0.016897  0.626812  0.529412  0.005863   \n",
       "...        ...       ...       ...       ...       ...       ...       ...   \n",
       "2625  0.184491  0.953552  0.004550  0.011264  0.572464  0.705882  0.003227   \n",
       "2626  0.184491  0.953552  0.004550  0.011264  0.572464  0.705882  0.003227   \n",
       "2627  0.219632  0.975304  0.006067  0.010420  0.702899  0.764706  0.003333   \n",
       "2628  0.219632  0.975304  0.006067  0.010420  0.702899  0.764706  0.003333   \n",
       "2629  0.206116  0.963440  0.021234  0.009856  0.612319  0.764706  0.002591   \n",
       "\n",
       "            7         8         9   ...        87        88        89  \\\n",
       "0     0.470585  0.988867  0.717924  ...  0.509580  0.382647  0.776922   \n",
       "1     0.588232  0.990294  0.790885  ...  0.508959  0.381922  0.775411   \n",
       "2     0.588232  0.990294  0.790885  ...  0.508959  0.381922  0.775411   \n",
       "3     0.588232  0.988581  0.812279  ...  0.507705  0.381162  0.773910   \n",
       "4     0.529415  0.987439  0.406927  ...  0.507631  0.380908  0.773942   \n",
       "...        ...       ...       ...  ...       ...       ...       ...   \n",
       "2625  0.705884  0.986297  0.801253  ...  0.540225  0.415493  0.823295   \n",
       "2626  0.705884  0.986297  0.801253  ...  0.540225  0.415493  0.823295   \n",
       "2627  0.764701  0.984870  0.755578  ...  0.548338  0.421837  0.835279   \n",
       "2628  0.764701  0.984870  0.755578  ...  0.548338  0.421837  0.835279   \n",
       "2629  0.764701  0.985441  0.729500  ...  0.545848  0.418142  0.830811   \n",
       "\n",
       "            90        91        92        93        94        95        96  \n",
       "0     0.451033  0.002309  0.002310  0.010015  0.010015  0.017086  0.017088  \n",
       "1     0.450197  0.080821  0.080822  0.049354  0.049354  0.032994  0.032995  \n",
       "2     0.450197  0.077769  0.077770  0.042172  0.042172  0.019618  0.019619  \n",
       "3     0.449379  0.009943  0.009943  0.014247  0.014246  0.020666  0.020668  \n",
       "4     0.449366  0.044670  0.044671  0.041482  0.041483  0.047772  0.047774  \n",
       "...        ...       ...       ...       ...       ...       ...       ...  \n",
       "2625  0.476505  0.049220  0.049221  0.046662  0.046663  0.067941  0.067943  \n",
       "2626  0.476505  0.002174  0.002175  0.015551  0.015552  0.017676  0.017678  \n",
       "2627  0.483189  0.005726  0.005726  0.027568  0.027569  0.037399  0.037400  \n",
       "2628  0.483189  0.005726  0.005726  0.027568  0.027569  0.037399  0.037400  \n",
       "2629  0.480977  0.051596  0.051597  0.041883  0.041883  0.028674  0.028676  \n",
       "\n",
       "[2630 rows x 97 columns]"
      ]
     },
     "execution_count": 69,
     "metadata": {},
     "output_type": "execute_result"
    }
   ],
   "source": [
    "data_norm"
   ]
  },
  {
   "cell_type": "code",
   "execution_count": 70,
   "id": "210fc566",
   "metadata": {},
   "outputs": [],
   "source": [
    "Quality = Quality.reset_index()"
   ]
  },
  {
   "cell_type": "code",
   "execution_count": 71,
   "id": "6dd8b1ab",
   "metadata": {},
   "outputs": [],
   "source": [
    "Quality = Quality.drop(['index'], axis = 1)"
   ]
  },
  {
   "cell_type": "code",
   "execution_count": 72,
   "id": "14507746",
   "metadata": {},
   "outputs": [
    {
     "data": {
      "text/html": [
       "<div>\n",
       "<style scoped>\n",
       "    .dataframe tbody tr th:only-of-type {\n",
       "        vertical-align: middle;\n",
       "    }\n",
       "\n",
       "    .dataframe tbody tr th {\n",
       "        vertical-align: top;\n",
       "    }\n",
       "\n",
       "    .dataframe thead th {\n",
       "        text-align: right;\n",
       "    }\n",
       "</style>\n",
       "<table border=\"1\" class=\"dataframe\">\n",
       "  <thead>\n",
       "    <tr style=\"text-align: right;\">\n",
       "      <th></th>\n",
       "      <th>Quality</th>\n",
       "    </tr>\n",
       "  </thead>\n",
       "  <tbody>\n",
       "    <tr>\n",
       "      <th>0</th>\n",
       "      <td>1</td>\n",
       "    </tr>\n",
       "    <tr>\n",
       "      <th>1</th>\n",
       "      <td>2</td>\n",
       "    </tr>\n",
       "    <tr>\n",
       "      <th>2</th>\n",
       "      <td>1</td>\n",
       "    </tr>\n",
       "    <tr>\n",
       "      <th>3</th>\n",
       "      <td>1</td>\n",
       "    </tr>\n",
       "    <tr>\n",
       "      <th>4</th>\n",
       "      <td>3</td>\n",
       "    </tr>\n",
       "    <tr>\n",
       "      <th>...</th>\n",
       "      <td>...</td>\n",
       "    </tr>\n",
       "    <tr>\n",
       "      <th>2625</th>\n",
       "      <td>4</td>\n",
       "    </tr>\n",
       "    <tr>\n",
       "      <th>2626</th>\n",
       "      <td>1</td>\n",
       "    </tr>\n",
       "    <tr>\n",
       "      <th>2627</th>\n",
       "      <td>1</td>\n",
       "    </tr>\n",
       "    <tr>\n",
       "      <th>2628</th>\n",
       "      <td>1</td>\n",
       "    </tr>\n",
       "    <tr>\n",
       "      <th>2629</th>\n",
       "      <td>1</td>\n",
       "    </tr>\n",
       "  </tbody>\n",
       "</table>\n",
       "<p>2630 rows × 1 columns</p>\n",
       "</div>"
      ],
      "text/plain": [
       "      Quality\n",
       "0           1\n",
       "1           2\n",
       "2           1\n",
       "3           1\n",
       "4           3\n",
       "...       ...\n",
       "2625        4\n",
       "2626        1\n",
       "2627        1\n",
       "2628        1\n",
       "2629        1\n",
       "\n",
       "[2630 rows x 1 columns]"
      ]
     },
     "execution_count": 72,
     "metadata": {},
     "output_type": "execute_result"
    }
   ],
   "source": [
    "Quality"
   ]
  },
  {
   "cell_type": "code",
   "execution_count": 73,
   "id": "457aa458",
   "metadata": {},
   "outputs": [],
   "source": [
    "# Below is the final transformed dataset with the quality levels\n",
    "data_norm = pd.concat([data_norm,Quality], axis = 1)"
   ]
  },
  {
   "cell_type": "code",
   "execution_count": 74,
   "id": "94a84d85",
   "metadata": {},
   "outputs": [
    {
     "data": {
      "text/html": [
       "<div>\n",
       "<style scoped>\n",
       "    .dataframe tbody tr th:only-of-type {\n",
       "        vertical-align: middle;\n",
       "    }\n",
       "\n",
       "    .dataframe tbody tr th {\n",
       "        vertical-align: top;\n",
       "    }\n",
       "\n",
       "    .dataframe thead th {\n",
       "        text-align: right;\n",
       "    }\n",
       "</style>\n",
       "<table border=\"1\" class=\"dataframe\">\n",
       "  <thead>\n",
       "    <tr style=\"text-align: right;\">\n",
       "      <th></th>\n",
       "      <th>0</th>\n",
       "      <th>1</th>\n",
       "      <th>2</th>\n",
       "      <th>3</th>\n",
       "      <th>4</th>\n",
       "      <th>5</th>\n",
       "      <th>6</th>\n",
       "      <th>7</th>\n",
       "      <th>8</th>\n",
       "      <th>9</th>\n",
       "      <th>...</th>\n",
       "      <th>88</th>\n",
       "      <th>89</th>\n",
       "      <th>90</th>\n",
       "      <th>91</th>\n",
       "      <th>92</th>\n",
       "      <th>93</th>\n",
       "      <th>94</th>\n",
       "      <th>95</th>\n",
       "      <th>96</th>\n",
       "      <th>Quality</th>\n",
       "    </tr>\n",
       "  </thead>\n",
       "  <tbody>\n",
       "    <tr>\n",
       "      <th>0</th>\n",
       "      <td>0.007265</td>\n",
       "      <td>0.974576</td>\n",
       "      <td>0.003033</td>\n",
       "      <td>0.017742</td>\n",
       "      <td>0.771739</td>\n",
       "      <td>0.470588</td>\n",
       "      <td>0.005161</td>\n",
       "      <td>0.470585</td>\n",
       "      <td>0.988867</td>\n",
       "      <td>0.717924</td>\n",
       "      <td>...</td>\n",
       "      <td>0.382647</td>\n",
       "      <td>0.776922</td>\n",
       "      <td>0.451033</td>\n",
       "      <td>0.002309</td>\n",
       "      <td>0.002310</td>\n",
       "      <td>0.010015</td>\n",
       "      <td>0.010015</td>\n",
       "      <td>0.017086</td>\n",
       "      <td>0.017088</td>\n",
       "      <td>1</td>\n",
       "    </tr>\n",
       "    <tr>\n",
       "      <th>1</th>\n",
       "      <td>0.701301</td>\n",
       "      <td>0.968310</td>\n",
       "      <td>0.008089</td>\n",
       "      <td>0.011828</td>\n",
       "      <td>0.608696</td>\n",
       "      <td>0.588235</td>\n",
       "      <td>0.004664</td>\n",
       "      <td>0.588232</td>\n",
       "      <td>0.990294</td>\n",
       "      <td>0.790885</td>\n",
       "      <td>...</td>\n",
       "      <td>0.381922</td>\n",
       "      <td>0.775411</td>\n",
       "      <td>0.450197</td>\n",
       "      <td>0.080821</td>\n",
       "      <td>0.080822</td>\n",
       "      <td>0.049354</td>\n",
       "      <td>0.049354</td>\n",
       "      <td>0.032994</td>\n",
       "      <td>0.032995</td>\n",
       "      <td>2</td>\n",
       "    </tr>\n",
       "    <tr>\n",
       "      <th>2</th>\n",
       "      <td>0.701301</td>\n",
       "      <td>0.968310</td>\n",
       "      <td>0.008089</td>\n",
       "      <td>0.011828</td>\n",
       "      <td>0.608696</td>\n",
       "      <td>0.588235</td>\n",
       "      <td>0.004664</td>\n",
       "      <td>0.588232</td>\n",
       "      <td>0.990294</td>\n",
       "      <td>0.790885</td>\n",
       "      <td>...</td>\n",
       "      <td>0.381922</td>\n",
       "      <td>0.775411</td>\n",
       "      <td>0.450197</td>\n",
       "      <td>0.077769</td>\n",
       "      <td>0.077770</td>\n",
       "      <td>0.042172</td>\n",
       "      <td>0.042172</td>\n",
       "      <td>0.019618</td>\n",
       "      <td>0.019619</td>\n",
       "      <td>1</td>\n",
       "    </tr>\n",
       "    <tr>\n",
       "      <th>3</th>\n",
       "      <td>0.001689</td>\n",
       "      <td>0.987116</td>\n",
       "      <td>0.010617</td>\n",
       "      <td>0.013517</td>\n",
       "      <td>0.463768</td>\n",
       "      <td>0.588235</td>\n",
       "      <td>0.005038</td>\n",
       "      <td>0.588232</td>\n",
       "      <td>0.988581</td>\n",
       "      <td>0.812279</td>\n",
       "      <td>...</td>\n",
       "      <td>0.381162</td>\n",
       "      <td>0.773910</td>\n",
       "      <td>0.449379</td>\n",
       "      <td>0.009943</td>\n",
       "      <td>0.009943</td>\n",
       "      <td>0.014247</td>\n",
       "      <td>0.014246</td>\n",
       "      <td>0.020666</td>\n",
       "      <td>0.020668</td>\n",
       "      <td>1</td>\n",
       "    </tr>\n",
       "    <tr>\n",
       "      <th>4</th>\n",
       "      <td>0.000000</td>\n",
       "      <td>0.982828</td>\n",
       "      <td>0.006572</td>\n",
       "      <td>0.016897</td>\n",
       "      <td>0.626812</td>\n",
       "      <td>0.529412</td>\n",
       "      <td>0.005863</td>\n",
       "      <td>0.529415</td>\n",
       "      <td>0.987439</td>\n",
       "      <td>0.406927</td>\n",
       "      <td>...</td>\n",
       "      <td>0.380908</td>\n",
       "      <td>0.773942</td>\n",
       "      <td>0.449366</td>\n",
       "      <td>0.044670</td>\n",
       "      <td>0.044671</td>\n",
       "      <td>0.041482</td>\n",
       "      <td>0.041483</td>\n",
       "      <td>0.047772</td>\n",
       "      <td>0.047774</td>\n",
       "      <td>3</td>\n",
       "    </tr>\n",
       "    <tr>\n",
       "      <th>...</th>\n",
       "      <td>...</td>\n",
       "      <td>...</td>\n",
       "      <td>...</td>\n",
       "      <td>...</td>\n",
       "      <td>...</td>\n",
       "      <td>...</td>\n",
       "      <td>...</td>\n",
       "      <td>...</td>\n",
       "      <td>...</td>\n",
       "      <td>...</td>\n",
       "      <td>...</td>\n",
       "      <td>...</td>\n",
       "      <td>...</td>\n",
       "      <td>...</td>\n",
       "      <td>...</td>\n",
       "      <td>...</td>\n",
       "      <td>...</td>\n",
       "      <td>...</td>\n",
       "      <td>...</td>\n",
       "      <td>...</td>\n",
       "      <td>...</td>\n",
       "    </tr>\n",
       "    <tr>\n",
       "      <th>2625</th>\n",
       "      <td>0.184491</td>\n",
       "      <td>0.953552</td>\n",
       "      <td>0.004550</td>\n",
       "      <td>0.011264</td>\n",
       "      <td>0.572464</td>\n",
       "      <td>0.705882</td>\n",
       "      <td>0.003227</td>\n",
       "      <td>0.705884</td>\n",
       "      <td>0.986297</td>\n",
       "      <td>0.801253</td>\n",
       "      <td>...</td>\n",
       "      <td>0.415493</td>\n",
       "      <td>0.823295</td>\n",
       "      <td>0.476505</td>\n",
       "      <td>0.049220</td>\n",
       "      <td>0.049221</td>\n",
       "      <td>0.046662</td>\n",
       "      <td>0.046663</td>\n",
       "      <td>0.067941</td>\n",
       "      <td>0.067943</td>\n",
       "      <td>4</td>\n",
       "    </tr>\n",
       "    <tr>\n",
       "      <th>2626</th>\n",
       "      <td>0.184491</td>\n",
       "      <td>0.953552</td>\n",
       "      <td>0.004550</td>\n",
       "      <td>0.011264</td>\n",
       "      <td>0.572464</td>\n",
       "      <td>0.705882</td>\n",
       "      <td>0.003227</td>\n",
       "      <td>0.705884</td>\n",
       "      <td>0.986297</td>\n",
       "      <td>0.801253</td>\n",
       "      <td>...</td>\n",
       "      <td>0.415493</td>\n",
       "      <td>0.823295</td>\n",
       "      <td>0.476505</td>\n",
       "      <td>0.002174</td>\n",
       "      <td>0.002175</td>\n",
       "      <td>0.015551</td>\n",
       "      <td>0.015552</td>\n",
       "      <td>0.017676</td>\n",
       "      <td>0.017678</td>\n",
       "      <td>1</td>\n",
       "    </tr>\n",
       "    <tr>\n",
       "      <th>2627</th>\n",
       "      <td>0.219632</td>\n",
       "      <td>0.975304</td>\n",
       "      <td>0.006067</td>\n",
       "      <td>0.010420</td>\n",
       "      <td>0.702899</td>\n",
       "      <td>0.764706</td>\n",
       "      <td>0.003333</td>\n",
       "      <td>0.764701</td>\n",
       "      <td>0.984870</td>\n",
       "      <td>0.755578</td>\n",
       "      <td>...</td>\n",
       "      <td>0.421837</td>\n",
       "      <td>0.835279</td>\n",
       "      <td>0.483189</td>\n",
       "      <td>0.005726</td>\n",
       "      <td>0.005726</td>\n",
       "      <td>0.027568</td>\n",
       "      <td>0.027569</td>\n",
       "      <td>0.037399</td>\n",
       "      <td>0.037400</td>\n",
       "      <td>1</td>\n",
       "    </tr>\n",
       "    <tr>\n",
       "      <th>2628</th>\n",
       "      <td>0.219632</td>\n",
       "      <td>0.975304</td>\n",
       "      <td>0.006067</td>\n",
       "      <td>0.010420</td>\n",
       "      <td>0.702899</td>\n",
       "      <td>0.764706</td>\n",
       "      <td>0.003333</td>\n",
       "      <td>0.764701</td>\n",
       "      <td>0.984870</td>\n",
       "      <td>0.755578</td>\n",
       "      <td>...</td>\n",
       "      <td>0.421837</td>\n",
       "      <td>0.835279</td>\n",
       "      <td>0.483189</td>\n",
       "      <td>0.005726</td>\n",
       "      <td>0.005726</td>\n",
       "      <td>0.027568</td>\n",
       "      <td>0.027569</td>\n",
       "      <td>0.037399</td>\n",
       "      <td>0.037400</td>\n",
       "      <td>1</td>\n",
       "    </tr>\n",
       "    <tr>\n",
       "      <th>2629</th>\n",
       "      <td>0.206116</td>\n",
       "      <td>0.963440</td>\n",
       "      <td>0.021234</td>\n",
       "      <td>0.009856</td>\n",
       "      <td>0.612319</td>\n",
       "      <td>0.764706</td>\n",
       "      <td>0.002591</td>\n",
       "      <td>0.764701</td>\n",
       "      <td>0.985441</td>\n",
       "      <td>0.729500</td>\n",
       "      <td>...</td>\n",
       "      <td>0.418142</td>\n",
       "      <td>0.830811</td>\n",
       "      <td>0.480977</td>\n",
       "      <td>0.051596</td>\n",
       "      <td>0.051597</td>\n",
       "      <td>0.041883</td>\n",
       "      <td>0.041883</td>\n",
       "      <td>0.028674</td>\n",
       "      <td>0.028676</td>\n",
       "      <td>1</td>\n",
       "    </tr>\n",
       "  </tbody>\n",
       "</table>\n",
       "<p>2630 rows × 98 columns</p>\n",
       "</div>"
      ],
      "text/plain": [
       "             0         1         2         3         4         5         6  \\\n",
       "0     0.007265  0.974576  0.003033  0.017742  0.771739  0.470588  0.005161   \n",
       "1     0.701301  0.968310  0.008089  0.011828  0.608696  0.588235  0.004664   \n",
       "2     0.701301  0.968310  0.008089  0.011828  0.608696  0.588235  0.004664   \n",
       "3     0.001689  0.987116  0.010617  0.013517  0.463768  0.588235  0.005038   \n",
       "4     0.000000  0.982828  0.006572  0.016897  0.626812  0.529412  0.005863   \n",
       "...        ...       ...       ...       ...       ...       ...       ...   \n",
       "2625  0.184491  0.953552  0.004550  0.011264  0.572464  0.705882  0.003227   \n",
       "2626  0.184491  0.953552  0.004550  0.011264  0.572464  0.705882  0.003227   \n",
       "2627  0.219632  0.975304  0.006067  0.010420  0.702899  0.764706  0.003333   \n",
       "2628  0.219632  0.975304  0.006067  0.010420  0.702899  0.764706  0.003333   \n",
       "2629  0.206116  0.963440  0.021234  0.009856  0.612319  0.764706  0.002591   \n",
       "\n",
       "             7         8         9  ...        88        89        90  \\\n",
       "0     0.470585  0.988867  0.717924  ...  0.382647  0.776922  0.451033   \n",
       "1     0.588232  0.990294  0.790885  ...  0.381922  0.775411  0.450197   \n",
       "2     0.588232  0.990294  0.790885  ...  0.381922  0.775411  0.450197   \n",
       "3     0.588232  0.988581  0.812279  ...  0.381162  0.773910  0.449379   \n",
       "4     0.529415  0.987439  0.406927  ...  0.380908  0.773942  0.449366   \n",
       "...        ...       ...       ...  ...       ...       ...       ...   \n",
       "2625  0.705884  0.986297  0.801253  ...  0.415493  0.823295  0.476505   \n",
       "2626  0.705884  0.986297  0.801253  ...  0.415493  0.823295  0.476505   \n",
       "2627  0.764701  0.984870  0.755578  ...  0.421837  0.835279  0.483189   \n",
       "2628  0.764701  0.984870  0.755578  ...  0.421837  0.835279  0.483189   \n",
       "2629  0.764701  0.985441  0.729500  ...  0.418142  0.830811  0.480977   \n",
       "\n",
       "            91        92        93        94        95        96  Quality  \n",
       "0     0.002309  0.002310  0.010015  0.010015  0.017086  0.017088        1  \n",
       "1     0.080821  0.080822  0.049354  0.049354  0.032994  0.032995        2  \n",
       "2     0.077769  0.077770  0.042172  0.042172  0.019618  0.019619        1  \n",
       "3     0.009943  0.009943  0.014247  0.014246  0.020666  0.020668        1  \n",
       "4     0.044670  0.044671  0.041482  0.041483  0.047772  0.047774        3  \n",
       "...        ...       ...       ...       ...       ...       ...      ...  \n",
       "2625  0.049220  0.049221  0.046662  0.046663  0.067941  0.067943        4  \n",
       "2626  0.002174  0.002175  0.015551  0.015552  0.017676  0.017678        1  \n",
       "2627  0.005726  0.005726  0.027568  0.027569  0.037399  0.037400        1  \n",
       "2628  0.005726  0.005726  0.027568  0.027569  0.037399  0.037400        1  \n",
       "2629  0.051596  0.051597  0.041883  0.041883  0.028674  0.028676        1  \n",
       "\n",
       "[2630 rows x 98 columns]"
      ]
     },
     "execution_count": 74,
     "metadata": {},
     "output_type": "execute_result"
    }
   ],
   "source": [
    "data_norm"
   ]
  },
  {
   "cell_type": "code",
   "execution_count": 75,
   "id": "4d48bfbc",
   "metadata": {},
   "outputs": [],
   "source": [
    "#data_norm.to_csv('./data_copy.csv')"
   ]
  },
  {
   "cell_type": "code",
   "execution_count": 24,
   "id": "1cf73111",
   "metadata": {},
   "outputs": [],
   "source": [
    "#data_norm.columns = data_original.columns"
   ]
  },
  {
   "cell_type": "code",
   "execution_count": 25,
   "id": "b27fd60d",
   "metadata": {},
   "outputs": [],
   "source": [
    "# transform into a numpy array and check for any na values\n",
    "data_norm = np.array(data_norm)"
   ]
  },
  {
   "cell_type": "code",
   "execution_count": 26,
   "id": "7ccbd551",
   "metadata": {},
   "outputs": [
    {
     "data": {
      "text/plain": [
       "False"
      ]
     },
     "execution_count": 26,
     "metadata": {},
     "output_type": "execute_result"
    }
   ],
   "source": [
    "np.all(np.isnan(data_norm))"
   ]
  },
  {
   "cell_type": "code",
   "execution_count": 27,
   "id": "9d1b573c",
   "metadata": {},
   "outputs": [],
   "source": [
    "# define X and y\n",
    "X = data_norm[:, :-1]"
   ]
  },
  {
   "cell_type": "code",
   "execution_count": 28,
   "id": "97974e5b",
   "metadata": {},
   "outputs": [],
   "source": [
    "y = data_norm[:, -1]"
   ]
  },
  {
   "cell_type": "code",
   "execution_count": 29,
   "id": "492d421b",
   "metadata": {},
   "outputs": [
    {
     "data": {
      "text/plain": [
       "(2630, 98)"
      ]
     },
     "execution_count": 29,
     "metadata": {},
     "output_type": "execute_result"
    }
   ],
   "source": [
    "data_norm.shape"
   ]
  },
  {
   "cell_type": "code",
   "execution_count": 30,
   "id": "6864a001",
   "metadata": {},
   "outputs": [],
   "source": [
    "# define the indicator matrix of ones and zeros to mark the missing entries in the data\n",
    "hadamard = np.ones(X.shape)"
   ]
  },
  {
   "cell_type": "code",
   "execution_count": 31,
   "id": "597e8495",
   "metadata": {},
   "outputs": [],
   "source": [
    "# mask entries in the dataset. Mark entries in either a MAR or NMAR manner depending on the mechanism of missingness present in the dataset.\n",
    "import random\n",
    "def mask_randomly(X):\n",
    "    #hadamard_train = np.ones(X.shape)\n",
    "    block_size = 8\n",
    "    row_rand_list = list(np.random.randint(0, (X.shape[0]-block_size), 100))\n",
    "    col_rand_list = []\n",
    "    for i in row_rand_list:\n",
    "        col_rand = random.randint(0, X.shape[1]-block_size)\n",
    "        col_rand_list.append(col_rand)\n",
    "        for j in range(block_size):\n",
    "            for k in range(block_size):\n",
    "                X[i+j][col_rand+k] = -1 \n",
    "    #hadamard_train = np.where(data == -1, 0, hadamard_train)\n",
    "    return X"
   ]
  },
  {
   "cell_type": "code",
   "execution_count": 32,
   "id": "c06e8aa1",
   "metadata": {},
   "outputs": [],
   "source": [
    "# split into train, val and test sets for original dataset as well as indicator matrix\n",
    "X_train, X_test, y_train, y_test, hadamard_train, hadamard_test = train_test_split(X, y, hadamard,test_size=0.33,shuffle=True)\n",
    "X_train, X_val, y_train, y_val, hadamard_train, hadamard_val = train_test_split(X_train, y_train, hadamard_train, test_size=0.01 ,shuffle=True)"
   ]
  },
  {
   "cell_type": "code",
   "execution_count": 33,
   "id": "c51bb7a3",
   "metadata": {},
   "outputs": [],
   "source": [
    "# keep the originals for metric calcultaion\n",
    "X_train_original = X_train.copy()\n",
    "X_val_original = X_val.copy()\n",
    "X_test_original = X_test.copy()"
   ]
  },
  {
   "cell_type": "code",
   "execution_count": 34,
   "id": "173d161b",
   "metadata": {},
   "outputs": [],
   "source": [
    "# incomplete dataset\n",
    "X_train_inc = mask_randomly(X_train)"
   ]
  },
  {
   "cell_type": "code",
   "execution_count": 35,
   "id": "7c0a8c00",
   "metadata": {},
   "outputs": [],
   "source": [
    "# define the different percentage of deletion code - this is another mechanism of missingness \n",
    "def codefordeletion(data, hadamard, frac):\n",
    "    [Rn, Cn] = data.shape\n",
    "    ind = []\n",
    "    for i in range(Rn):\n",
    "        for j in range(Cn):\n",
    "            ind.append(data[i, j])\n",
    "    fraction = frac\n",
    "        # calculate entries to be deleted\n",
    "    rem_num = ((len(ind)) * fraction / 100)  # total number of entries to be removed\n",
    "        # has to be an integer value\n",
    "    rem_num = int(rem_num)\n",
    "        # select random elements from the upper triangle:\n",
    "    indices = np.random.choice(len(ind), rem_num, replace=False)\n",
    "        # make these indices -1\n",
    "    for i in indices:\n",
    "        ind[i] = -1  # now place these values back in the upper triangle:\n",
    "    #print(ind)\n",
    "    p = 0\n",
    "    for i in range(Rn):\n",
    "        for j in range(Cn):\n",
    "            data[i, j] = ind[p]\n",
    "            p += 1\n",
    "    print(data)\n",
    "    print(hadamard)\n",
    "    hadamard = np.where(data == -1, 0, hadamard)\n",
    "    return data, hadamard"
   ]
  },
  {
   "cell_type": "code",
   "execution_count": 36,
   "id": "00541517",
   "metadata": {},
   "outputs": [
    {
     "data": {
      "text/plain": [
       "(1744, 97)"
      ]
     },
     "execution_count": 36,
     "metadata": {},
     "output_type": "execute_result"
    }
   ],
   "source": [
    "X_train.shape"
   ]
  },
  {
   "cell_type": "code",
   "execution_count": 37,
   "id": "2a93b18b",
   "metadata": {},
   "outputs": [],
   "source": [
    "# define corresponding hadamard for train, validation and test sets\n",
    "hadamard_train = np.ones(X_train.shape)"
   ]
  },
  {
   "cell_type": "code",
   "execution_count": 38,
   "id": "43ac01c4",
   "metadata": {},
   "outputs": [],
   "source": [
    "#X_train_inc, hadamard_train = codefordeletion(X_train, hadamard_train, 20)"
   ]
  },
  {
   "cell_type": "code",
   "execution_count": 39,
   "id": "b79c7ab2",
   "metadata": {},
   "outputs": [
    {
     "data": {
      "text/plain": [
       "((1744, 97), (1744, 97))"
      ]
     },
     "execution_count": 39,
     "metadata": {},
     "output_type": "execute_result"
    }
   ],
   "source": [
    "X_train.shape, hadamard_train.shape"
   ]
  },
  {
   "cell_type": "code",
   "execution_count": 40,
   "id": "d9ec5c79",
   "metadata": {},
   "outputs": [],
   "source": [
    "hadamard_train = np.where(X_train_inc == -1, 0, hadamard_train)"
   ]
  },
  {
   "cell_type": "code",
   "execution_count": 41,
   "id": "5632caa1",
   "metadata": {},
   "outputs": [],
   "source": [
    "#hadamard_train = pd.DataFrame(hadamard_train)\n",
    "#hadamard_train.to_csv('had_new.csv')"
   ]
  },
  {
   "cell_type": "code",
   "execution_count": 42,
   "id": "3e2e107f",
   "metadata": {},
   "outputs": [],
   "source": [
    "#X_train_inc, hadamard_train  = codefordeletion(X_train, hadamard_train, 60)"
   ]
  },
  {
   "cell_type": "code",
   "execution_count": 43,
   "id": "2d2bb5b8",
   "metadata": {},
   "outputs": [],
   "source": [
    "#X_train_inc = pd.DataFrame(X_train_inc)\n",
    "#X_train_inc.to_csv('./X_train_inc1.csv')"
   ]
  },
  {
   "cell_type": "code",
   "execution_count": 44,
   "id": "0efe2b95",
   "metadata": {},
   "outputs": [],
   "source": [
    "X_train_inc = np.where(X_train_inc == -1, np.nan, X_train_inc)"
   ]
  },
  {
   "cell_type": "code",
   "execution_count": 45,
   "id": "d8f868a3",
   "metadata": {},
   "outputs": [],
   "source": [
    "#hadamard_train = pd.DataFrame(hadamard_train)\n",
    "#hadamard_train.to_csv('./hadamard1.csv')"
   ]
  },
  {
   "cell_type": "code",
   "execution_count": 46,
   "id": "8eb555c6",
   "metadata": {},
   "outputs": [
    {
     "name": "stdout",
     "output_type": "stream",
     "text": [
      "[[0.05254266 0.97018372 0.00859454 ... 0.07080077 0.02524302 0.0252446 ]\n",
      " [0.0231458  0.97146621 0.00808898 ... 0.01497934 0.01441126 0.01441239]\n",
      " [0.02263896 0.97397434 0.01112235 ... 0.05627722 0.02139411 0.02139518]\n",
      " ...\n",
      " [0.02804528 0.95423714 0.00758342 ... 0.03724508 0.1614563  0.16145774]\n",
      " [0.0231458  0.97115306 0.00808898 ... 0.01135153 0.01751526 0.01751713]\n",
      " [0.04223686 0.96130088 0.01921132 ... 0.00628245 0.01368477 0.0136849 ]]\n",
      "[0.04804666 0.96481805 0.00925722 0.01645469 0.57209092 0.53869787\n",
      " 0.0032987  0.53868795 0.98752393 0.80163049 0.50679878 0.95853193\n",
      " 0.99243418 0.99482415 0.98343534 0.98615918 0.07259096 0.05855294\n",
      " 0.24010312 0.67690499 0.58371913 0.86348241 0.57878425 0.8628075\n",
      " 0.51550033 0.80423729 0.52904469 0.50663998 0.56612933 0.49887072\n",
      " 0.73222749 0.93608718 0.44044811 0.80914729 0.00170603 0.84074666\n",
      " 0.98805048 0.12919405 0.45836304 0.43566416 0.45850325 0.43550836\n",
      " 0.40509038 0.40900912 0.40510811 0.39554314 0.46766188 0.42624567\n",
      " 0.46774864 0.42620064 0.39945639 0.39918149 0.39961276 0.38398821\n",
      " 0.8570734  0.85999369 0.86241937 0.86707952 0.86707697 0.88308816\n",
      " 0.88305026 0.88488657 0.88486856 0.8884989  0.88419842 0.91296947\n",
      " 0.91372739 0.91343096 0.90055316 0.90070175 0.91404416 0.90898947\n",
      " 0.54257787 0.48572562 0.54266212 0.54382298 0.5298867  0.48934712\n",
      " 0.53019814 0.51458298 0.53796796 0.54104476 0.53797358 0.54110393\n",
      " 0.52875324 0.47888401 0.52882787 0.51703268 0.38853688 0.78692315\n",
      " 0.45649051 0.03912492 0.0391031  0.03802793 0.03802839 0.03304905\n",
      " 0.03305057]\n",
      "[[0.05254266 0.97018372 0.00859454 ... 0.07080077 0.02524302 0.0252446 ]\n",
      " [0.0231458  0.97146621 0.00808898 ... 0.01497934 0.01441126 0.01441239]\n",
      " [0.02263896 0.97397434 0.01112235 ... 0.05627722 0.02139411 0.02139518]\n",
      " ...\n",
      " [0.02804528 0.95423714 0.00758342 ... 0.03724508 0.1614563  0.16145774]\n",
      " [0.0231458  0.97115306 0.00808898 ... 0.01135153 0.01751526 0.01751713]\n",
      " [0.04223686 0.96130088 0.01921132 ... 0.00628245 0.01368477 0.0136849 ]]\n"
     ]
    }
   ],
   "source": [
    "print(X_train_inc)\n",
    "\n",
    "#Obtain mean of columns as you need, nanmean is convenient.\n",
    "col_mean_train = np.nanmean(X_train_inc, axis=0)\n",
    "\n",
    "print(col_mean_train)\n",
    "\n",
    "#Find indices that you need to replace\n",
    "inds = np.where(np.isnan(X_train_inc))\n",
    "\n",
    "#Place column means in the indices. Align the arrays using take\n",
    "X_train_inc[inds] = np.take(col_mean_train, inds[1])\n",
    "\n",
    "print(X_train_inc)"
   ]
  },
  {
   "cell_type": "code",
   "execution_count": 47,
   "id": "7ef5118e",
   "metadata": {},
   "outputs": [
    {
     "data": {
      "text/plain": [
       "(1744, 97)"
      ]
     },
     "execution_count": 47,
     "metadata": {},
     "output_type": "execute_result"
    }
   ],
   "source": [
    "X_train_inc.shape"
   ]
  },
  {
   "cell_type": "code",
   "execution_count": 48,
   "id": "effb11d3",
   "metadata": {},
   "outputs": [],
   "source": [
    "# Do the same for the validation test\n",
    "#X_val_inc, hadamard_val = codefordeletion(X_val, hadamard_val, 20)\n",
    "#X_val_inc = np.where(X_val_inc == -1, np.nan, X_val_inc)"
   ]
  },
  {
   "cell_type": "code",
   "execution_count": 49,
   "id": "108fb538",
   "metadata": {},
   "outputs": [],
   "source": [
    "# similarly for the validation and test sets\n",
    "X_val_inc = mask_randomly(X_val)"
   ]
  },
  {
   "cell_type": "code",
   "execution_count": 50,
   "id": "46d1ff8c",
   "metadata": {},
   "outputs": [],
   "source": [
    "hadamard_val = np.ones(X_val_inc.shape)"
   ]
  },
  {
   "cell_type": "code",
   "execution_count": 51,
   "id": "f720c783",
   "metadata": {},
   "outputs": [],
   "source": [
    "hadamard_val = np.where(X_val_inc == -1, 0, hadamard_val)"
   ]
  },
  {
   "cell_type": "code",
   "execution_count": 52,
   "id": "16c8f442",
   "metadata": {},
   "outputs": [],
   "source": [
    "X_val_inc = np.where(X_val_inc == -1, np.nan, X_val_inc)"
   ]
  },
  {
   "cell_type": "code",
   "execution_count": 53,
   "id": "5dc97eab",
   "metadata": {},
   "outputs": [
    {
     "name": "stdout",
     "output_type": "stream",
     "text": [
      "[[0.02551107 0.95446649 0.00202224 ...        nan 0.015482   0.01548358]\n",
      " [0.05102213 0.96944079 0.00556117 ...        nan        nan        nan]\n",
      " [0.04460213 0.96310528 0.02426694 ...        nan        nan        nan]\n",
      " ...\n",
      " [       nan        nan        nan ...        nan        nan        nan]\n",
      " [       nan        nan        nan ...        nan        nan        nan]\n",
      " [0.06082108 0.96680034 0.00808898 ... 0.06886676 0.06827416 0.06827555]]\n",
      "[0.04906234 0.96201391 0.00970677 0.01605183 0.44710145 0.52941176\n",
      " 0.00232222 0.52941306 0.98886667 0.89712677 0.47868153 0.96035372\n",
      " 0.99242927 0.99456946 0.98591946 0.98444763 0.06455346 0.04409819\n",
      " 0.02784145 0.73718238 0.03219578 0.93987069 0.05115922 0.93746003\n",
      " 0.31818182 0.8962963  0.5        0.35714286 0.70223325 0.60169492\n",
      " 0.75       0.94323232 0.         0.83344437 0.00156954 0.85370185\n",
      " 0.99753998 0.13588337 0.46434307 0.44138858 0.45769653 0.43462863\n",
      " 0.40419603 0.40818815 0.40413038 0.40140908 0.47381724 0.43215149\n",
      " 0.47387928 0.43209807 0.40494506 0.39899027 0.39942111 0.38377466\n",
      " 0.86238747 0.8615256  0.8594627  0.86420716 0.86420716 0.87860893\n",
      " 0.87861369 0.88053982 0.88300003 0.88719459 0.88119101 0.91109305\n",
      " 0.9122363  0.920026   0.90591537 0.90605722 0.92314223 0.91845838\n",
      " 0.54457732 0.48739333 0.54461416 0.54780856 0.53350863 0.49098762\n",
      " 0.53175602 0.51604422 0.53640544 0.53952983 0.53640544 0.54309229\n",
      " 0.53064016 0.481314   0.53069855 0.51882695 0.38992557 0.79044889\n",
      " 0.45846486 0.07939731 0.07939842 0.06886548 0.06886676 0.04187808\n",
      " 0.04187957]\n",
      "[[0.02551107 0.95446649 0.00202224 ... 0.06886676 0.015482   0.01548358]\n",
      " [0.05102213 0.96944079 0.00556117 ... 0.06886676 0.04187808 0.04187957]\n",
      " [0.04460213 0.96310528 0.02426694 ... 0.06886676 0.04187808 0.04187957]\n",
      " ...\n",
      " [0.04906234 0.96201391 0.00970677 ... 0.06886676 0.04187808 0.04187957]\n",
      " [0.04906234 0.96201391 0.00970677 ... 0.06886676 0.04187808 0.04187957]\n",
      " [0.06082108 0.96680034 0.00808898 ... 0.06886676 0.06827416 0.06827555]]\n"
     ]
    }
   ],
   "source": [
    "# replace all missing entries with mean values\n",
    "print(X_val_inc)\n",
    "\n",
    "#Obtain mean of columns as you need, nanmean is convenient.\n",
    "col_mean_val = np.nanmean(X_val_inc, axis=0)\n",
    "\n",
    "print(col_mean_val)\n",
    "\n",
    "#Find indices that you need to replace\n",
    "inds = np.where(np.isnan(X_val_inc))\n",
    "\n",
    "#Place column means in the indices. Align the arrays using take\n",
    "X_val_inc[inds] = np.take(col_mean_val, inds[1])\n",
    "\n",
    "print(X_val_inc)"
   ]
  },
  {
   "cell_type": "code",
   "execution_count": 54,
   "id": "156e6542",
   "metadata": {},
   "outputs": [],
   "source": [
    "y_train = np.array(y_train)\n",
    "y_train = np.repeat(y_train, repeats=10, axis=0)"
   ]
  },
  {
   "cell_type": "code",
   "execution_count": 55,
   "id": "6aadd9ac",
   "metadata": {},
   "outputs": [],
   "source": [
    "y_val = np.array(y_val)\n",
    "y_val = np.repeat(y_val, repeats=10, axis=0)"
   ]
  },
  {
   "cell_type": "code",
   "execution_count": 56,
   "id": "c19186d3",
   "metadata": {},
   "outputs": [],
   "source": [
    "# make copies of the train and validation sets\n",
    "X_train_inc = np.array(X_train_inc)\n",
    "X_train_inc = np.repeat(X_train_inc, repeats=10, axis=0)"
   ]
  },
  {
   "cell_type": "code",
   "execution_count": 57,
   "id": "1580a092",
   "metadata": {},
   "outputs": [
    {
     "data": {
      "text/plain": [
       "(17440, 97)"
      ]
     },
     "execution_count": 57,
     "metadata": {},
     "output_type": "execute_result"
    }
   ],
   "source": [
    "X_train_inc.shape"
   ]
  },
  {
   "cell_type": "code",
   "execution_count": 58,
   "id": "478fa81d",
   "metadata": {},
   "outputs": [],
   "source": [
    "# Do the same for the test set\n",
    "#X_test_inc, hadamard_test = codefordeletion(X_test, hadamard_test, 20)"
   ]
  },
  {
   "cell_type": "code",
   "execution_count": 59,
   "id": "7d55c7f8",
   "metadata": {},
   "outputs": [],
   "source": [
    "# make copies of the train and validation sets\n",
    "X_val_inc = np.array(X_val_inc)\n",
    "X_val_inc = np.repeat(X_val_inc, repeats=10, axis=0)"
   ]
  },
  {
   "cell_type": "code",
   "execution_count": 60,
   "id": "5c30f5cb",
   "metadata": {},
   "outputs": [],
   "source": [
    "hadamard_train = np.array(hadamard_train)\n",
    "hadamard_train = np.repeat(hadamard_train, repeats=10, axis=0)"
   ]
  },
  {
   "cell_type": "code",
   "execution_count": 61,
   "id": "295d8f4c",
   "metadata": {},
   "outputs": [],
   "source": [
    "hadamard_val = np.array(hadamard_val)\n",
    "hadamard_val = np.repeat(hadamard_val, repeats=10, axis=0)"
   ]
  },
  {
   "cell_type": "code",
   "execution_count": 62,
   "id": "08a40977",
   "metadata": {},
   "outputs": [],
   "source": [
    "X_train_original = np.array(X_train_original)\n",
    "X_train_original = np.repeat(X_train_original, repeats=10, axis=0)\n",
    "X_val_original = np.array(X_val_original)\n",
    "X_val_original = np.repeat(X_val_original, repeats=10, axis=0)\n"
   ]
  },
  {
   "cell_type": "code",
   "execution_count": 63,
   "id": "ed56b991",
   "metadata": {},
   "outputs": [],
   "source": [
    "X_test_inc = mask_randomly(X_test)"
   ]
  },
  {
   "cell_type": "code",
   "execution_count": 64,
   "id": "6d09ac70",
   "metadata": {},
   "outputs": [],
   "source": [
    "hadamard_test = np.ones(X_test.shape)"
   ]
  },
  {
   "cell_type": "code",
   "execution_count": 65,
   "id": "29d4f831",
   "metadata": {},
   "outputs": [],
   "source": [
    "#X_test_inc, hadamard_test = codefordeletion(X_test, hadamard_test, 20)"
   ]
  },
  {
   "cell_type": "code",
   "execution_count": 66,
   "id": "743e60b3",
   "metadata": {},
   "outputs": [],
   "source": [
    "hadamard_test = np.where(X_test_inc == -1, 0, hadamard_test)"
   ]
  },
  {
   "cell_type": "code",
   "execution_count": 67,
   "id": "49afcb91",
   "metadata": {},
   "outputs": [],
   "source": [
    "X_test_inc = np.where(X_test_inc == -1, np.nan, X_test_inc)"
   ]
  },
  {
   "cell_type": "code",
   "execution_count": 68,
   "id": "cdd724fa",
   "metadata": {},
   "outputs": [
    {
     "name": "stdout",
     "output_type": "stream",
     "text": [
      "[[0.0562595  0.96456076 0.00353893 ... 0.01459746 0.0210038  0.02100566]\n",
      " [0.02111843 0.96867286 0.00758342 ... 0.02748881 0.03512953 0.03513164]\n",
      " [0.01875317 0.97000534 0.00859454 ... 0.01978356 0.10908207 0.10908393]\n",
      " ...\n",
      " [0.03683055 0.96825239 0.00808898 ... 0.01424638 0.02249363 0.02249502]\n",
      " [0.01909106 0.98209661 0.00505561 ... 0.02039333 0.02990592 0.02990743]\n",
      " [0.02432843 0.96001741 0.00960566 ... 0.03241006 0.05609534 0.0560972 ]]\n",
      "[0.04734973 0.96570822 0.00862644 0.01561285 0.57589414 0.54436057\n",
      " 0.00274123 0.5443599  0.98815461 0.79709098 0.51016666 0.959799\n",
      " 0.99303599 0.99538098 0.98427123 0.98688915 0.07105292 0.0589701\n",
      " 0.2398801  0.6733202  0.59017602 0.85614343 0.58561507 0.85370814\n",
      " 0.50890538 0.79904602 0.5259833  0.50399347 0.56133714 0.49750378\n",
      " 0.72515625 0.93583586 0.45335821 0.80793774 0.00366606 0.83858948\n",
      " 0.98719795 0.12919153 0.45781271 0.43509641 0.45792564 0.43498214\n",
      " 0.40469467 0.40863336 0.4047446  0.39517614 0.46713401 0.42576879\n",
      " 0.46713167 0.42561783 0.3988947  0.39857737 0.39905637 0.38347269\n",
      " 0.85514186 0.85694448 0.85935706 0.86406248 0.86410822 0.88065209\n",
      " 0.88057481 0.8824122  0.8823068  0.88595924 0.88058629 0.91145796\n",
      " 0.91208778 0.91187921 0.89858834 0.89873511 0.90751883 0.90193526\n",
      " 0.54221563 0.48543835 0.54169076 0.54283729 0.52892969 0.48842882\n",
      " 0.52922174 0.51355908 0.53694081 0.5399879  0.53748901 0.54061476\n",
      " 0.52830968 0.47839104 0.52839958 0.51666826 0.38904179 0.78540425\n",
      " 0.45711673 0.03689663 0.03665023 0.03729038 0.03728912 0.03434025\n",
      " 0.03434179]\n",
      "[[0.0562595  0.96456076 0.00353893 ... 0.01459746 0.0210038  0.02100566]\n",
      " [0.02111843 0.96867286 0.00758342 ... 0.02748881 0.03512953 0.03513164]\n",
      " [0.01875317 0.97000534 0.00859454 ... 0.01978356 0.10908207 0.10908393]\n",
      " ...\n",
      " [0.03683055 0.96825239 0.00808898 ... 0.01424638 0.02249363 0.02249502]\n",
      " [0.01909106 0.98209661 0.00505561 ... 0.02039333 0.02990592 0.02990743]\n",
      " [0.02432843 0.96001741 0.00960566 ... 0.03241006 0.05609534 0.0560972 ]]\n"
     ]
    }
   ],
   "source": [
    "print(X_test_inc)\n",
    "#Obtain mean of columns as you need, nanmean is convenient.\n",
    "col_mean_test = np.nanmean(X_test_inc, axis=0)\n",
    "\n",
    "print(col_mean_test)\n",
    "\n",
    "#Find indices that you need to replace\n",
    "inds = np.where(np.isnan(X_test_inc))\n",
    "\n",
    "#Place column means in the indices. Align the arrays using take\n",
    "X_test_inc[inds] = np.take(col_mean_test, inds[1])\n",
    "\n",
    "print(X_test_inc)"
   ]
  },
  {
   "cell_type": "code",
   "execution_count": 69,
   "id": "98f16988",
   "metadata": {},
   "outputs": [
    {
     "data": {
      "text/plain": [
       "(17440, 97)"
      ]
     },
     "execution_count": 69,
     "metadata": {},
     "output_type": "execute_result"
    }
   ],
   "source": [
    "X_train_inc.shape"
   ]
  },
  {
   "cell_type": "code",
   "execution_count": 70,
   "id": "d80b066c",
   "metadata": {},
   "outputs": [],
   "source": [
    "# Now these are the targets for training the network\n",
    "X_train_target = X_train_inc.copy()\n",
    "X_val_target = X_val_inc.copy()\n",
    "X_test_target = X_test_inc.copy()"
   ]
  },
  {
   "cell_type": "code",
   "execution_count": 71,
   "id": "83ade81a",
   "metadata": {},
   "outputs": [],
   "source": [
    "col_mean_test = list(col_mean_test)\n",
    "col_mean_train = list(col_mean_train)\n",
    "col_mean_val = list(col_mean_val)"
   ]
  },
  {
   "cell_type": "code",
   "execution_count": 72,
   "id": "cc06e1b7",
   "metadata": {},
   "outputs": [],
   "source": [
    "# Now define the inputs\n",
    "X_train_inputs = X_train_target.copy()\n",
    "X_val_inputs = X_val_target.copy()\n",
    "X_test_inputs = X_test_target.copy()"
   ]
  },
  {
   "cell_type": "code",
   "execution_count": 73,
   "id": "6e0853b7",
   "metadata": {},
   "outputs": [
    {
     "data": {
      "text/plain": [
       "(17440, 97)"
      ]
     },
     "execution_count": 73,
     "metadata": {},
     "output_type": "execute_result"
    }
   ],
   "source": [
    "X_train_target.shape"
   ]
  },
  {
   "cell_type": "code",
   "execution_count": 74,
   "id": "e1845f55",
   "metadata": {},
   "outputs": [],
   "source": [
    "# define the different percentage of deletion code - This is for missing at random as was done until now. \n",
    "def codefordeletion2(data, hadamards,  frac):\n",
    "    [Rn, Cn] = data.shape\n",
    "    ind = []\n",
    "    for i in range(Rn):\n",
    "        for j in range(Cn):\n",
    "            ind.append(data[i, j])\n",
    "    fraction = frac\n",
    "        # calculate entries to be deleted\n",
    "    rem_num = ((len(ind)) * fraction / 100)  # total number of entries to be removed\n",
    "        # has to be an integer value\n",
    "    rem_num = int(rem_num)\n",
    "        # select random elements from the upper triangle:\n",
    "    indices = np.random.choice(len(ind), rem_num, replace=False)\n",
    "        # make these indices -1\n",
    "    # check hadamards of corresponding indices\n",
    "    had = []\n",
    "    for i in range(Rn):\n",
    "        for j in range(Cn):\n",
    "            had.append(hadamards[i, j])\n",
    "    for i in indices:\n",
    "        #if ind[i] not in col_mean:\n",
    "        if had[i] != 0:\n",
    "            ind[i] = -1  # now place these values back in the upper triangle:\n",
    "    #print(ind)\n",
    "    p = 0\n",
    "    for i in range(Rn):\n",
    "        for j in range(Cn):\n",
    "            data[i, j] = ind[p]\n",
    "            p += 1\n",
    "    #print(data)\n",
    "    return data"
   ]
  },
  {
   "cell_type": "code",
   "execution_count": 75,
   "id": "2d7321df",
   "metadata": {},
   "outputs": [],
   "source": [
    "def mask_randomly2(X, hadamard):\n",
    "    #hadamard_train = np.ones(X.shape)\n",
    "    block_size = 8\n",
    "    row_rand_list = list(np.random.randint(0, (X.shape[0]-block_size), 30))\n",
    "    col_rand_list = []\n",
    "    for i in row_rand_list:\n",
    "        col_rand = random.randint(0, X.shape[1]-block_size)\n",
    "        col_rand_list.append(col_rand)\n",
    "        for j in range(block_size):\n",
    "            for k in range(block_size):\n",
    "                if hadamard[i+j][col_rand+k] != 0:\n",
    "                    X[i+j][col_rand+k] = -1\n",
    "    return X"
   ]
  },
  {
   "cell_type": "code",
   "execution_count": 76,
   "id": "1cfbd0d9",
   "metadata": {},
   "outputs": [],
   "source": [
    "X_train_inputs = codefordeletion2(X_train_inputs, hadamard_train, 0)"
   ]
  },
  {
   "cell_type": "code",
   "execution_count": 77,
   "id": "c390116c",
   "metadata": {},
   "outputs": [],
   "source": [
    "#X_train_inputs = mask_randomly2(X_train_inputs, hadamard_train)\n"
   ]
  },
  {
   "cell_type": "code",
   "execution_count": 78,
   "id": "813397e2",
   "metadata": {},
   "outputs": [],
   "source": [
    "X_train_inputs = np.where(X_train_inputs == -1, np.nan, X_train_inputs)"
   ]
  },
  {
   "cell_type": "code",
   "execution_count": 79,
   "id": "4541a905",
   "metadata": {},
   "outputs": [
    {
     "name": "stdout",
     "output_type": "stream",
     "text": [
      "[[0.05254266 0.97018372 0.00859454 ... 0.07080077 0.02524302 0.0252446 ]\n",
      " [0.05254266 0.97018372 0.00859454 ... 0.07080077 0.02524302 0.0252446 ]\n",
      " [0.05254266 0.97018372 0.00859454 ... 0.07080077 0.02524302 0.0252446 ]\n",
      " ...\n",
      " [0.04223686 0.96130088 0.01921132 ... 0.00628245 0.01368477 0.0136849 ]\n",
      " [0.04223686 0.96130088 0.01921132 ... 0.00628245 0.01368477 0.0136849 ]\n",
      " [0.04223686 0.96130088 0.01921132 ... 0.00628245 0.01368477 0.0136849 ]]\n",
      "[0.04804666 0.96481805 0.00925722 0.01645469 0.57209092 0.53869787\n",
      " 0.0032987  0.53868795 0.98752393 0.80163049 0.50679878 0.95853193\n",
      " 0.99243418 0.99482415 0.98343534 0.98615918 0.07259096 0.05855294\n",
      " 0.24010312 0.67690499 0.58371913 0.86348241 0.57878425 0.8628075\n",
      " 0.51550033 0.80423729 0.52904469 0.50663998 0.56612933 0.49887072\n",
      " 0.73222749 0.93608718 0.44044811 0.80914729 0.00170603 0.84074666\n",
      " 0.98805048 0.12919405 0.45836304 0.43566416 0.45850325 0.43550836\n",
      " 0.40509038 0.40900912 0.40510811 0.39554314 0.46766188 0.42624567\n",
      " 0.46774864 0.42620064 0.39945639 0.39918149 0.39961276 0.38398821\n",
      " 0.8570734  0.85999369 0.86241937 0.86707952 0.86707697 0.88308816\n",
      " 0.88305026 0.88488657 0.88486856 0.8884989  0.88419842 0.91296947\n",
      " 0.91372739 0.91343096 0.90055316 0.90070175 0.91404416 0.90898947\n",
      " 0.54257787 0.48572562 0.54266212 0.54382298 0.5298867  0.48934712\n",
      " 0.53019814 0.51458298 0.53796796 0.54104476 0.53797358 0.54110393\n",
      " 0.52875324 0.47888401 0.52882787 0.51703268 0.38853688 0.78692315\n",
      " 0.45649051 0.03912492 0.0391031  0.03802793 0.03802839 0.03304905\n",
      " 0.03305057]\n",
      "[[0.05254266 0.97018372 0.00859454 ... 0.07080077 0.02524302 0.0252446 ]\n",
      " [0.05254266 0.97018372 0.00859454 ... 0.07080077 0.02524302 0.0252446 ]\n",
      " [0.05254266 0.97018372 0.00859454 ... 0.07080077 0.02524302 0.0252446 ]\n",
      " ...\n",
      " [0.04223686 0.96130088 0.01921132 ... 0.00628245 0.01368477 0.0136849 ]\n",
      " [0.04223686 0.96130088 0.01921132 ... 0.00628245 0.01368477 0.0136849 ]\n",
      " [0.04223686 0.96130088 0.01921132 ... 0.00628245 0.01368477 0.0136849 ]]\n"
     ]
    }
   ],
   "source": [
    "print(X_train_inputs)\n",
    "\n",
    "#Obtain mean of columns as you need, nanmean is convenient.\n",
    "col_mean = np.nanmean(X_train_inputs, axis=0)\n",
    "\n",
    "print(col_mean)\n",
    "\n",
    "#Find indices that you need to replace\n",
    "inds = np.where(np.isnan(X_train_inputs))\n",
    "\n",
    "#Place column means in the indices. Align the arrays using take\n",
    "X_train_inputs[inds] = np.take(col_mean, inds[1])\n",
    "\n",
    "print(X_train_inputs)"
   ]
  },
  {
   "cell_type": "code",
   "execution_count": 80,
   "id": "ed52cddd",
   "metadata": {},
   "outputs": [],
   "source": [
    "# Do the same for the validation test\n",
    "X_val_inputs = codefordeletion2(X_val_inputs, hadamard_val, 0)\n",
    "#X_val_inputs = mask_randomly2(X_val_inputs, hadamard_val)\n",
    "X_val_inputs = np.where(X_val_inputs == -1, np.nan, X_val_inputs)"
   ]
  },
  {
   "cell_type": "code",
   "execution_count": 81,
   "id": "d8ee00b2",
   "metadata": {},
   "outputs": [
    {
     "name": "stdout",
     "output_type": "stream",
     "text": [
      "[[0.02551107 0.95446649 0.00202224 ... 0.06886676 0.015482   0.01548358]\n",
      " [0.02551107 0.95446649 0.00202224 ... 0.06886676 0.015482   0.01548358]\n",
      " [0.02551107 0.95446649 0.00202224 ... 0.06886676 0.015482   0.01548358]\n",
      " ...\n",
      " [0.06082108 0.96680034 0.00808898 ... 0.06886676 0.06827416 0.06827555]\n",
      " [0.06082108 0.96680034 0.00808898 ... 0.06886676 0.06827416 0.06827555]\n",
      " [0.06082108 0.96680034 0.00808898 ... 0.06886676 0.06827416 0.06827555]]\n",
      "[0.04906234 0.96201391 0.00970677 0.01605183 0.44710145 0.52941176\n",
      " 0.00232222 0.52941306 0.98886667 0.89712677 0.47868153 0.96035372\n",
      " 0.99242927 0.99456946 0.98591946 0.98444763 0.06455346 0.04409819\n",
      " 0.02784145 0.73718238 0.03219578 0.93987069 0.05115922 0.93746003\n",
      " 0.31818182 0.8962963  0.5        0.35714286 0.70223325 0.60169492\n",
      " 0.75       0.94323232 0.         0.83344437 0.00156954 0.85370185\n",
      " 0.99753998 0.13588337 0.46434307 0.44138858 0.45769653 0.43462863\n",
      " 0.40419603 0.40818815 0.40413038 0.40140908 0.47381724 0.43215149\n",
      " 0.47387928 0.43209807 0.40494506 0.39899027 0.39942111 0.38377466\n",
      " 0.86238747 0.8615256  0.8594627  0.86420716 0.86420716 0.87860893\n",
      " 0.87861369 0.88053982 0.88300003 0.88719459 0.88119101 0.91109305\n",
      " 0.9122363  0.920026   0.90591537 0.90605722 0.92314223 0.91845838\n",
      " 0.54457732 0.48739333 0.54461416 0.54780856 0.53350863 0.49098762\n",
      " 0.53175602 0.51604422 0.53640544 0.53952983 0.53640544 0.54309229\n",
      " 0.53064016 0.481314   0.53069855 0.51882695 0.38992557 0.79044889\n",
      " 0.45846486 0.07939731 0.07939842 0.06886548 0.06886676 0.04187808\n",
      " 0.04187957]\n",
      "[[0.02551107 0.95446649 0.00202224 ... 0.06886676 0.015482   0.01548358]\n",
      " [0.02551107 0.95446649 0.00202224 ... 0.06886676 0.015482   0.01548358]\n",
      " [0.02551107 0.95446649 0.00202224 ... 0.06886676 0.015482   0.01548358]\n",
      " ...\n",
      " [0.06082108 0.96680034 0.00808898 ... 0.06886676 0.06827416 0.06827555]\n",
      " [0.06082108 0.96680034 0.00808898 ... 0.06886676 0.06827416 0.06827555]\n",
      " [0.06082108 0.96680034 0.00808898 ... 0.06886676 0.06827416 0.06827555]]\n"
     ]
    }
   ],
   "source": [
    "print(X_val_inputs)\n",
    "\n",
    "#Obtain mean of columns as you need, nanmean is convenient.\n",
    "col_mean = np.nanmean(X_val_inputs, axis=0)\n",
    "\n",
    "print(col_mean)\n",
    "\n",
    "#Find indices that you need to replace\n",
    "inds = np.where(np.isnan(X_val_inputs))\n",
    "\n",
    "#Place column means in the indices. Align the arrays using take\n",
    "X_val_inputs[inds] = np.take(col_mean, inds[1])\n",
    "\n",
    "print(X_val_inputs)"
   ]
  },
  {
   "cell_type": "code",
   "execution_count": 82,
   "id": "ee733e1c",
   "metadata": {},
   "outputs": [
    {
     "data": {
      "text/plain": [
       "\"\\nX_train_inputs = pd.DataFrame(X_train_inputs)\\nX_train_target = pd.DataFrame(X_train_target)\\nhadamard_train = pd.DataFrame(hadamard_train)\\nX_train_inputs.to_csv('inputs.csv')\\nX_train_target.to_csv('targets.csv')\\nhadamard_train.to_csv('hadamard.csv')\\n\""
      ]
     },
     "execution_count": 82,
     "metadata": {},
     "output_type": "execute_result"
    }
   ],
   "source": [
    "'''\n",
    "X_train_inputs = pd.DataFrame(X_train_inputs)\n",
    "X_train_target = pd.DataFrame(X_train_target)\n",
    "hadamard_train = pd.DataFrame(hadamard_train)\n",
    "X_train_inputs.to_csv('inputs.csv')\n",
    "X_train_target.to_csv('targets.csv')\n",
    "hadamard_train.to_csv('hadamard.csv')\n",
    "'''"
   ]
  },
  {
   "cell_type": "code",
   "execution_count": 83,
   "id": "c006218c",
   "metadata": {},
   "outputs": [],
   "source": [
    "# Do the same for the test set\n",
    "#X_test_inputs = codefordeletion2(X_test_inputs, hadamard_test, 20)"
   ]
  },
  {
   "cell_type": "code",
   "execution_count": 84,
   "id": "00da4844",
   "metadata": {},
   "outputs": [],
   "source": [
    "#X_test_inputs = np.where(X_test_inputs == -1, np.nan, X_test_inputs)"
   ]
  },
  {
   "cell_type": "code",
   "execution_count": 85,
   "id": "7c7f4a79",
   "metadata": {},
   "outputs": [
    {
     "data": {
      "text/plain": [
       "'\\n#Obtain mean of columns as you need, nanmean is convenient.\\ncol_mean = np.nanmean(X_test_inputs, axis=0)\\n\\nprint(col_mean)\\n\\n#Find indices that you need to replace\\ninds = np.where(np.isnan(X_test_inputs))\\n\\n#Place column means in the indices. Align the arrays using take\\nX_test_inputs[inds] = np.take(col_mean, inds[1])\\n\\nprint(X_test_inputs)\\n'"
      ]
     },
     "execution_count": 85,
     "metadata": {},
     "output_type": "execute_result"
    }
   ],
   "source": [
    "#print(X_test_inputs)\n",
    "'''\n",
    "#Obtain mean of columns as you need, nanmean is convenient.\n",
    "col_mean = np.nanmean(X_test_inputs, axis=0)\n",
    "\n",
    "print(col_mean)\n",
    "\n",
    "#Find indices that you need to replace\n",
    "inds = np.where(np.isnan(X_test_inputs))\n",
    "\n",
    "#Place column means in the indices. Align the arrays using take\n",
    "X_test_inputs[inds] = np.take(col_mean, inds[1])\n",
    "\n",
    "print(X_test_inputs)\n",
    "'''"
   ]
  },
  {
   "cell_type": "code",
   "execution_count": 86,
   "id": "4a56400c",
   "metadata": {},
   "outputs": [],
   "source": [
    "# define the dataset\n",
    "class MMData(Dataset):\n",
    "    def __init__(self, X_input, X_target, X_original, hadamard):\n",
    "        self.X_input = X_input.copy()\n",
    "        self.X_target = X_target.copy()\n",
    "        self.X_original = X_original.copy()\n",
    "        self.hadamard = hadamard.copy()\n",
    "        \n",
    "    def __len__(self):\n",
    "        return len(self.X_input)\n",
    "    \n",
    "    def __getitem__(self, idx):\n",
    "        return self.X_input[idx], self.X_target[idx], self.X_original[idx], self.hadamard[idx]"
   ]
  },
  {
   "cell_type": "code",
   "execution_count": 87,
   "id": "abc690c5",
   "metadata": {},
   "outputs": [],
   "source": [
    "# define the autoencoder architecture\n",
    "class AutoEncoder(nn.Module):\n",
    "    def __init__(self):\n",
    "        super(AutoEncoder, self).__init__()\n",
    "\n",
    "        self.fc1 = nn.Linear(97, 45)\n",
    "        self.fc2 = nn.Linear(45, 16)\n",
    "        self.fc3 = nn.Linear(16, 45)\n",
    "        self.fc4 = nn.Linear(45, 97)\n",
    "\n",
    "    def encode(self, x):\n",
    "        h1 = F.relu(self.fc1(x))\n",
    "        return self.fc2(h1)\n",
    "\n",
    "    def decode(self, z):\n",
    "        h2 = F.relu(self.fc3(z))\n",
    "        return F.sigmoid(self.fc4(h2))\n",
    "\n",
    "    def forward(self, x):\n",
    "        z = self.encode(x.view(-1, 97))\n",
    "        return self.decode(z)"
   ]
  },
  {
   "cell_type": "code",
   "execution_count": 88,
   "id": "616d2868",
   "metadata": {},
   "outputs": [
    {
     "data": {
      "text/plain": [
       "'\\nclass AutoEncoder(nn.Module):\\n    def __init__(self):\\n        super(AutoEncoder, self).__init__()\\n\\n        self.fc1 = nn.Linear(97, 34)\\n        self.fc2 = nn.Linear(34, 8)\\n        self.fc3 = nn.Linear(8, 34)\\n        self.fc4 = nn.Linear(34, 97)\\n\\n    def encode(self, x):\\n        h1 = F.relu(self.fc1(x))\\n        return self.fc2(h1)\\n\\n    def decode(self, z):\\n        h2 = F.relu(self.fc3(z))\\n        return F.sigmoid(self.fc4(h2))\\n\\n    def forward(self, x):\\n        z = self.encode(x.view(-1, 97))\\n        return self.decode(z)\\n'"
      ]
     },
     "execution_count": 88,
     "metadata": {},
     "output_type": "execute_result"
    }
   ],
   "source": [
    "# define the autoencoder architecture\n",
    "'''\n",
    "class AutoEncoder(nn.Module):\n",
    "    def __init__(self):\n",
    "        super(AutoEncoder, self).__init__()\n",
    "\n",
    "        self.fc1 = nn.Linear(97, 34)\n",
    "        self.fc2 = nn.Linear(34, 8)\n",
    "        self.fc3 = nn.Linear(8, 34)\n",
    "        self.fc4 = nn.Linear(34, 97)\n",
    "\n",
    "    def encode(self, x):\n",
    "        h1 = F.relu(self.fc1(x))\n",
    "        return self.fc2(h1)\n",
    "\n",
    "    def decode(self, z):\n",
    "        h2 = F.relu(self.fc3(z))\n",
    "        return F.sigmoid(self.fc4(h2))\n",
    "\n",
    "    def forward(self, x):\n",
    "        z = self.encode(x.view(-1, 97))\n",
    "        return self.decode(z)\n",
    "'''"
   ]
  },
  {
   "cell_type": "code",
   "execution_count": 89,
   "id": "25eb718b",
   "metadata": {},
   "outputs": [],
   "source": [
    "#creating train and valid datasets\n",
    "train_ds = MMData(X_train_inputs, X_train_target, X_train_original, hadamard_train)\n",
    "valid_ds = MMData(X_val_inputs, X_val_target, X_val_original, hadamard_val)\n",
    "test_ds = MMData(X_test_inputs, X_test_target, X_test_original, hadamard_test)\n",
    "\n",
    "batch_size = 64\n",
    "train_dl = DataLoader(train_ds, batch_size=batch_size,shuffle=True)\n",
    "valid_dl = DataLoader(valid_ds, batch_size=batch_size,shuffle=True)\n",
    "test_dl = DataLoader(test_ds, batch_size=batch_size,shuffle=True)"
   ]
  },
  {
   "cell_type": "code",
   "execution_count": 90,
   "id": "e6fe6274",
   "metadata": {},
   "outputs": [],
   "source": [
    "# define the loss function\n",
    "def loss_function(Y_hat, Y, Omega):\n",
    "    loss = torch.sum(Omega*(Y_hat-Y)**2)\n",
    "    return loss"
   ]
  },
  {
   "cell_type": "code",
   "execution_count": 91,
   "id": "6bf09c5f",
   "metadata": {},
   "outputs": [],
   "source": [
    "# define the model and optimizer\n",
    "model = AutoEncoder()\n",
    "model.to('cuda:0')\n",
    "optimizer = optim.Adam(list(model.parameters()), lr=1e-3)"
   ]
  },
  {
   "cell_type": "code",
   "execution_count": 92,
   "id": "55caecac",
   "metadata": {},
   "outputs": [],
   "source": [
    "# define the train and validation loops\n",
    "def train(epoch):\n",
    "    model.train()\n",
    "    train_loss = 0\n",
    "    preds_train = []\n",
    "    orig_train = []\n",
    "    hadamards_train = []\n",
    "    for X_train_inputs, X_train_target, X_train_original, hadamard_train in tqdm(train_dl):\n",
    "        X_train_inputs, X_train_target, X_train_original, hadamard_train = X_train_inputs.cuda(), X_train_target.cuda(), X_train_original.cuda(), hadamard_train.cuda()\n",
    "        optimizer.zero_grad()\n",
    "        recon = model(X_train_inputs.float())\n",
    "        loss = loss_function(recon, X_train_target, hadamard_train)      \n",
    "        loss.backward()\n",
    "        train_loss += loss.item()\n",
    "        optimizer.step() \n",
    "        if epoch == 200:\n",
    "            preds_train.append(recon.cpu().detach().numpy())\n",
    "            orig_train.append(X_train_original.cpu().detach().numpy())\n",
    "            hadamards_train.append(hadamard_train.cpu().detach().numpy())            \n",
    "    train_loss=train_loss/len(train_dl)\n",
    "    train_losses.append(train_loss)\n",
    "    print('Train Loss: %.3f'%(train_loss))\n",
    "    return train_losses, preds_train, orig_train, hadamards_train"
   ]
  },
  {
   "cell_type": "code",
   "execution_count": 93,
   "id": "4064a9b8",
   "metadata": {},
   "outputs": [],
   "source": [
    "#define the validation epochs\n",
    "def val(epoch):\n",
    "    model.eval()\n",
    "    running_loss=0\n",
    "    preds_val = []\n",
    "    orig_val = []\n",
    "    hadamards_val = []\n",
    "    with torch.no_grad():\n",
    "        for X_val_inputs, X_val_target, X_val_original, hadamard_val in tqdm(valid_dl):\n",
    "            X_val_inputs, X_val_target, X_val_original, hadamard_val = X_val_inputs.cuda(), X_val_target.cuda(), X_val_original.cuda(), hadamard_val.cuda()\n",
    "            recon=model(X_val_inputs.float())\n",
    "            loss = loss_function(recon, X_val_target, hadamard_val) \n",
    "            running_loss+=loss.item()\n",
    "            if epoch == 200:\n",
    "                preds_val.append(recon.cpu().detach().numpy())\n",
    "                orig_val.append(X_val_original.cpu().detach().numpy())\n",
    "                hadamards_val.append(hadamard_val.cpu().detach().numpy()) \n",
    "        eval_loss=running_loss/len(valid_dl)\n",
    "        eval_losses.append(eval_loss)\n",
    "    print('Validation Loss: %.3f' %(eval_loss))\n",
    "    return eval_losses, preds_val, orig_val, hadamards_val"
   ]
  },
  {
   "cell_type": "code",
   "execution_count": 94,
   "id": "b53192d1",
   "metadata": {},
   "outputs": [
    {
     "name": "stderr",
     "output_type": "stream",
     "text": [
      "  0%|                                                                                          | 0/273 [00:00<?, ?it/s]C:\\Users\\16175\\Anaconda3\\envs\\pytorch\\lib\\site-packages\\torch\\nn\\functional.py:1639: UserWarning: nn.functional.sigmoid is deprecated. Use torch.sigmoid instead.\n",
      "  warnings.warn(\"nn.functional.sigmoid is deprecated. Use torch.sigmoid instead.\")\n",
      "100%|███████████████████████████████████████████████████████████████████████████████| 273/273 [00:01<00:00, 156.24it/s]\n",
      "100%|███████████████████████████████████████████████████████████████████████████████████| 3/3 [00:00<00:00, 429.64it/s]\n",
      "  7%|█████▎                                                                          | 18/273 [00:00<00:01, 171.89it/s]"
     ]
    },
    {
     "name": "stdout",
     "output_type": "stream",
     "text": [
      "Train Loss: 98.745\n",
      "Validation Loss: 4.719\n"
     ]
    },
    {
     "name": "stderr",
     "output_type": "stream",
     "text": [
      "100%|███████████████████████████████████████████████████████████████████████████████| 273/273 [00:01<00:00, 178.79it/s]\n",
      "100%|███████████████████████████████████████████████████████████████████████████████████| 3/3 [00:00<00:00, 429.77it/s]\n",
      "  7%|█████▊                                                                          | 20/273 [00:00<00:01, 192.82it/s]"
     ]
    },
    {
     "name": "stdout",
     "output_type": "stream",
     "text": [
      "Train Loss: 28.971\n",
      "Validation Loss: 3.854\n"
     ]
    },
    {
     "name": "stderr",
     "output_type": "stream",
     "text": [
      "100%|███████████████████████████████████████████████████████████████████████████████| 273/273 [00:01<00:00, 189.96it/s]\n",
      "100%|███████████████████████████████████████████████████████████████████████████████████| 3/3 [00:00<00:00, 501.29it/s]\n",
      "  8%|██████▏                                                                         | 21/273 [00:00<00:01, 200.53it/s]"
     ]
    },
    {
     "name": "stdout",
     "output_type": "stream",
     "text": [
      "Train Loss: 19.411\n",
      "Validation Loss: 2.256\n"
     ]
    },
    {
     "name": "stderr",
     "output_type": "stream",
     "text": [
      "100%|███████████████████████████████████████████████████████████████████████████████| 273/273 [00:01<00:00, 185.59it/s]\n",
      "100%|███████████████████████████████████████████████████████████████████████████████████| 3/3 [00:00<00:00, 499.86it/s]\n",
      "  7%|█████▊                                                                          | 20/273 [00:00<00:01, 196.53it/s]"
     ]
    },
    {
     "name": "stdout",
     "output_type": "stream",
     "text": [
      "Train Loss: 16.207\n",
      "Validation Loss: 2.202\n"
     ]
    },
    {
     "name": "stderr",
     "output_type": "stream",
     "text": [
      "100%|███████████████████████████████████████████████████████████████████████████████| 273/273 [00:01<00:00, 185.71it/s]\n",
      "100%|███████████████████████████████████████████████████████████████████████████████████| 3/3 [00:00<00:00, 498.33it/s]\n",
      "  7%|█████▊                                                                          | 20/273 [00:00<00:01, 198.45it/s]"
     ]
    },
    {
     "name": "stdout",
     "output_type": "stream",
     "text": [
      "Train Loss: 15.610\n",
      "Validation Loss: 2.460\n"
     ]
    },
    {
     "name": "stderr",
     "output_type": "stream",
     "text": [
      "100%|███████████████████████████████████████████████████████████████████████████████| 273/273 [00:01<00:00, 192.84it/s]\n",
      "100%|███████████████████████████████████████████████████████████████████████████████████| 3/3 [00:00<00:00, 376.04it/s]\n",
      "  7%|█████▌                                                                          | 19/273 [00:00<00:01, 184.96it/s]"
     ]
    },
    {
     "name": "stdout",
     "output_type": "stream",
     "text": [
      "Train Loss: 15.102\n",
      "Validation Loss: 2.531\n"
     ]
    },
    {
     "name": "stderr",
     "output_type": "stream",
     "text": [
      "100%|███████████████████████████████████████████████████████████████████████████████| 273/273 [00:01<00:00, 185.21it/s]\n",
      "100%|███████████████████████████████████████████████████████████████████████████████████| 3/3 [00:00<00:00, 431.78it/s]\n",
      "  7%|█████▊                                                                          | 20/273 [00:00<00:01, 190.99it/s]"
     ]
    },
    {
     "name": "stdout",
     "output_type": "stream",
     "text": [
      "Train Loss: 14.594\n",
      "Validation Loss: 2.481\n"
     ]
    },
    {
     "name": "stderr",
     "output_type": "stream",
     "text": [
      "100%|███████████████████████████████████████████████████████████████████████████████| 273/273 [00:01<00:00, 180.32it/s]\n",
      "100%|███████████████████████████████████████████████████████████████████████████████████| 3/3 [00:00<00:00, 501.27it/s]\n",
      "  8%|██████▏                                                                         | 21/273 [00:00<00:01, 202.46it/s]"
     ]
    },
    {
     "name": "stdout",
     "output_type": "stream",
     "text": [
      "Train Loss: 13.684\n",
      "Validation Loss: 2.417\n"
     ]
    },
    {
     "name": "stderr",
     "output_type": "stream",
     "text": [
      "100%|███████████████████████████████████████████████████████████████████████████████| 273/273 [00:01<00:00, 191.95it/s]\n",
      "100%|███████████████████████████████████████████████████████████████████████████████████| 3/3 [00:00<00:00, 427.57it/s]\n",
      "  6%|████▋                                                                           | 16/273 [00:00<00:01, 152.74it/s]"
     ]
    },
    {
     "name": "stdout",
     "output_type": "stream",
     "text": [
      "Train Loss: 12.429\n",
      "Validation Loss: 2.160\n"
     ]
    },
    {
     "name": "stderr",
     "output_type": "stream",
     "text": [
      "100%|███████████████████████████████████████████████████████████████████████████████| 273/273 [00:01<00:00, 188.12it/s]\n",
      "100%|███████████████████████████████████████████████████████████████████████████████████| 3/3 [00:00<00:00, 498.41it/s]\n",
      "  7%|█████▊                                                                          | 20/273 [00:00<00:01, 190.90it/s]"
     ]
    },
    {
     "name": "stdout",
     "output_type": "stream",
     "text": [
      "Train Loss: 10.680\n",
      "Validation Loss: 1.522\n"
     ]
    },
    {
     "name": "stderr",
     "output_type": "stream",
     "text": [
      "100%|███████████████████████████████████████████████████████████████████████████████| 273/273 [00:01<00:00, 194.38it/s]\n",
      "100%|███████████████████████████████████████████████████████████████████████████████████| 3/3 [00:00<00:00, 375.96it/s]\n",
      "  8%|██████▏                                                                         | 21/273 [00:00<00:01, 200.54it/s]"
     ]
    },
    {
     "name": "stdout",
     "output_type": "stream",
     "text": [
      "Train Loss: 9.025\n",
      "Validation Loss: 1.418\n"
     ]
    },
    {
     "name": "stderr",
     "output_type": "stream",
     "text": [
      "100%|███████████████████████████████████████████████████████████████████████████████| 273/273 [00:01<00:00, 182.70it/s]\n",
      "100%|███████████████████████████████████████████████████████████████████████████████████| 3/3 [00:00<00:00, 375.98it/s]\n",
      "  8%|██████▏                                                                         | 21/273 [00:00<00:01, 198.64it/s]"
     ]
    },
    {
     "name": "stdout",
     "output_type": "stream",
     "text": [
      "Train Loss: 7.501\n",
      "Validation Loss: 1.103\n"
     ]
    },
    {
     "name": "stderr",
     "output_type": "stream",
     "text": [
      "100%|███████████████████████████████████████████████████████████████████████████████| 273/273 [00:01<00:00, 186.97it/s]\n",
      "100%|███████████████████████████████████████████████████████████████████████████████████| 3/3 [00:00<00:00, 429.71it/s]\n",
      "  6%|████▉                                                                           | 17/273 [00:00<00:01, 159.26it/s]"
     ]
    },
    {
     "name": "stdout",
     "output_type": "stream",
     "text": [
      "Train Loss: 6.573\n",
      "Validation Loss: 1.118\n"
     ]
    },
    {
     "name": "stderr",
     "output_type": "stream",
     "text": [
      "100%|███████████████████████████████████████████████████████████████████████████████| 273/273 [00:01<00:00, 183.92it/s]\n",
      "100%|███████████████████████████████████████████████████████████████████████████████████| 3/3 [00:00<00:00, 498.21it/s]\n",
      "  6%|████▉                                                                           | 17/273 [00:00<00:01, 168.71it/s]"
     ]
    },
    {
     "name": "stdout",
     "output_type": "stream",
     "text": [
      "Train Loss: 6.191\n",
      "Validation Loss: 1.140\n"
     ]
    },
    {
     "name": "stderr",
     "output_type": "stream",
     "text": [
      "100%|███████████████████████████████████████████████████████████████████████████████| 273/273 [00:01<00:00, 180.32it/s]\n",
      "100%|███████████████████████████████████████████████████████████████████████████████████| 3/3 [00:00<00:00, 501.13it/s]\n",
      "  7%|█████▌                                                                          | 19/273 [00:00<00:01, 184.96it/s]"
     ]
    },
    {
     "name": "stdout",
     "output_type": "stream",
     "text": [
      "Train Loss: 5.816\n",
      "Validation Loss: 1.056\n"
     ]
    },
    {
     "name": "stderr",
     "output_type": "stream",
     "text": [
      "100%|███████████████████████████████████████████████████████████████████████████████| 273/273 [00:01<00:00, 188.61it/s]\n",
      "100%|███████████████████████████████████████████████████████████████████████████████████| 3/3 [00:00<00:00, 498.29it/s]\n",
      "  8%|██████▏                                                                         | 21/273 [00:00<00:01, 204.36it/s]"
     ]
    },
    {
     "name": "stdout",
     "output_type": "stream",
     "text": [
      "Train Loss: 5.370\n",
      "Validation Loss: 0.985\n"
     ]
    },
    {
     "name": "stderr",
     "output_type": "stream",
     "text": [
      "100%|███████████████████████████████████████████████████████████████████████████████| 273/273 [00:01<00:00, 182.51it/s]\n",
      "100%|███████████████████████████████████████████████████████████████████████████████████| 3/3 [00:00<00:00, 429.74it/s]\n",
      "  7%|█████▊                                                                          | 20/273 [00:00<00:01, 198.55it/s]"
     ]
    },
    {
     "name": "stdout",
     "output_type": "stream",
     "text": [
      "Train Loss: 4.926\n",
      "Validation Loss: 0.893\n"
     ]
    },
    {
     "name": "stderr",
     "output_type": "stream",
     "text": [
      "100%|███████████████████████████████████████████████████████████████████████████████| 273/273 [00:01<00:00, 181.04it/s]\n",
      "100%|███████████████████████████████████████████████████████████████████████████████████| 3/3 [00:00<00:00, 429.70it/s]\n",
      "  8%|██████▏                                                                         | 21/273 [00:00<00:01, 202.46it/s]"
     ]
    },
    {
     "name": "stdout",
     "output_type": "stream",
     "text": [
      "Train Loss: 4.612\n",
      "Validation Loss: 0.832\n"
     ]
    },
    {
     "name": "stderr",
     "output_type": "stream",
     "text": [
      "100%|███████████████████████████████████████████████████████████████████████████████| 273/273 [00:01<00:00, 196.73it/s]\n",
      "100%|███████████████████████████████████████████████████████████████████████████████████| 3/3 [00:00<00:00, 498.65it/s]\n",
      "  6%|████▋                                                                           | 16/273 [00:00<00:01, 154.21it/s]"
     ]
    },
    {
     "name": "stdout",
     "output_type": "stream",
     "text": [
      "Train Loss: 4.407\n",
      "Validation Loss: 0.711\n"
     ]
    },
    {
     "name": "stderr",
     "output_type": "stream",
     "text": [
      "100%|███████████████████████████████████████████████████████████████████████████████| 273/273 [00:01<00:00, 188.25it/s]\n",
      "100%|███████████████████████████████████████████████████████████████████████████████████| 3/3 [00:00<00:00, 427.55it/s]\n",
      "  8%|██████▏                                                                         | 21/273 [00:00<00:01, 202.46it/s]"
     ]
    },
    {
     "name": "stdout",
     "output_type": "stream",
     "text": [
      "Train Loss: 4.235\n",
      "Validation Loss: 0.753\n"
     ]
    },
    {
     "name": "stderr",
     "output_type": "stream",
     "text": [
      "100%|███████████████████████████████████████████████████████████████████████████████| 273/273 [00:01<00:00, 182.49it/s]\n",
      "100%|███████████████████████████████████████████████████████████████████████████████████| 3/3 [00:00<00:00, 502.05it/s]\n",
      "  8%|██████▏                                                                         | 21/273 [00:00<00:01, 202.46it/s]"
     ]
    },
    {
     "name": "stdout",
     "output_type": "stream",
     "text": [
      "Train Loss: 4.015\n",
      "Validation Loss: 0.751\n"
     ]
    },
    {
     "name": "stderr",
     "output_type": "stream",
     "text": [
      "100%|███████████████████████████████████████████████████████████████████████████████| 273/273 [00:01<00:00, 192.53it/s]\n",
      "100%|███████████████████████████████████████████████████████████████████████████████████| 3/3 [00:00<00:00, 601.82it/s]\n",
      "  6%|████▋                                                                           | 16/273 [00:00<00:01, 152.74it/s]"
     ]
    },
    {
     "name": "stdout",
     "output_type": "stream",
     "text": [
      "Train Loss: 3.740\n",
      "Validation Loss: 0.696\n"
     ]
    },
    {
     "name": "stderr",
     "output_type": "stream",
     "text": [
      "100%|███████████████████████████████████████████████████████████████████████████████| 273/273 [00:01<00:00, 183.17it/s]\n",
      "100%|███████████████████████████████████████████████████████████████████████████████████| 3/3 [00:00<00:00, 334.31it/s]\n",
      "  6%|████▉                                                                           | 17/273 [00:00<00:01, 168.77it/s]"
     ]
    },
    {
     "name": "stdout",
     "output_type": "stream",
     "text": [
      "Train Loss: 3.436\n",
      "Validation Loss: 0.689\n"
     ]
    },
    {
     "name": "stderr",
     "output_type": "stream",
     "text": [
      "100%|███████████████████████████████████████████████████████████████████████████████| 273/273 [00:01<00:00, 175.47it/s]\n",
      "100%|███████████████████████████████████████████████████████████████████████████████████| 3/3 [00:00<00:00, 501.29it/s]\n",
      "  8%|██████▏                                                                         | 21/273 [00:00<00:01, 206.43it/s]"
     ]
    },
    {
     "name": "stdout",
     "output_type": "stream",
     "text": [
      "Train Loss: 3.256\n",
      "Validation Loss: 0.664\n"
     ]
    },
    {
     "name": "stderr",
     "output_type": "stream",
     "text": [
      "100%|███████████████████████████████████████████████████████████████████████████████| 273/273 [00:01<00:00, 185.20it/s]\n",
      "100%|███████████████████████████████████████████████████████████████████████████████████| 3/3 [00:00<00:00, 429.73it/s]\n",
      "  7%|█████▌                                                                          | 19/273 [00:00<00:01, 179.72it/s]"
     ]
    },
    {
     "name": "stdout",
     "output_type": "stream",
     "text": [
      "Train Loss: 3.151\n",
      "Validation Loss: 0.637\n"
     ]
    },
    {
     "name": "stderr",
     "output_type": "stream",
     "text": [
      "100%|███████████████████████████████████████████████████████████████████████████████| 273/273 [00:01<00:00, 176.37it/s]\n",
      "100%|███████████████████████████████████████████████████████████████████████████████████| 3/3 [00:00<00:00, 501.05it/s]\n",
      "  6%|████▉                                                                           | 17/273 [00:00<00:01, 159.25it/s]"
     ]
    },
    {
     "name": "stdout",
     "output_type": "stream",
     "text": [
      "Train Loss: 3.057\n",
      "Validation Loss: 0.547\n"
     ]
    },
    {
     "name": "stderr",
     "output_type": "stream",
     "text": [
      "100%|███████████████████████████████████████████████████████████████████████████████| 273/273 [00:01<00:00, 185.07it/s]\n",
      "100%|███████████████████████████████████████████████████████████████████████████████████| 3/3 [00:00<00:00, 498.61it/s]\n",
      "  7%|█████▊                                                                          | 20/273 [00:00<00:01, 194.69it/s]"
     ]
    },
    {
     "name": "stdout",
     "output_type": "stream",
     "text": [
      "Train Loss: 2.982\n",
      "Validation Loss: 0.586\n"
     ]
    },
    {
     "name": "stderr",
     "output_type": "stream",
     "text": [
      "100%|███████████████████████████████████████████████████████████████████████████████| 273/273 [00:01<00:00, 184.68it/s]\n",
      "100%|███████████████████████████████████████████████████████████████████████████████████| 3/3 [00:00<00:00, 332.95it/s]\n",
      "  7%|█████▎                                                                          | 18/273 [00:00<00:01, 171.83it/s]"
     ]
    },
    {
     "name": "stdout",
     "output_type": "stream",
     "text": [
      "Train Loss: 2.893\n",
      "Validation Loss: 0.492\n"
     ]
    },
    {
     "name": "stderr",
     "output_type": "stream",
     "text": [
      "100%|███████████████████████████████████████████████████████████████████████████████| 273/273 [00:01<00:00, 192.47it/s]\n",
      "100%|███████████████████████████████████████████████████████████████████████████████████| 3/3 [00:00<00:00, 501.71it/s]\n",
      "  6%|████▉                                                                           | 17/273 [00:00<00:01, 168.82it/s]"
     ]
    },
    {
     "name": "stdout",
     "output_type": "stream",
     "text": [
      "Train Loss: 2.782\n",
      "Validation Loss: 0.497\n"
     ]
    },
    {
     "name": "stderr",
     "output_type": "stream",
     "text": [
      "100%|███████████████████████████████████████████████████████████████████████████████| 273/273 [00:01<00:00, 184.71it/s]\n",
      "100%|███████████████████████████████████████████████████████████████████████████████████| 3/3 [00:00<00:00, 429.73it/s]\n",
      "  6%|████▋                                                                           | 16/273 [00:00<00:01, 149.93it/s]"
     ]
    },
    {
     "name": "stdout",
     "output_type": "stream",
     "text": [
      "Train Loss: 2.647\n",
      "Validation Loss: 0.490\n"
     ]
    },
    {
     "name": "stderr",
     "output_type": "stream",
     "text": [
      "100%|███████████████████████████████████████████████████████████████████████████████| 273/273 [00:01<00:00, 177.17it/s]\n",
      "100%|███████████████████████████████████████████████████████████████████████████████████| 3/3 [00:00<00:00, 501.35it/s]\n",
      "  8%|██████▏                                                                         | 21/273 [00:00<00:01, 204.43it/s]"
     ]
    },
    {
     "name": "stdout",
     "output_type": "stream",
     "text": [
      "Train Loss: 2.538\n",
      "Validation Loss: 0.501\n"
     ]
    },
    {
     "name": "stderr",
     "output_type": "stream",
     "text": [
      "100%|███████████████████████████████████████████████████████████████████████████████| 273/273 [00:01<00:00, 193.04it/s]\n",
      "100%|███████████████████████████████████████████████████████████████████████████████████| 3/3 [00:00<00:00, 601.71it/s]\n",
      "  6%|████▋                                                                           | 16/273 [00:00<00:01, 155.75it/s]"
     ]
    },
    {
     "name": "stdout",
     "output_type": "stream",
     "text": [
      "Train Loss: 2.475\n",
      "Validation Loss: 0.468\n"
     ]
    },
    {
     "name": "stderr",
     "output_type": "stream",
     "text": [
      "100%|███████████████████████████████████████████████████████████████████████████████| 273/273 [00:01<00:00, 175.36it/s]\n",
      "100%|███████████████████████████████████████████████████████████████████████████████████| 3/3 [00:00<00:00, 429.69it/s]\n",
      "  6%|████▉                                                                           | 17/273 [00:00<00:01, 160.76it/s]"
     ]
    },
    {
     "name": "stdout",
     "output_type": "stream",
     "text": [
      "Train Loss: 2.410\n",
      "Validation Loss: 0.455\n"
     ]
    },
    {
     "name": "stderr",
     "output_type": "stream",
     "text": [
      "100%|███████████████████████████████████████████████████████████████████████████████| 273/273 [00:01<00:00, 173.14it/s]\n",
      "100%|███████████████████████████████████████████████████████████████████████████████████| 3/3 [00:00<00:00, 429.66it/s]\n",
      " 15%|███████████▋                                                                    | 40/273 [00:00<00:01, 197.74it/s]"
     ]
    },
    {
     "name": "stdout",
     "output_type": "stream",
     "text": [
      "Train Loss: 2.360\n",
      "Validation Loss: 0.474\n"
     ]
    },
    {
     "name": "stderr",
     "output_type": "stream",
     "text": [
      "100%|███████████████████████████████████████████████████████████████████████████████| 273/273 [00:01<00:00, 187.84it/s]\n",
      "100%|███████████████████████████████████████████████████████████████████████████████████| 3/3 [00:00<00:00, 501.31it/s]\n",
      "  8%|██████▏                                                                         | 21/273 [00:00<00:01, 202.46it/s]"
     ]
    },
    {
     "name": "stdout",
     "output_type": "stream",
     "text": [
      "Train Loss: 2.306\n",
      "Validation Loss: 0.446\n"
     ]
    },
    {
     "name": "stderr",
     "output_type": "stream",
     "text": [
      "100%|███████████████████████████████████████████████████████████████████████████████| 273/273 [00:01<00:00, 190.97it/s]\n",
      "100%|███████████████████████████████████████████████████████████████████████████████████| 3/3 [00:00<00:00, 498.67it/s]\n",
      "  7%|█████▊                                                                          | 20/273 [00:00<00:01, 192.82it/s]"
     ]
    },
    {
     "name": "stdout",
     "output_type": "stream",
     "text": [
      "Train Loss: 2.272\n",
      "Validation Loss: 0.444\n"
     ]
    },
    {
     "name": "stderr",
     "output_type": "stream",
     "text": [
      "100%|███████████████████████████████████████████████████████████████████████████████| 273/273 [00:01<00:00, 180.79it/s]\n",
      "100%|███████████████████████████████████████████████████████████████████████████████████| 3/3 [00:00<00:00, 501.41it/s]\n",
      "  7%|█████▌                                                                          | 19/273 [00:00<00:01, 183.18it/s]"
     ]
    },
    {
     "name": "stdout",
     "output_type": "stream",
     "text": [
      "Train Loss: 2.229\n",
      "Validation Loss: 0.434\n"
     ]
    },
    {
     "name": "stderr",
     "output_type": "stream",
     "text": [
      "100%|███████████████████████████████████████████████████████████████████████████████| 273/273 [00:01<00:00, 188.36it/s]\n",
      "100%|███████████████████████████████████████████████████████████████████████████████████| 3/3 [00:00<00:00, 427.61it/s]\n",
      "  8%|██████▏                                                                         | 21/273 [00:00<00:01, 200.47it/s]"
     ]
    },
    {
     "name": "stdout",
     "output_type": "stream",
     "text": [
      "Train Loss: 2.183\n",
      "Validation Loss: 0.411\n"
     ]
    },
    {
     "name": "stderr",
     "output_type": "stream",
     "text": [
      "100%|███████████████████████████████████████████████████████████████████████████████| 273/273 [00:01<00:00, 191.28it/s]\n",
      "100%|███████████████████████████████████████████████████████████████████████████████████| 3/3 [00:00<00:00, 597.28it/s]\n",
      "  8%|██████▏                                                                         | 21/273 [00:00<00:01, 202.33it/s]"
     ]
    },
    {
     "name": "stdout",
     "output_type": "stream",
     "text": [
      "Train Loss: 2.136\n",
      "Validation Loss: 0.399\n"
     ]
    },
    {
     "name": "stderr",
     "output_type": "stream",
     "text": [
      "100%|███████████████████████████████████████████████████████████████████████████████| 273/273 [00:01<00:00, 190.65it/s]\n",
      "100%|███████████████████████████████████████████████████████████████████████████████████| 3/3 [00:00<00:00, 498.47it/s]\n",
      "  6%|████▉                                                                           | 17/273 [00:00<00:01, 167.11it/s]"
     ]
    },
    {
     "name": "stdout",
     "output_type": "stream",
     "text": [
      "Train Loss: 2.087\n",
      "Validation Loss: 0.382\n"
     ]
    },
    {
     "name": "stderr",
     "output_type": "stream",
     "text": [
      "100%|███████████████████████████████████████████████████████████████████████████████| 273/273 [00:01<00:00, 188.52it/s]\n",
      "100%|███████████████████████████████████████████████████████████████████████████████████| 3/3 [00:00<00:00, 334.17it/s]\n",
      "  6%|████▋                                                                           | 16/273 [00:00<00:01, 152.74it/s]"
     ]
    },
    {
     "name": "stdout",
     "output_type": "stream",
     "text": [
      "Train Loss: 2.020\n",
      "Validation Loss: 0.387\n"
     ]
    },
    {
     "name": "stderr",
     "output_type": "stream",
     "text": [
      "100%|███████████████████████████████████████████████████████████████████████████████| 273/273 [00:01<00:00, 176.24it/s]\n",
      "100%|███████████████████████████████████████████████████████████████████████████████████| 3/3 [00:00<00:00, 428.28it/s]\n",
      "  6%|████▉                                                                           | 17/273 [00:00<00:01, 168.71it/s]"
     ]
    },
    {
     "name": "stdout",
     "output_type": "stream",
     "text": [
      "Train Loss: 1.956\n",
      "Validation Loss: 0.428\n"
     ]
    },
    {
     "name": "stderr",
     "output_type": "stream",
     "text": [
      "100%|███████████████████████████████████████████████████████████████████████████████| 273/273 [00:01<00:00, 178.18it/s]\n",
      "100%|███████████████████████████████████████████████████████████████████████████████████| 3/3 [00:00<00:00, 334.19it/s]\n",
      "  7%|█████▌                                                                          | 19/273 [00:00<00:01, 183.18it/s]"
     ]
    },
    {
     "name": "stdout",
     "output_type": "stream",
     "text": [
      "Train Loss: 1.912\n",
      "Validation Loss: 0.433\n"
     ]
    },
    {
     "name": "stderr",
     "output_type": "stream",
     "text": [
      "100%|███████████████████████████████████████████████████████████████████████████████| 273/273 [00:01<00:00, 168.14it/s]\n",
      "100%|███████████████████████████████████████████████████████████████████████████████████| 3/3 [00:00<00:00, 375.97it/s]\n",
      "  7%|█████▌                                                                          | 19/273 [00:00<00:01, 188.62it/s]"
     ]
    },
    {
     "name": "stdout",
     "output_type": "stream",
     "text": [
      "Train Loss: 1.868\n",
      "Validation Loss: 0.379\n"
     ]
    },
    {
     "name": "stderr",
     "output_type": "stream",
     "text": [
      "100%|███████████████████████████████████████████████████████████████████████████████| 273/273 [00:01<00:00, 186.72it/s]\n",
      "100%|███████████████████████████████████████████████████████████████████████████████████| 3/3 [00:00<00:00, 501.35it/s]\n",
      "  6%|████▋                                                                           | 16/273 [00:00<00:01, 158.78it/s]"
     ]
    },
    {
     "name": "stdout",
     "output_type": "stream",
     "text": [
      "Train Loss: 1.832\n",
      "Validation Loss: 0.393\n"
     ]
    },
    {
     "name": "stderr",
     "output_type": "stream",
     "text": [
      "100%|███████████████████████████████████████████████████████████████████████████████| 273/273 [00:01<00:00, 173.48it/s]\n",
      "100%|███████████████████████████████████████████████████████████████████████████████████| 3/3 [00:00<00:00, 498.37it/s]\n",
      " 14%|███████████▏                                                                    | 38/273 [00:00<00:01, 189.55it/s]"
     ]
    },
    {
     "name": "stdout",
     "output_type": "stream",
     "text": [
      "Train Loss: 1.801\n",
      "Validation Loss: 0.410\n"
     ]
    },
    {
     "name": "stderr",
     "output_type": "stream",
     "text": [
      "100%|███████████████████████████████████████████████████████████████████████████████| 273/273 [00:01<00:00, 181.03it/s]\n",
      "100%|███████████████████████████████████████████████████████████████████████████████████| 3/3 [00:00<00:00, 498.45it/s]\n",
      "  7%|█████▊                                                                          | 20/273 [00:00<00:01, 198.45it/s]"
     ]
    },
    {
     "name": "stdout",
     "output_type": "stream",
     "text": [
      "Train Loss: 1.779\n",
      "Validation Loss: 0.391\n"
     ]
    },
    {
     "name": "stderr",
     "output_type": "stream",
     "text": [
      "100%|███████████████████████████████████████████████████████████████████████████████| 273/273 [00:01<00:00, 169.62it/s]\n",
      "100%|███████████████████████████████████████████████████████████████████████████████████| 3/3 [00:00<00:00, 429.71it/s]\n",
      "  6%|████▋                                                                           | 16/273 [00:00<00:01, 152.79it/s]"
     ]
    },
    {
     "name": "stdout",
     "output_type": "stream",
     "text": [
      "Train Loss: 1.753\n",
      "Validation Loss: 0.413\n"
     ]
    },
    {
     "name": "stderr",
     "output_type": "stream",
     "text": [
      "100%|███████████████████████████████████████████████████████████████████████████████| 273/273 [00:01<00:00, 167.11it/s]\n",
      "100%|███████████████████████████████████████████████████████████████████████████████████| 3/3 [00:00<00:00, 429.69it/s]\n",
      "  7%|█████▎                                                                          | 18/273 [00:00<00:01, 170.26it/s]"
     ]
    },
    {
     "name": "stdout",
     "output_type": "stream",
     "text": [
      "Train Loss: 1.729\n",
      "Validation Loss: 0.374\n"
     ]
    },
    {
     "name": "stderr",
     "output_type": "stream",
     "text": [
      "100%|███████████████████████████████████████████████████████████████████████████████| 273/273 [00:01<00:00, 151.71it/s]\n",
      "100%|███████████████████████████████████████████████████████████████████████████████████| 3/3 [00:00<00:00, 429.85it/s]\n",
      "  7%|█████▎                                                                          | 18/273 [00:00<00:01, 176.94it/s]"
     ]
    },
    {
     "name": "stdout",
     "output_type": "stream",
     "text": [
      "Train Loss: 1.713\n",
      "Validation Loss: 0.422\n"
     ]
    },
    {
     "name": "stderr",
     "output_type": "stream",
     "text": [
      "100%|███████████████████████████████████████████████████████████████████████████████| 273/273 [00:01<00:00, 163.06it/s]\n",
      "100%|███████████████████████████████████████████████████████████████████████████████████| 3/3 [00:00<00:00, 429.76it/s]\n",
      "  7%|█████▎                                                                          | 18/273 [00:00<00:01, 176.94it/s]"
     ]
    },
    {
     "name": "stdout",
     "output_type": "stream",
     "text": [
      "Train Loss: 1.694\n",
      "Validation Loss: 0.403\n"
     ]
    },
    {
     "name": "stderr",
     "output_type": "stream",
     "text": [
      "100%|███████████████████████████████████████████████████████████████████████████████| 273/273 [00:01<00:00, 163.30it/s]\n",
      "100%|███████████████████████████████████████████████████████████████████████████████████| 3/3 [00:00<00:00, 501.51it/s]\n",
      "  7%|█████▎                                                                          | 18/273 [00:00<00:01, 175.23it/s]"
     ]
    },
    {
     "name": "stdout",
     "output_type": "stream",
     "text": [
      "Train Loss: 1.670\n",
      "Validation Loss: 0.389\n"
     ]
    },
    {
     "name": "stderr",
     "output_type": "stream",
     "text": [
      "100%|███████████████████████████████████████████████████████████████████████████████| 273/273 [00:01<00:00, 173.27it/s]\n",
      "100%|███████████████████████████████████████████████████████████████████████████████████| 3/3 [00:00<00:00, 501.37it/s]\n",
      "  5%|████                                                                            | 14/273 [00:00<00:01, 137.63it/s]"
     ]
    },
    {
     "name": "stdout",
     "output_type": "stream",
     "text": [
      "Train Loss: 1.640\n",
      "Validation Loss: 0.388\n"
     ]
    },
    {
     "name": "stderr",
     "output_type": "stream",
     "text": [
      "100%|███████████████████████████████████████████████████████████████████████████████| 273/273 [00:01<00:00, 174.57it/s]\n",
      "100%|███████████████████████████████████████████████████████████████████████████████████| 3/3 [00:00<00:00, 429.70it/s]\n",
      "  7%|█████▊                                                                          | 20/273 [00:00<00:01, 187.40it/s]"
     ]
    },
    {
     "name": "stdout",
     "output_type": "stream",
     "text": [
      "Train Loss: 1.622\n",
      "Validation Loss: 0.393\n"
     ]
    },
    {
     "name": "stderr",
     "output_type": "stream",
     "text": [
      "100%|███████████████████████████████████████████████████████████████████████████████| 273/273 [00:01<00:00, 178.87it/s]\n",
      "100%|███████████████████████████████████████████████████████████████████████████████████| 3/3 [00:00<00:00, 427.66it/s]\n",
      "  7%|█████▊                                                                          | 20/273 [00:00<00:01, 196.67it/s]"
     ]
    },
    {
     "name": "stdout",
     "output_type": "stream",
     "text": [
      "Train Loss: 1.599\n",
      "Validation Loss: 0.387\n"
     ]
    },
    {
     "name": "stderr",
     "output_type": "stream",
     "text": [
      "100%|███████████████████████████████████████████████████████████████████████████████| 273/273 [00:01<00:00, 179.23it/s]\n",
      "100%|███████████████████████████████████████████████████████████████████████████████████| 3/3 [00:00<00:00, 429.74it/s]\n",
      "  6%|████▉                                                                           | 17/273 [00:00<00:01, 168.75it/s]"
     ]
    },
    {
     "name": "stdout",
     "output_type": "stream",
     "text": [
      "Train Loss: 1.581\n",
      "Validation Loss: 0.356\n"
     ]
    },
    {
     "name": "stderr",
     "output_type": "stream",
     "text": [
      "100%|███████████████████████████████████████████████████████████████████████████████| 273/273 [00:01<00:00, 166.93it/s]\n",
      "100%|███████████████████████████████████████████████████████████████████████████████████| 3/3 [00:00<00:00, 273.48it/s]\n",
      "  5%|████▍                                                                           | 15/273 [00:00<00:01, 143.24it/s]"
     ]
    },
    {
     "name": "stdout",
     "output_type": "stream",
     "text": [
      "Train Loss: 1.558\n",
      "Validation Loss: 0.369\n"
     ]
    },
    {
     "name": "stderr",
     "output_type": "stream",
     "text": [
      "100%|███████████████████████████████████████████████████████████████████████████████| 273/273 [00:01<00:00, 171.26it/s]\n",
      "100%|███████████████████████████████████████████████████████████████████████████████████| 3/3 [00:00<00:00, 300.79it/s]\n",
      "  5%|████▍                                                                           | 15/273 [00:00<00:01, 146.01it/s]"
     ]
    },
    {
     "name": "stdout",
     "output_type": "stream",
     "text": [
      "Train Loss: 1.543\n",
      "Validation Loss: 0.359\n"
     ]
    },
    {
     "name": "stderr",
     "output_type": "stream",
     "text": [
      "100%|███████████████████████████████████████████████████████████████████████████████| 273/273 [00:01<00:00, 144.26it/s]\n",
      "100%|███████████████████████████████████████████████████████████████████████████████████| 3/3 [00:00<00:00, 214.85it/s]\n",
      "  5%|███▊                                                                            | 13/273 [00:00<00:02, 127.79it/s]"
     ]
    },
    {
     "name": "stdout",
     "output_type": "stream",
     "text": [
      "Train Loss: 1.527\n",
      "Validation Loss: 0.304\n"
     ]
    },
    {
     "name": "stderr",
     "output_type": "stream",
     "text": [
      "100%|███████████████████████████████████████████████████████████████████████████████| 273/273 [00:01<00:00, 159.93it/s]\n",
      "100%|███████████████████████████████████████████████████████████████████████████████████| 3/3 [00:00<00:00, 427.77it/s]\n",
      "  7%|█████▌                                                                          | 19/273 [00:00<00:01, 188.56it/s]"
     ]
    },
    {
     "name": "stdout",
     "output_type": "stream",
     "text": [
      "Train Loss: 1.506\n",
      "Validation Loss: 0.354\n"
     ]
    },
    {
     "name": "stderr",
     "output_type": "stream",
     "text": [
      "100%|███████████████████████████████████████████████████████████████████████████████| 273/273 [00:01<00:00, 183.22it/s]\n",
      "100%|███████████████████████████████████████████████████████████████████████████████████| 3/3 [00:00<00:00, 501.35it/s]\n",
      "  6%|████▉                                                                           | 17/273 [00:00<00:01, 162.34it/s]"
     ]
    },
    {
     "name": "stdout",
     "output_type": "stream",
     "text": [
      "Train Loss: 1.490\n",
      "Validation Loss: 0.350\n"
     ]
    },
    {
     "name": "stderr",
     "output_type": "stream",
     "text": [
      "100%|███████████████████████████████████████████████████████████████████████████████| 273/273 [00:01<00:00, 180.97it/s]\n",
      "100%|███████████████████████████████████████████████████████████████████████████████████| 3/3 [00:00<00:00, 334.15it/s]\n",
      "  6%|████▉                                                                           | 17/273 [00:00<00:01, 167.11it/s]"
     ]
    },
    {
     "name": "stdout",
     "output_type": "stream",
     "text": [
      "Train Loss: 1.472\n",
      "Validation Loss: 0.318\n"
     ]
    },
    {
     "name": "stderr",
     "output_type": "stream",
     "text": [
      "100%|███████████████████████████████████████████████████████████████████████████████| 273/273 [00:01<00:00, 174.41it/s]\n",
      "100%|███████████████████████████████████████████████████████████████████████████████████| 3/3 [00:00<00:00, 501.33it/s]\n",
      "  7%|█████▌                                                                          | 19/273 [00:00<00:01, 186.77it/s]"
     ]
    },
    {
     "name": "stdout",
     "output_type": "stream",
     "text": [
      "Train Loss: 1.452\n",
      "Validation Loss: 0.332\n"
     ]
    },
    {
     "name": "stderr",
     "output_type": "stream",
     "text": [
      "100%|███████████████████████████████████████████████████████████████████████████████| 273/273 [00:01<00:00, 171.54it/s]\n",
      "100%|███████████████████████████████████████████████████████████████████████████████████| 3/3 [00:00<00:00, 501.27it/s]\n",
      " 13%|██████████▌                                                                     | 36/273 [00:00<00:01, 178.65it/s]"
     ]
    },
    {
     "name": "stdout",
     "output_type": "stream",
     "text": [
      "Train Loss: 1.444\n",
      "Validation Loss: 0.314\n"
     ]
    },
    {
     "name": "stderr",
     "output_type": "stream",
     "text": [
      "100%|███████████████████████████████████████████████████████████████████████████████| 273/273 [00:01<00:00, 187.33it/s]\n",
      "100%|███████████████████████████████████████████████████████████████████████████████████| 3/3 [00:00<00:00, 501.39it/s]\n",
      "  8%|██████▏                                                                         | 21/273 [00:00<00:01, 202.45it/s]"
     ]
    },
    {
     "name": "stdout",
     "output_type": "stream",
     "text": [
      "Train Loss: 1.435\n",
      "Validation Loss: 0.324\n"
     ]
    },
    {
     "name": "stderr",
     "output_type": "stream",
     "text": [
      "100%|███████████████████████████████████████████████████████████████████████████████| 273/273 [00:01<00:00, 190.81it/s]\n",
      "100%|███████████████████████████████████████████████████████████████████████████████████| 3/3 [00:00<00:00, 429.67it/s]\n",
      "  7%|█████▊                                                                          | 20/273 [00:00<00:01, 192.82it/s]"
     ]
    },
    {
     "name": "stdout",
     "output_type": "stream",
     "text": [
      "Train Loss: 1.414\n",
      "Validation Loss: 0.325\n"
     ]
    },
    {
     "name": "stderr",
     "output_type": "stream",
     "text": [
      "100%|███████████████████████████████████████████████████████████████████████████████| 273/273 [00:01<00:00, 168.16it/s]\n",
      "100%|███████████████████████████████████████████████████████████████████████████████████| 3/3 [00:00<00:00, 504.33it/s]\n",
      "  7%|█████▎                                                                          | 18/273 [00:00<00:01, 173.48it/s]"
     ]
    },
    {
     "name": "stdout",
     "output_type": "stream",
     "text": [
      "Train Loss: 1.403\n",
      "Validation Loss: 0.334\n"
     ]
    },
    {
     "name": "stderr",
     "output_type": "stream",
     "text": [
      "100%|███████████████████████████████████████████████████████████████████████████████| 273/273 [00:01<00:00, 175.62it/s]\n",
      "100%|███████████████████████████████████████████████████████████████████████████████████| 3/3 [00:00<00:00, 375.99it/s]\n",
      "  6%|████▋                                                                           | 16/273 [00:00<00:01, 152.79it/s]"
     ]
    },
    {
     "name": "stdout",
     "output_type": "stream",
     "text": [
      "Train Loss: 1.384\n",
      "Validation Loss: 0.326\n"
     ]
    },
    {
     "name": "stderr",
     "output_type": "stream",
     "text": [
      "100%|███████████████████████████████████████████████████████████████████████████████| 273/273 [00:01<00:00, 166.10it/s]\n",
      "100%|███████████████████████████████████████████████████████████████████████████████████| 3/3 [00:00<00:00, 429.67it/s]\n",
      "  7%|█████▌                                                                          | 19/273 [00:00<00:01, 181.34it/s]"
     ]
    },
    {
     "name": "stdout",
     "output_type": "stream",
     "text": [
      "Train Loss: 1.378\n",
      "Validation Loss: 0.315\n"
     ]
    },
    {
     "name": "stderr",
     "output_type": "stream",
     "text": [
      "100%|███████████████████████████████████████████████████████████████████████████████| 273/273 [00:01<00:00, 165.72it/s]\n",
      "100%|███████████████████████████████████████████████████████████████████████████████████| 3/3 [00:00<00:00, 429.99it/s]\n",
      "  5%|████▍                                                                           | 15/273 [00:00<00:01, 147.45it/s]"
     ]
    },
    {
     "name": "stdout",
     "output_type": "stream",
     "text": [
      "Train Loss: 1.367\n",
      "Validation Loss: 0.315\n"
     ]
    },
    {
     "name": "stderr",
     "output_type": "stream",
     "text": [
      "100%|███████████████████████████████████████████████████████████████████████████████| 273/273 [00:01<00:00, 162.17it/s]\n",
      "100%|███████████████████████████████████████████████████████████████████████████████████| 3/3 [00:00<00:00, 501.23it/s]\n",
      "  7%|█████▎                                                                          | 18/273 [00:00<00:01, 176.94it/s]"
     ]
    },
    {
     "name": "stdout",
     "output_type": "stream",
     "text": [
      "Train Loss: 1.347\n",
      "Validation Loss: 0.347\n"
     ]
    },
    {
     "name": "stderr",
     "output_type": "stream",
     "text": [
      "100%|███████████████████████████████████████████████████████████████████████████████| 273/273 [00:01<00:00, 166.06it/s]\n",
      "100%|███████████████████████████████████████████████████████████████████████████████████| 3/3 [00:00<00:00, 300.78it/s]\n",
      "  7%|█████▎                                                                          | 18/273 [00:00<00:01, 179.52it/s]"
     ]
    },
    {
     "name": "stdout",
     "output_type": "stream",
     "text": [
      "Train Loss: 1.343\n",
      "Validation Loss: 0.279\n"
     ]
    },
    {
     "name": "stderr",
     "output_type": "stream",
     "text": [
      "100%|███████████████████████████████████████████████████████████████████████████████| 273/273 [00:01<00:00, 174.21it/s]\n",
      "100%|███████████████████████████████████████████████████████████████████████████████████| 3/3 [00:00<00:00, 601.48it/s]\n",
      "  7%|█████▎                                                                          | 18/273 [00:00<00:01, 179.45it/s]"
     ]
    },
    {
     "name": "stdout",
     "output_type": "stream",
     "text": [
      "Train Loss: 1.326\n",
      "Validation Loss: 0.322\n"
     ]
    },
    {
     "name": "stderr",
     "output_type": "stream",
     "text": [
      "100%|███████████████████████████████████████████████████████████████████████████████| 273/273 [00:01<00:00, 178.38it/s]\n",
      "100%|███████████████████████████████████████████████████████████████████████████████████| 3/3 [00:00<00:00, 498.43it/s]\n",
      "  7%|█████▎                                                                          | 18/273 [00:00<00:01, 178.42it/s]"
     ]
    },
    {
     "name": "stdout",
     "output_type": "stream",
     "text": [
      "Train Loss: 1.313\n",
      "Validation Loss: 0.294\n"
     ]
    },
    {
     "name": "stderr",
     "output_type": "stream",
     "text": [
      "100%|███████████████████████████████████████████████████████████████████████████████| 273/273 [00:01<00:00, 176.12it/s]\n",
      "100%|███████████████████████████████████████████████████████████████████████████████████| 3/3 [00:00<00:00, 429.74it/s]\n",
      "  7%|█████▎                                                                          | 18/273 [00:00<00:01, 168.62it/s]"
     ]
    },
    {
     "name": "stdout",
     "output_type": "stream",
     "text": [
      "Train Loss: 1.306\n",
      "Validation Loss: 0.291\n"
     ]
    },
    {
     "name": "stderr",
     "output_type": "stream",
     "text": [
      "100%|███████████████████████████████████████████████████████████████████████████████| 273/273 [00:01<00:00, 173.69it/s]\n",
      "100%|███████████████████████████████████████████████████████████████████████████████████| 3/3 [00:00<00:00, 501.39it/s]\n",
      "  7%|█████▌                                                                          | 19/273 [00:00<00:01, 186.83it/s]"
     ]
    },
    {
     "name": "stdout",
     "output_type": "stream",
     "text": [
      "Train Loss: 1.289\n",
      "Validation Loss: 0.276\n"
     ]
    },
    {
     "name": "stderr",
     "output_type": "stream",
     "text": [
      "100%|███████████████████████████████████████████████████████████████████████████████| 273/273 [00:01<00:00, 181.12it/s]\n",
      "100%|███████████████████████████████████████████████████████████████████████████████████| 3/3 [00:00<00:00, 501.37it/s]\n",
      "  7%|█████▊                                                                          | 20/273 [00:00<00:01, 190.99it/s]"
     ]
    },
    {
     "name": "stdout",
     "output_type": "stream",
     "text": [
      "Train Loss: 1.286\n",
      "Validation Loss: 0.310\n"
     ]
    },
    {
     "name": "stderr",
     "output_type": "stream",
     "text": [
      "100%|███████████████████████████████████████████████████████████████████████████████| 273/273 [00:01<00:00, 171.90it/s]\n",
      "100%|███████████████████████████████████████████████████████████████████████████████████| 3/3 [00:00<00:00, 427.83it/s]\n",
      "  6%|████▉                                                                           | 17/273 [00:00<00:01, 164.78it/s]"
     ]
    },
    {
     "name": "stdout",
     "output_type": "stream",
     "text": [
      "Train Loss: 1.278\n",
      "Validation Loss: 0.285\n"
     ]
    },
    {
     "name": "stderr",
     "output_type": "stream",
     "text": [
      "100%|███████████████████████████████████████████████████████████████████████████████| 273/273 [00:01<00:00, 164.03it/s]\n",
      "100%|███████████████████████████████████████████████████████████████████████████████████| 3/3 [00:00<00:00, 501.33it/s]\n",
      "  7%|█████▎                                                                          | 18/273 [00:00<00:01, 178.28it/s]"
     ]
    },
    {
     "name": "stdout",
     "output_type": "stream",
     "text": [
      "Train Loss: 1.259\n",
      "Validation Loss: 0.299\n"
     ]
    },
    {
     "name": "stderr",
     "output_type": "stream",
     "text": [
      "100%|███████████████████████████████████████████████████████████████████████████████| 273/273 [00:01<00:00, 181.23it/s]\n",
      "100%|███████████████████████████████████████████████████████████████████████████████████| 3/3 [00:00<00:00, 498.18it/s]\n",
      "  7%|█████▊                                                                          | 20/273 [00:00<00:01, 194.53it/s]"
     ]
    },
    {
     "name": "stdout",
     "output_type": "stream",
     "text": [
      "Train Loss: 1.248\n",
      "Validation Loss: 0.295\n"
     ]
    },
    {
     "name": "stderr",
     "output_type": "stream",
     "text": [
      "100%|███████████████████████████████████████████████████████████████████████████████| 273/273 [00:01<00:00, 182.02it/s]\n",
      "100%|███████████████████████████████████████████████████████████████████████████████████| 3/3 [00:00<00:00, 498.31it/s]\n",
      "  7%|█████▌                                                                          | 19/273 [00:00<00:01, 184.19it/s]"
     ]
    },
    {
     "name": "stdout",
     "output_type": "stream",
     "text": [
      "Train Loss: 1.240\n",
      "Validation Loss: 0.287\n"
     ]
    },
    {
     "name": "stderr",
     "output_type": "stream",
     "text": [
      "100%|███████████████████████████████████████████████████████████████████████████████| 273/273 [00:01<00:00, 174.92it/s]\n",
      "100%|███████████████████████████████████████████████████████████████████████████████████| 3/3 [00:00<00:00, 501.29it/s]\n",
      "  7%|█████▊                                                                          | 20/273 [00:00<00:01, 194.55it/s]"
     ]
    },
    {
     "name": "stdout",
     "output_type": "stream",
     "text": [
      "Train Loss: 1.232\n",
      "Validation Loss: 0.288\n"
     ]
    },
    {
     "name": "stderr",
     "output_type": "stream",
     "text": [
      "100%|███████████████████████████████████████████████████████████████████████████████| 273/273 [00:01<00:00, 180.90it/s]\n",
      "100%|███████████████████████████████████████████████████████████████████████████████████| 3/3 [00:00<00:00, 499.34it/s]\n",
      "  6%|████▋                                                                           | 16/273 [00:00<00:01, 152.69it/s]"
     ]
    },
    {
     "name": "stdout",
     "output_type": "stream",
     "text": [
      "Train Loss: 1.217\n",
      "Validation Loss: 0.292\n"
     ]
    },
    {
     "name": "stderr",
     "output_type": "stream",
     "text": [
      "100%|███████████████████████████████████████████████████████████████████████████████| 273/273 [00:01<00:00, 180.81it/s]\n",
      "100%|███████████████████████████████████████████████████████████████████████████████████| 3/3 [00:00<00:00, 498.53it/s]\n",
      "  7%|█████▌                                                                          | 19/273 [00:00<00:01, 183.12it/s]"
     ]
    },
    {
     "name": "stdout",
     "output_type": "stream",
     "text": [
      "Train Loss: 1.203\n",
      "Validation Loss: 0.283\n"
     ]
    },
    {
     "name": "stderr",
     "output_type": "stream",
     "text": [
      "100%|███████████████████████████████████████████████████████████████████████████████| 273/273 [00:01<00:00, 172.59it/s]\n",
      "100%|███████████████████████████████████████████████████████████████████████████████████| 3/3 [00:00<00:00, 429.49it/s]\n",
      "  6%|████▉                                                                           | 17/273 [00:00<00:01, 167.17it/s]"
     ]
    },
    {
     "name": "stdout",
     "output_type": "stream",
     "text": [
      "Train Loss: 1.190\n",
      "Validation Loss: 0.293\n"
     ]
    },
    {
     "name": "stderr",
     "output_type": "stream",
     "text": [
      "100%|███████████████████████████████████████████████████████████████████████████████| 273/273 [00:01<00:00, 168.43it/s]\n",
      "100%|███████████████████████████████████████████████████████████████████████████████████| 3/3 [00:00<00:00, 501.43it/s]\n",
      "  7%|█████▎                                                                          | 18/273 [00:00<00:01, 175.17it/s]"
     ]
    },
    {
     "name": "stdout",
     "output_type": "stream",
     "text": [
      "Train Loss: 1.173\n",
      "Validation Loss: 0.303\n"
     ]
    },
    {
     "name": "stderr",
     "output_type": "stream",
     "text": [
      "100%|███████████████████████████████████████████████████████████████████████████████| 273/273 [00:01<00:00, 168.00it/s]\n",
      "100%|███████████████████████████████████████████████████████████████████████████████████| 3/3 [00:00<00:00, 376.02it/s]\n",
      "  6%|████▋                                                                           | 16/273 [00:00<00:01, 152.74it/s]"
     ]
    },
    {
     "name": "stdout",
     "output_type": "stream",
     "text": [
      "Train Loss: 1.164\n",
      "Validation Loss: 0.272\n"
     ]
    },
    {
     "name": "stderr",
     "output_type": "stream",
     "text": [
      "100%|███████████████████████████████████████████████████████████████████████████████| 273/273 [00:01<00:00, 161.93it/s]\n",
      "100%|███████████████████████████████████████████████████████████████████████████████████| 3/3 [00:00<00:00, 400.25it/s]\n",
      "  7%|█████▌                                                                          | 19/273 [00:00<00:01, 181.44it/s]"
     ]
    },
    {
     "name": "stdout",
     "output_type": "stream",
     "text": [
      "Train Loss: 1.147\n",
      "Validation Loss: 0.290\n"
     ]
    },
    {
     "name": "stderr",
     "output_type": "stream",
     "text": [
      "100%|███████████████████████████████████████████████████████████████████████████████| 273/273 [00:01<00:00, 175.17it/s]\n",
      "100%|███████████████████████████████████████████████████████████████████████████████████| 3/3 [00:00<00:00, 427.54it/s]\n",
      "  7%|█████▊                                                                          | 20/273 [00:00<00:01, 196.50it/s]"
     ]
    },
    {
     "name": "stdout",
     "output_type": "stream",
     "text": [
      "Train Loss: 1.136\n",
      "Validation Loss: 0.305\n"
     ]
    },
    {
     "name": "stderr",
     "output_type": "stream",
     "text": [
      "100%|███████████████████████████████████████████████████████████████████████████████| 273/273 [00:01<00:00, 188.44it/s]\n",
      "100%|███████████████████████████████████████████████████████████████████████████████████| 3/3 [00:00<00:00, 501.29it/s]\n",
      "  6%|████▉                                                                           | 17/273 [00:00<00:01, 162.29it/s]"
     ]
    },
    {
     "name": "stdout",
     "output_type": "stream",
     "text": [
      "Train Loss: 1.125\n",
      "Validation Loss: 0.271\n"
     ]
    },
    {
     "name": "stderr",
     "output_type": "stream",
     "text": [
      "100%|███████████████████████████████████████████████████████████████████████████████| 273/273 [00:01<00:00, 183.88it/s]\n",
      "100%|███████████████████████████████████████████████████████████████████████████████████| 3/3 [00:00<00:00, 501.15it/s]\n",
      "  6%|████▋                                                                           | 16/273 [00:00<00:01, 158.84it/s]"
     ]
    },
    {
     "name": "stdout",
     "output_type": "stream",
     "text": [
      "Train Loss: 1.108\n",
      "Validation Loss: 0.262\n"
     ]
    },
    {
     "name": "stderr",
     "output_type": "stream",
     "text": [
      "100%|███████████████████████████████████████████████████████████████████████████████| 273/273 [00:01<00:00, 174.73it/s]\n",
      "100%|███████████████████████████████████████████████████████████████████████████████████| 3/3 [00:00<00:00, 429.67it/s]\n",
      "  7%|█████▎                                                                          | 18/273 [00:00<00:01, 176.95it/s]"
     ]
    },
    {
     "name": "stdout",
     "output_type": "stream",
     "text": [
      "Train Loss: 1.102\n",
      "Validation Loss: 0.239\n"
     ]
    },
    {
     "name": "stderr",
     "output_type": "stream",
     "text": [
      "100%|███████████████████████████████████████████████████████████████████████████████| 273/273 [00:01<00:00, 175.84it/s]\n",
      "100%|███████████████████████████████████████████████████████████████████████████████████| 3/3 [00:00<00:00, 376.32it/s]\n",
      "  7%|█████▌                                                                          | 19/273 [00:00<00:01, 180.88it/s]"
     ]
    },
    {
     "name": "stdout",
     "output_type": "stream",
     "text": [
      "Train Loss: 1.094\n",
      "Validation Loss: 0.265\n"
     ]
    },
    {
     "name": "stderr",
     "output_type": "stream",
     "text": [
      "100%|███████████████████████████████████████████████████████████████████████████████| 273/273 [00:01<00:00, 179.18it/s]\n",
      "100%|███████████████████████████████████████████████████████████████████████████████████| 3/3 [00:00<00:00, 501.33it/s]\n",
      "  6%|████▉                                                                           | 17/273 [00:00<00:01, 167.16it/s]"
     ]
    },
    {
     "name": "stdout",
     "output_type": "stream",
     "text": [
      "Train Loss: 1.083\n",
      "Validation Loss: 0.227\n"
     ]
    },
    {
     "name": "stderr",
     "output_type": "stream",
     "text": [
      "100%|███████████████████████████████████████████████████████████████████████████████| 273/273 [00:01<00:00, 181.61it/s]\n",
      "100%|███████████████████████████████████████████████████████████████████████████████████| 3/3 [00:00<00:00, 429.76it/s]\n",
      "  7%|█████▌                                                                          | 19/273 [00:00<00:01, 185.52it/s]"
     ]
    },
    {
     "name": "stdout",
     "output_type": "stream",
     "text": [
      "Train Loss: 1.072\n",
      "Validation Loss: 0.272\n"
     ]
    },
    {
     "name": "stderr",
     "output_type": "stream",
     "text": [
      "100%|███████████████████████████████████████████████████████████████████████████████| 273/273 [00:01<00:00, 182.71it/s]\n",
      "100%|███████████████████████████████████████████████████████████████████████████████████| 3/3 [00:00<00:00, 501.25it/s]\n",
      "  7%|█████▌                                                                          | 19/273 [00:00<00:01, 181.34it/s]"
     ]
    },
    {
     "name": "stdout",
     "output_type": "stream",
     "text": [
      "Train Loss: 1.063\n",
      "Validation Loss: 0.254\n"
     ]
    },
    {
     "name": "stderr",
     "output_type": "stream",
     "text": [
      "100%|███████████████████████████████████████████████████████████████████████████████| 273/273 [00:01<00:00, 183.98it/s]\n",
      "100%|███████████████████████████████████████████████████████████████████████████████████| 3/3 [00:00<00:00, 601.48it/s]\n",
      "  6%|████▉                                                                           | 17/273 [00:00<00:01, 163.84it/s]"
     ]
    },
    {
     "name": "stdout",
     "output_type": "stream",
     "text": [
      "Train Loss: 1.055\n",
      "Validation Loss: 0.250\n"
     ]
    },
    {
     "name": "stderr",
     "output_type": "stream",
     "text": [
      "100%|███████████████████████████████████████████████████████████████████████████████| 273/273 [00:01<00:00, 185.56it/s]\n",
      "100%|███████████████████████████████████████████████████████████████████████████████████| 3/3 [00:00<00:00, 429.74it/s]\n",
      "  7%|█████▌                                                                          | 19/273 [00:00<00:01, 188.62it/s]"
     ]
    },
    {
     "name": "stdout",
     "output_type": "stream",
     "text": [
      "Train Loss: 1.047\n",
      "Validation Loss: 0.225\n"
     ]
    },
    {
     "name": "stderr",
     "output_type": "stream",
     "text": [
      "100%|███████████████████████████████████████████████████████████████████████████████| 273/273 [00:01<00:00, 180.37it/s]\n",
      "100%|███████████████████████████████████████████████████████████████████████████████████| 3/3 [00:00<00:00, 428.03it/s]\n",
      "  6%|████▉                                                                           | 17/273 [00:00<00:01, 163.84it/s]"
     ]
    },
    {
     "name": "stdout",
     "output_type": "stream",
     "text": [
      "Train Loss: 1.039\n",
      "Validation Loss: 0.240\n"
     ]
    },
    {
     "name": "stderr",
     "output_type": "stream",
     "text": [
      "100%|███████████████████████████████████████████████████████████████████████████████| 273/273 [00:01<00:00, 184.38it/s]\n",
      "100%|███████████████████████████████████████████████████████████████████████████████████| 3/3 [00:00<00:00, 427.70it/s]\n",
      "  7%|█████▌                                                                          | 19/273 [00:00<00:01, 188.56it/s]"
     ]
    },
    {
     "name": "stdout",
     "output_type": "stream",
     "text": [
      "Train Loss: 1.029\n",
      "Validation Loss: 0.228\n"
     ]
    },
    {
     "name": "stderr",
     "output_type": "stream",
     "text": [
      "100%|███████████████████████████████████████████████████████████████████████████████| 273/273 [00:01<00:00, 182.81it/s]\n",
      "100%|███████████████████████████████████████████████████████████████████████████████████| 3/3 [00:00<00:00, 501.39it/s]\n",
      " 13%|██████████▌                                                                     | 36/273 [00:00<00:01, 180.72it/s]"
     ]
    },
    {
     "name": "stdout",
     "output_type": "stream",
     "text": [
      "Train Loss: 1.031\n",
      "Validation Loss: 0.253\n"
     ]
    },
    {
     "name": "stderr",
     "output_type": "stream",
     "text": [
      "100%|███████████████████████████████████████████████████████████████████████████████| 273/273 [00:01<00:00, 182.70it/s]\n",
      "100%|███████████████████████████████████████████████████████████████████████████████████| 3/3 [00:00<00:00, 431.69it/s]\n",
      "  7%|█████▌                                                                          | 19/273 [00:00<00:01, 181.04it/s]"
     ]
    },
    {
     "name": "stdout",
     "output_type": "stream",
     "text": [
      "Train Loss: 1.020\n",
      "Validation Loss: 0.236\n"
     ]
    },
    {
     "name": "stderr",
     "output_type": "stream",
     "text": [
      "100%|███████████████████████████████████████████████████████████████████████████████| 273/273 [00:01<00:00, 188.71it/s]\n",
      "100%|███████████████████████████████████████████████████████████████████████████████████| 3/3 [00:00<00:00, 498.53it/s]\n",
      "  7%|█████▎                                                                          | 18/273 [00:00<00:01, 176.86it/s]"
     ]
    },
    {
     "name": "stdout",
     "output_type": "stream",
     "text": [
      "Train Loss: 1.015\n",
      "Validation Loss: 0.239\n"
     ]
    },
    {
     "name": "stderr",
     "output_type": "stream",
     "text": [
      "100%|███████████████████████████████████████████████████████████████████████████████| 273/273 [00:01<00:00, 181.52it/s]\n",
      "100%|███████████████████████████████████████████████████████████████████████████████████| 3/3 [00:00<00:00, 429.71it/s]\n",
      "  7%|█████▊                                                                          | 20/273 [00:00<00:01, 194.63it/s]"
     ]
    },
    {
     "name": "stdout",
     "output_type": "stream",
     "text": [
      "Train Loss: 1.006\n",
      "Validation Loss: 0.222\n"
     ]
    },
    {
     "name": "stderr",
     "output_type": "stream",
     "text": [
      "100%|███████████████████████████████████████████████████████████████████████████████| 273/273 [00:01<00:00, 185.80it/s]\n",
      "100%|███████████████████████████████████████████████████████████████████████████████████| 3/3 [00:00<00:00, 501.27it/s]\n",
      "  5%|████▍                                                                           | 15/273 [00:00<00:01, 147.41it/s]"
     ]
    },
    {
     "name": "stdout",
     "output_type": "stream",
     "text": [
      "Train Loss: 1.001\n",
      "Validation Loss: 0.231\n"
     ]
    },
    {
     "name": "stderr",
     "output_type": "stream",
     "text": [
      "100%|███████████████████████████████████████████████████████████████████████████████| 273/273 [00:01<00:00, 178.43it/s]\n",
      "100%|███████████████████████████████████████████████████████████████████████████████████| 3/3 [00:00<00:00, 501.31it/s]\n",
      "  7%|█████▊                                                                          | 20/273 [00:00<00:01, 192.82it/s]"
     ]
    },
    {
     "name": "stdout",
     "output_type": "stream",
     "text": [
      "Train Loss: 0.996\n",
      "Validation Loss: 0.241\n"
     ]
    },
    {
     "name": "stderr",
     "output_type": "stream",
     "text": [
      "100%|███████████████████████████████████████████████████████████████████████████████| 273/273 [00:01<00:00, 186.82it/s]\n",
      "100%|███████████████████████████████████████████████████████████████████████████████████| 3/3 [00:00<00:00, 462.17it/s]\n",
      " 14%|███████████▍                                                                    | 39/273 [00:00<00:01, 190.95it/s]"
     ]
    },
    {
     "name": "stdout",
     "output_type": "stream",
     "text": [
      "Train Loss: 0.986\n",
      "Validation Loss: 0.237\n"
     ]
    },
    {
     "name": "stderr",
     "output_type": "stream",
     "text": [
      "100%|███████████████████████████████████████████████████████████████████████████████| 273/273 [00:01<00:00, 180.42it/s]\n",
      "100%|███████████████████████████████████████████████████████████████████████████████████| 3/3 [00:00<00:00, 498.47it/s]\n",
      "  7%|█████▊                                                                          | 20/273 [00:00<00:01, 196.44it/s]"
     ]
    },
    {
     "name": "stdout",
     "output_type": "stream",
     "text": [
      "Train Loss: 0.983\n",
      "Validation Loss: 0.243\n"
     ]
    },
    {
     "name": "stderr",
     "output_type": "stream",
     "text": [
      "100%|███████████████████████████████████████████████████████████████████████████████| 273/273 [00:01<00:00, 183.70it/s]\n",
      "100%|███████████████████████████████████████████████████████████████████████████████████| 3/3 [00:00<00:00, 429.30it/s]\n",
      " 14%|███████████▏                                                                    | 38/273 [00:00<00:01, 183.73it/s]"
     ]
    },
    {
     "name": "stdout",
     "output_type": "stream",
     "text": [
      "Train Loss: 0.976\n",
      "Validation Loss: 0.248\n"
     ]
    },
    {
     "name": "stderr",
     "output_type": "stream",
     "text": [
      "100%|███████████████████████████████████████████████████████████████████████████████| 273/273 [00:01<00:00, 180.13it/s]\n",
      "100%|███████████████████████████████████████████████████████████████████████████████████| 3/3 [00:00<00:00, 429.66it/s]\n",
      "  7%|█████▊                                                                          | 20/273 [00:00<00:01, 192.82it/s]"
     ]
    },
    {
     "name": "stdout",
     "output_type": "stream",
     "text": [
      "Train Loss: 0.967\n",
      "Validation Loss: 0.237\n"
     ]
    },
    {
     "name": "stderr",
     "output_type": "stream",
     "text": [
      "100%|███████████████████████████████████████████████████████████████████████████████| 273/273 [00:01<00:00, 180.19it/s]\n",
      "100%|███████████████████████████████████████████████████████████████████████████████████| 3/3 [00:00<00:00, 501.49it/s]\n",
      "  6%|████▉                                                                           | 17/273 [00:00<00:01, 168.77it/s]"
     ]
    },
    {
     "name": "stdout",
     "output_type": "stream",
     "text": [
      "Train Loss: 0.969\n",
      "Validation Loss: 0.233\n"
     ]
    },
    {
     "name": "stderr",
     "output_type": "stream",
     "text": [
      "100%|███████████████████████████████████████████████████████████████████████████████| 273/273 [00:01<00:00, 176.59it/s]\n",
      "100%|███████████████████████████████████████████████████████████████████████████████████| 3/3 [00:00<00:00, 334.21it/s]\n",
      "  7%|█████▎                                                                          | 18/273 [00:00<00:01, 170.27it/s]"
     ]
    },
    {
     "name": "stdout",
     "output_type": "stream",
     "text": [
      "Train Loss: 0.960\n",
      "Validation Loss: 0.230\n"
     ]
    },
    {
     "name": "stderr",
     "output_type": "stream",
     "text": [
      "100%|███████████████████████████████████████████████████████████████████████████████| 273/273 [00:01<00:00, 168.58it/s]\n",
      "100%|███████████████████████████████████████████████████████████████████████████████████| 3/3 [00:00<00:00, 429.73it/s]\n",
      "  6%|████▉                                                                           | 17/273 [00:00<00:01, 168.18it/s]"
     ]
    },
    {
     "name": "stdout",
     "output_type": "stream",
     "text": [
      "Train Loss: 0.951\n",
      "Validation Loss: 0.257\n"
     ]
    },
    {
     "name": "stderr",
     "output_type": "stream",
     "text": [
      "100%|███████████████████████████████████████████████████████████████████████████████| 273/273 [00:01<00:00, 180.22it/s]\n",
      "100%|███████████████████████████████████████████████████████████████████████████████████| 3/3 [00:00<00:00, 374.39it/s]\n",
      "  6%|████▉                                                                           | 17/273 [00:00<00:01, 166.23it/s]"
     ]
    },
    {
     "name": "stdout",
     "output_type": "stream",
     "text": [
      "Train Loss: 0.944\n",
      "Validation Loss: 0.277\n"
     ]
    },
    {
     "name": "stderr",
     "output_type": "stream",
     "text": [
      "100%|███████████████████████████████████████████████████████████████████████████████| 273/273 [00:01<00:00, 184.34it/s]\n",
      "100%|███████████████████████████████████████████████████████████████████████████████████| 3/3 [00:00<00:00, 501.35it/s]\n",
      "  7%|█████▎                                                                          | 18/273 [00:00<00:01, 178.63it/s]"
     ]
    },
    {
     "name": "stdout",
     "output_type": "stream",
     "text": [
      "Train Loss: 0.942\n",
      "Validation Loss: 0.218\n"
     ]
    },
    {
     "name": "stderr",
     "output_type": "stream",
     "text": [
      "100%|███████████████████████████████████████████████████████████████████████████████| 273/273 [00:01<00:00, 182.88it/s]\n",
      "100%|███████████████████████████████████████████████████████████████████████████████████| 3/3 [00:00<00:00, 429.66it/s]\n",
      "  7%|█████▎                                                                          | 18/273 [00:00<00:01, 177.79it/s]"
     ]
    },
    {
     "name": "stdout",
     "output_type": "stream",
     "text": [
      "Train Loss: 0.934\n",
      "Validation Loss: 0.251\n"
     ]
    },
    {
     "name": "stderr",
     "output_type": "stream",
     "text": [
      "100%|███████████████████████████████████████████████████████████████████████████████| 273/273 [00:01<00:00, 176.75it/s]\n",
      "100%|███████████████████████████████████████████████████████████████████████████████████| 3/3 [00:00<00:00, 498.45it/s]\n",
      " 13%|██████████▌                                                                     | 36/273 [00:00<00:01, 179.64it/s]"
     ]
    },
    {
     "name": "stdout",
     "output_type": "stream",
     "text": [
      "Train Loss: 0.925\n",
      "Validation Loss: 0.238\n"
     ]
    },
    {
     "name": "stderr",
     "output_type": "stream",
     "text": [
      "100%|███████████████████████████████████████████████████████████████████████████████| 273/273 [00:01<00:00, 181.42it/s]\n",
      "100%|███████████████████████████████████████████████████████████████████████████████████| 3/3 [00:00<00:00, 498.35it/s]\n",
      "  7%|█████▌                                                                          | 19/273 [00:00<00:01, 188.56it/s]"
     ]
    },
    {
     "name": "stdout",
     "output_type": "stream",
     "text": [
      "Train Loss: 0.922\n",
      "Validation Loss: 0.251\n"
     ]
    },
    {
     "name": "stderr",
     "output_type": "stream",
     "text": [
      "100%|███████████████████████████████████████████████████████████████████████████████| 273/273 [00:01<00:00, 178.01it/s]\n",
      "100%|███████████████████████████████████████████████████████████████████████████████████| 3/3 [00:00<00:00, 501.39it/s]\n",
      "  7%|█████▊                                                                          | 20/273 [00:00<00:01, 196.60it/s]"
     ]
    },
    {
     "name": "stdout",
     "output_type": "stream",
     "text": [
      "Train Loss: 0.914\n",
      "Validation Loss: 0.246\n"
     ]
    },
    {
     "name": "stderr",
     "output_type": "stream",
     "text": [
      "100%|███████████████████████████████████████████████████████████████████████████████| 273/273 [00:01<00:00, 179.78it/s]\n",
      "100%|███████████████████████████████████████████████████████████████████████████████████| 3/3 [00:00<00:00, 501.37it/s]\n",
      "  7%|█████▎                                                                          | 18/273 [00:00<00:01, 178.69it/s]"
     ]
    },
    {
     "name": "stdout",
     "output_type": "stream",
     "text": [
      "Train Loss: 0.910\n",
      "Validation Loss: 0.247\n"
     ]
    },
    {
     "name": "stderr",
     "output_type": "stream",
     "text": [
      "100%|███████████████████████████████████████████████████████████████████████████████| 273/273 [00:01<00:00, 187.28it/s]\n",
      "100%|███████████████████████████████████████████████████████████████████████████████████| 3/3 [00:00<00:00, 498.63it/s]\n",
      "  7%|█████▎                                                                          | 18/273 [00:00<00:01, 170.87it/s]"
     ]
    },
    {
     "name": "stdout",
     "output_type": "stream",
     "text": [
      "Train Loss: 0.904\n",
      "Validation Loss: 0.230\n"
     ]
    },
    {
     "name": "stderr",
     "output_type": "stream",
     "text": [
      "100%|███████████████████████████████████████████████████████████████████████████████| 273/273 [00:01<00:00, 181.61it/s]\n",
      "100%|███████████████████████████████████████████████████████████████████████████████████| 3/3 [00:00<00:00, 429.69it/s]\n",
      "  7%|█████▊                                                                          | 20/273 [00:00<00:01, 195.63it/s]"
     ]
    },
    {
     "name": "stdout",
     "output_type": "stream",
     "text": [
      "Train Loss: 0.890\n",
      "Validation Loss: 0.258\n"
     ]
    },
    {
     "name": "stderr",
     "output_type": "stream",
     "text": [
      "100%|███████████████████████████████████████████████████████████████████████████████| 273/273 [00:01<00:00, 183.58it/s]\n",
      "100%|███████████████████████████████████████████████████████████████████████████████████| 3/3 [00:00<00:00, 427.68it/s]\n",
      " 14%|███████████▍                                                                    | 39/273 [00:00<00:01, 193.68it/s]"
     ]
    },
    {
     "name": "stdout",
     "output_type": "stream",
     "text": [
      "Train Loss: 0.894\n",
      "Validation Loss: 0.223\n"
     ]
    },
    {
     "name": "stderr",
     "output_type": "stream",
     "text": [
      "100%|███████████████████████████████████████████████████████████████████████████████| 273/273 [00:01<00:00, 182.46it/s]\n",
      "100%|███████████████████████████████████████████████████████████████████████████████████| 3/3 [00:00<00:00, 501.33it/s]\n",
      "  8%|██████▏                                                                         | 21/273 [00:00<00:01, 201.47it/s]"
     ]
    },
    {
     "name": "stdout",
     "output_type": "stream",
     "text": [
      "Train Loss: 0.889\n",
      "Validation Loss: 0.241\n"
     ]
    },
    {
     "name": "stderr",
     "output_type": "stream",
     "text": [
      "100%|███████████████████████████████████████████████████████████████████████████████| 273/273 [00:01<00:00, 185.18it/s]\n",
      "100%|███████████████████████████████████████████████████████████████████████████████████| 3/3 [00:00<00:00, 501.29it/s]\n",
      "  6%|████▉                                                                           | 17/273 [00:00<00:01, 162.34it/s]"
     ]
    },
    {
     "name": "stdout",
     "output_type": "stream",
     "text": [
      "Train Loss: 0.879\n",
      "Validation Loss: 0.243\n"
     ]
    },
    {
     "name": "stderr",
     "output_type": "stream",
     "text": [
      "100%|███████████████████████████████████████████████████████████████████████████████| 273/273 [00:01<00:00, 184.07it/s]\n",
      "100%|███████████████████████████████████████████████████████████████████████████████████| 3/3 [00:00<00:00, 501.31it/s]\n",
      "  6%|████▉                                                                           | 17/273 [00:00<00:01, 160.76it/s]"
     ]
    },
    {
     "name": "stdout",
     "output_type": "stream",
     "text": [
      "Train Loss: 0.875\n",
      "Validation Loss: 0.242\n"
     ]
    },
    {
     "name": "stderr",
     "output_type": "stream",
     "text": [
      "100%|███████████████████████████████████████████████████████████████████████████████| 273/273 [00:01<00:00, 169.77it/s]\n",
      "100%|███████████████████████████████████████████████████████████████████████████████████| 3/3 [00:00<00:00, 501.53it/s]\n",
      "  7%|█████▎                                                                          | 18/273 [00:00<00:01, 171.84it/s]"
     ]
    },
    {
     "name": "stdout",
     "output_type": "stream",
     "text": [
      "Train Loss: 0.872\n",
      "Validation Loss: 0.257\n"
     ]
    },
    {
     "name": "stderr",
     "output_type": "stream",
     "text": [
      "100%|███████████████████████████████████████████████████████████████████████████████| 273/273 [00:01<00:00, 183.74it/s]\n",
      "100%|███████████████████████████████████████████████████████████████████████████████████| 3/3 [00:00<00:00, 374.51it/s]\n",
      "  7%|█████▌                                                                          | 19/273 [00:00<00:01, 186.78it/s]"
     ]
    },
    {
     "name": "stdout",
     "output_type": "stream",
     "text": [
      "Train Loss: 0.858\n",
      "Validation Loss: 0.245\n"
     ]
    },
    {
     "name": "stderr",
     "output_type": "stream",
     "text": [
      "100%|███████████████████████████████████████████████████████████████████████████████| 273/273 [00:01<00:00, 191.28it/s]\n",
      "100%|███████████████████████████████████████████████████████████████████████████████████| 3/3 [00:00<00:00, 501.29it/s]\n",
      "  7%|█████▌                                                                          | 19/273 [00:00<00:01, 184.08it/s]"
     ]
    },
    {
     "name": "stdout",
     "output_type": "stream",
     "text": [
      "Train Loss: 0.854\n",
      "Validation Loss: 0.240\n"
     ]
    },
    {
     "name": "stderr",
     "output_type": "stream",
     "text": [
      "100%|███████████████████████████████████████████████████████████████████████████████| 273/273 [00:01<00:00, 186.92it/s]\n",
      "100%|███████████████████████████████████████████████████████████████████████████████████| 3/3 [00:00<00:00, 427.63it/s]\n",
      "  7%|█████▊                                                                          | 20/273 [00:00<00:01, 194.60it/s]"
     ]
    },
    {
     "name": "stdout",
     "output_type": "stream",
     "text": [
      "Train Loss: 0.847\n",
      "Validation Loss: 0.249\n"
     ]
    },
    {
     "name": "stderr",
     "output_type": "stream",
     "text": [
      "100%|███████████████████████████████████████████████████████████████████████████████| 273/273 [00:01<00:00, 175.26it/s]\n",
      "100%|███████████████████████████████████████████████████████████████████████████████████| 3/3 [00:00<00:00, 498.37it/s]\n",
      "  7%|█████▌                                                                          | 19/273 [00:00<00:01, 188.49it/s]"
     ]
    },
    {
     "name": "stdout",
     "output_type": "stream",
     "text": [
      "Train Loss: 0.838\n",
      "Validation Loss: 0.232\n"
     ]
    },
    {
     "name": "stderr",
     "output_type": "stream",
     "text": [
      "100%|███████████████████████████████████████████████████████████████████████████████| 273/273 [00:01<00:00, 185.10it/s]\n",
      "100%|███████████████████████████████████████████████████████████████████████████████████| 3/3 [00:00<00:00, 498.71it/s]\n",
      "  7%|█████▊                                                                          | 20/273 [00:00<00:01, 194.62it/s]"
     ]
    },
    {
     "name": "stdout",
     "output_type": "stream",
     "text": [
      "Train Loss: 0.833\n",
      "Validation Loss: 0.255\n"
     ]
    },
    {
     "name": "stderr",
     "output_type": "stream",
     "text": [
      "100%|███████████████████████████████████████████████████████████████████████████████| 273/273 [00:01<00:00, 179.78it/s]\n",
      "100%|███████████████████████████████████████████████████████████████████████████████████| 3/3 [00:00<00:00, 429.82it/s]\n",
      "  7%|█████▌                                                                          | 19/273 [00:00<00:01, 183.24it/s]"
     ]
    },
    {
     "name": "stdout",
     "output_type": "stream",
     "text": [
      "Train Loss: 0.829\n",
      "Validation Loss: 0.248\n"
     ]
    },
    {
     "name": "stderr",
     "output_type": "stream",
     "text": [
      "100%|███████████████████████████████████████████████████████████████████████████████| 273/273 [00:01<00:00, 186.59it/s]\n",
      "100%|███████████████████████████████████████████████████████████████████████████████████| 3/3 [00:00<00:00, 498.27it/s]\n",
      " 15%|███████████▋                                                                    | 40/273 [00:00<00:01, 195.48it/s]"
     ]
    },
    {
     "name": "stdout",
     "output_type": "stream",
     "text": [
      "Train Loss: 0.828\n",
      "Validation Loss: 0.236\n"
     ]
    },
    {
     "name": "stderr",
     "output_type": "stream",
     "text": [
      "100%|███████████████████████████████████████████████████████████████████████████████| 273/273 [00:01<00:00, 183.70it/s]\n",
      "100%|███████████████████████████████████████████████████████████████████████████████████| 3/3 [00:00<00:00, 498.21it/s]\n",
      "  6%|████▋                                                                           | 16/273 [00:00<00:01, 158.31it/s]"
     ]
    },
    {
     "name": "stdout",
     "output_type": "stream",
     "text": [
      "Train Loss: 0.822\n",
      "Validation Loss: 0.226\n"
     ]
    },
    {
     "name": "stderr",
     "output_type": "stream",
     "text": [
      "100%|███████████████████████████████████████████████████████████████████████████████| 273/273 [00:01<00:00, 180.08it/s]\n",
      "100%|███████████████████████████████████████████████████████████████████████████████████| 3/3 [00:00<00:00, 501.07it/s]\n",
      "  7%|█████▎                                                                          | 18/273 [00:00<00:01, 175.88it/s]"
     ]
    },
    {
     "name": "stdout",
     "output_type": "stream",
     "text": [
      "Train Loss: 0.815\n",
      "Validation Loss: 0.258\n"
     ]
    },
    {
     "name": "stderr",
     "output_type": "stream",
     "text": [
      "100%|███████████████████████████████████████████████████████████████████████████████| 273/273 [00:01<00:00, 183.47it/s]\n",
      "100%|███████████████████████████████████████████████████████████████████████████████████| 3/3 [00:00<00:00, 427.98it/s]\n",
      "  8%|██████▏                                                                         | 21/273 [00:00<00:01, 200.38it/s]"
     ]
    },
    {
     "name": "stdout",
     "output_type": "stream",
     "text": [
      "Train Loss: 0.815\n",
      "Validation Loss: 0.241\n"
     ]
    },
    {
     "name": "stderr",
     "output_type": "stream",
     "text": [
      "100%|███████████████████████████████████████████████████████████████████████████████| 273/273 [00:01<00:00, 185.36it/s]\n",
      "100%|███████████████████████████████████████████████████████████████████████████████████| 3/3 [00:00<00:00, 498.67it/s]\n",
      "  7%|█████▌                                                                          | 19/273 [00:00<00:01, 182.34it/s]"
     ]
    },
    {
     "name": "stdout",
     "output_type": "stream",
     "text": [
      "Train Loss: 0.806\n",
      "Validation Loss: 0.250\n"
     ]
    },
    {
     "name": "stderr",
     "output_type": "stream",
     "text": [
      "100%|███████████████████████████████████████████████████████████████████████████████| 273/273 [00:01<00:00, 176.73it/s]\n",
      "100%|███████████████████████████████████████████████████████████████████████████████████| 3/3 [00:00<00:00, 427.67it/s]\n",
      "  6%|████▉                                                                           | 17/273 [00:00<00:01, 159.20it/s]"
     ]
    },
    {
     "name": "stdout",
     "output_type": "stream",
     "text": [
      "Train Loss: 0.802\n",
      "Validation Loss: 0.228\n"
     ]
    },
    {
     "name": "stderr",
     "output_type": "stream",
     "text": [
      "100%|███████████████████████████████████████████████████████████████████████████████| 273/273 [00:01<00:00, 176.80it/s]\n",
      "100%|███████████████████████████████████████████████████████████████████████████████████| 3/3 [00:00<00:00, 427.99it/s]\n",
      "  7%|█████▊                                                                          | 20/273 [00:00<00:01, 192.82it/s]"
     ]
    },
    {
     "name": "stdout",
     "output_type": "stream",
     "text": [
      "Train Loss: 0.773\n",
      "Validation Loss: 0.234\n"
     ]
    },
    {
     "name": "stderr",
     "output_type": "stream",
     "text": [
      "100%|███████████████████████████████████████████████████████████████████████████████| 273/273 [00:01<00:00, 181.80it/s]\n",
      "100%|███████████████████████████████████████████████████████████████████████████████████| 3/3 [00:00<00:00, 498.75it/s]\n",
      "  7%|█████▊                                                                          | 20/273 [00:00<00:01, 192.82it/s]"
     ]
    },
    {
     "name": "stdout",
     "output_type": "stream",
     "text": [
      "Train Loss: 0.765\n",
      "Validation Loss: 0.267\n"
     ]
    },
    {
     "name": "stderr",
     "output_type": "stream",
     "text": [
      "100%|███████████████████████████████████████████████████████████████████████████████| 273/273 [00:01<00:00, 168.66it/s]\n",
      "100%|███████████████████████████████████████████████████████████████████████████████████| 3/3 [00:00<00:00, 374.45it/s]\n",
      "  6%|████▋                                                                           | 16/273 [00:00<00:01, 157.23it/s]"
     ]
    },
    {
     "name": "stdout",
     "output_type": "stream",
     "text": [
      "Train Loss: 0.767\n",
      "Validation Loss: 0.244\n"
     ]
    },
    {
     "name": "stderr",
     "output_type": "stream",
     "text": [
      "100%|███████████████████████████████████████████████████████████████████████████████| 273/273 [00:01<00:00, 174.95it/s]\n",
      "100%|███████████████████████████████████████████████████████████████████████████████████| 3/3 [00:00<00:00, 601.56it/s]\n",
      "  7%|█████▎                                                                          | 18/273 [00:00<00:01, 176.94it/s]"
     ]
    },
    {
     "name": "stdout",
     "output_type": "stream",
     "text": [
      "Train Loss: 0.755\n",
      "Validation Loss: 0.251\n"
     ]
    },
    {
     "name": "stderr",
     "output_type": "stream",
     "text": [
      "100%|███████████████████████████████████████████████████████████████████████████████| 273/273 [00:01<00:00, 181.12it/s]\n",
      "100%|███████████████████████████████████████████████████████████████████████████████████| 3/3 [00:00<00:00, 427.61it/s]\n",
      "  7%|█████▊                                                                          | 20/273 [00:00<00:01, 196.55it/s]"
     ]
    },
    {
     "name": "stdout",
     "output_type": "stream",
     "text": [
      "Train Loss: 0.753\n",
      "Validation Loss: 0.222\n"
     ]
    },
    {
     "name": "stderr",
     "output_type": "stream",
     "text": [
      "100%|███████████████████████████████████████████████████████████████████████████████| 273/273 [00:01<00:00, 180.56it/s]\n",
      "100%|███████████████████████████████████████████████████████████████████████████████████| 3/3 [00:00<00:00, 427.70it/s]\n",
      "  6%|████▉                                                                           | 17/273 [00:00<00:01, 160.76it/s]"
     ]
    },
    {
     "name": "stdout",
     "output_type": "stream",
     "text": [
      "Train Loss: 0.753\n",
      "Validation Loss: 0.240\n"
     ]
    },
    {
     "name": "stderr",
     "output_type": "stream",
     "text": [
      "100%|███████████████████████████████████████████████████████████████████████████████| 273/273 [00:01<00:00, 169.10it/s]\n",
      "100%|███████████████████████████████████████████████████████████████████████████████████| 3/3 [00:00<00:00, 501.33it/s]\n",
      "  7%|█████▎                                                                          | 18/273 [00:00<00:01, 178.53it/s]"
     ]
    },
    {
     "name": "stdout",
     "output_type": "stream",
     "text": [
      "Train Loss: 0.745\n",
      "Validation Loss: 0.233\n"
     ]
    },
    {
     "name": "stderr",
     "output_type": "stream",
     "text": [
      "100%|███████████████████████████████████████████████████████████████████████████████| 273/273 [00:01<00:00, 177.19it/s]\n",
      "100%|███████████████████████████████████████████████████████████████████████████████████| 3/3 [00:00<00:00, 501.25it/s]\n",
      "  7%|█████▊                                                                          | 20/273 [00:00<00:01, 198.55it/s]"
     ]
    },
    {
     "name": "stdout",
     "output_type": "stream",
     "text": [
      "Train Loss: 0.744\n",
      "Validation Loss: 0.225\n"
     ]
    },
    {
     "name": "stderr",
     "output_type": "stream",
     "text": [
      "100%|███████████████████████████████████████████████████████████████████████████████| 273/273 [00:01<00:00, 183.59it/s]\n",
      "100%|███████████████████████████████████████████████████████████████████████████████████| 3/3 [00:00<00:00, 376.05it/s]\n",
      "  6%|████▉                                                                           | 17/273 [00:00<00:01, 163.41it/s]"
     ]
    },
    {
     "name": "stdout",
     "output_type": "stream",
     "text": [
      "Train Loss: 0.744\n",
      "Validation Loss: 0.236\n"
     ]
    },
    {
     "name": "stderr",
     "output_type": "stream",
     "text": [
      "100%|███████████████████████████████████████████████████████████████████████████████| 273/273 [00:01<00:00, 176.20it/s]\n",
      "100%|███████████████████████████████████████████████████████████████████████████████████| 3/3 [00:00<00:00, 501.37it/s]\n",
      "  7%|█████▎                                                                          | 18/273 [00:00<00:01, 175.15it/s]"
     ]
    },
    {
     "name": "stdout",
     "output_type": "stream",
     "text": [
      "Train Loss: 0.739\n",
      "Validation Loss: 0.229\n"
     ]
    },
    {
     "name": "stderr",
     "output_type": "stream",
     "text": [
      "100%|███████████████████████████████████████████████████████████████████████████████| 273/273 [00:01<00:00, 185.17it/s]\n",
      "100%|███████████████████████████████████████████████████████████████████████████████████| 3/3 [00:00<00:00, 501.33it/s]\n",
      "  6%|████▉                                                                           | 17/273 [00:00<00:01, 167.91it/s]"
     ]
    },
    {
     "name": "stdout",
     "output_type": "stream",
     "text": [
      "Train Loss: 0.743\n",
      "Validation Loss: 0.229\n"
     ]
    },
    {
     "name": "stderr",
     "output_type": "stream",
     "text": [
      "100%|███████████████████████████████████████████████████████████████████████████████| 273/273 [00:01<00:00, 172.66it/s]\n",
      "100%|███████████████████████████████████████████████████████████████████████████████████| 3/3 [00:00<00:00, 501.31it/s]\n",
      "  6%|████▋                                                                           | 16/273 [00:00<00:01, 151.53it/s]"
     ]
    },
    {
     "name": "stdout",
     "output_type": "stream",
     "text": [
      "Train Loss: 0.734\n",
      "Validation Loss: 0.229\n"
     ]
    },
    {
     "name": "stderr",
     "output_type": "stream",
     "text": [
      "100%|███████████████████████████████████████████████████████████████████████████████| 273/273 [00:01<00:00, 165.90it/s]\n",
      "100%|███████████████████████████████████████████████████████████████████████████████████| 3/3 [00:00<00:00, 428.41it/s]\n",
      "  6%|████▋                                                                           | 16/273 [00:00<00:01, 154.21it/s]"
     ]
    },
    {
     "name": "stdout",
     "output_type": "stream",
     "text": [
      "Train Loss: 0.733\n",
      "Validation Loss: 0.232\n"
     ]
    },
    {
     "name": "stderr",
     "output_type": "stream",
     "text": [
      "100%|███████████████████████████████████████████████████████████████████████████████| 273/273 [00:01<00:00, 160.89it/s]\n",
      "100%|███████████████████████████████████████████████████████████████████████████████████| 3/3 [00:00<00:00, 429.71it/s]\n",
      "  6%|████▉                                                                           | 17/273 [00:00<00:01, 161.58it/s]"
     ]
    },
    {
     "name": "stdout",
     "output_type": "stream",
     "text": [
      "Train Loss: 0.726\n",
      "Validation Loss: 0.242\n"
     ]
    },
    {
     "name": "stderr",
     "output_type": "stream",
     "text": [
      "100%|███████████████████████████████████████████████████████████████████████████████| 273/273 [00:01<00:00, 178.82it/s]\n",
      "100%|███████████████████████████████████████████████████████████████████████████████████| 3/3 [00:00<00:00, 498.49it/s]\n",
      "  7%|█████▎                                                                          | 18/273 [00:00<00:01, 175.09it/s]"
     ]
    },
    {
     "name": "stdout",
     "output_type": "stream",
     "text": [
      "Train Loss: 0.726\n",
      "Validation Loss: 0.248\n"
     ]
    },
    {
     "name": "stderr",
     "output_type": "stream",
     "text": [
      "100%|███████████████████████████████████████████████████████████████████████████████| 273/273 [00:01<00:00, 179.89it/s]\n",
      "100%|███████████████████████████████████████████████████████████████████████████████████| 3/3 [00:00<00:00, 501.23it/s]\n",
      "  6%|████▋                                                                           | 16/273 [00:00<00:01, 156.68it/s]"
     ]
    },
    {
     "name": "stdout",
     "output_type": "stream",
     "text": [
      "Train Loss: 0.726\n",
      "Validation Loss: 0.237\n"
     ]
    },
    {
     "name": "stderr",
     "output_type": "stream",
     "text": [
      "100%|███████████████████████████████████████████████████████████████████████████████| 273/273 [00:01<00:00, 186.54it/s]\n",
      "100%|███████████████████████████████████████████████████████████████████████████████████| 3/3 [00:00<00:00, 501.33it/s]\n",
      "  7%|█████▌                                                                          | 19/273 [00:00<00:01, 189.53it/s]"
     ]
    },
    {
     "name": "stdout",
     "output_type": "stream",
     "text": [
      "Train Loss: 0.717\n",
      "Validation Loss: 0.258\n"
     ]
    },
    {
     "name": "stderr",
     "output_type": "stream",
     "text": [
      "100%|███████████████████████████████████████████████████████████████████████████████| 273/273 [00:01<00:00, 181.43it/s]\n",
      "100%|███████████████████████████████████████████████████████████████████████████████████| 3/3 [00:00<00:00, 429.82it/s]\n",
      "  6%|████▋                                                                           | 16/273 [00:00<00:01, 157.23it/s]"
     ]
    },
    {
     "name": "stdout",
     "output_type": "stream",
     "text": [
      "Train Loss: 0.721\n",
      "Validation Loss: 0.252\n"
     ]
    },
    {
     "name": "stderr",
     "output_type": "stream",
     "text": [
      "100%|███████████████████████████████████████████████████████████████████████████████| 273/273 [00:01<00:00, 187.81it/s]\n",
      "100%|███████████████████████████████████████████████████████████████████████████████████| 3/3 [00:00<00:00, 498.67it/s]\n",
      "  7%|█████▌                                                                          | 19/273 [00:00<00:01, 188.55it/s]"
     ]
    },
    {
     "name": "stdout",
     "output_type": "stream",
     "text": [
      "Train Loss: 0.722\n",
      "Validation Loss: 0.241\n"
     ]
    },
    {
     "name": "stderr",
     "output_type": "stream",
     "text": [
      "100%|███████████████████████████████████████████████████████████████████████████████| 273/273 [00:01<00:00, 178.90it/s]\n",
      "100%|███████████████████████████████████████████████████████████████████████████████████| 3/3 [00:00<00:00, 504.16it/s]\n",
      "  6%|████▉                                                                           | 17/273 [00:00<00:01, 163.85it/s]"
     ]
    },
    {
     "name": "stdout",
     "output_type": "stream",
     "text": [
      "Train Loss: 0.713\n",
      "Validation Loss: 0.223\n"
     ]
    },
    {
     "name": "stderr",
     "output_type": "stream",
     "text": [
      "100%|███████████████████████████████████████████████████████████████████████████████| 273/273 [00:01<00:00, 176.79it/s]\n",
      "100%|███████████████████████████████████████████████████████████████████████████████████| 3/3 [00:00<00:00, 431.41it/s]\n",
      "  7%|█████▊                                                                          | 20/273 [00:00<00:01, 190.98it/s]"
     ]
    },
    {
     "name": "stdout",
     "output_type": "stream",
     "text": [
      "Train Loss: 0.711\n",
      "Validation Loss: 0.233\n"
     ]
    },
    {
     "name": "stderr",
     "output_type": "stream",
     "text": [
      "100%|███████████████████████████████████████████████████████████████████████████████| 273/273 [00:01<00:00, 186.44it/s]\n",
      "100%|███████████████████████████████████████████████████████████████████████████████████| 3/3 [00:00<00:00, 428.27it/s]\n",
      "  7%|█████▎                                                                          | 18/273 [00:00<00:01, 176.90it/s]"
     ]
    },
    {
     "name": "stdout",
     "output_type": "stream",
     "text": [
      "Train Loss: 0.708\n",
      "Validation Loss: 0.210\n"
     ]
    },
    {
     "name": "stderr",
     "output_type": "stream",
     "text": [
      "100%|███████████████████████████████████████████████████████████████████████████████| 273/273 [00:01<00:00, 181.59it/s]\n",
      "100%|███████████████████████████████████████████████████████████████████████████████████| 3/3 [00:00<00:00, 501.35it/s]\n",
      "  7%|█████▌                                                                          | 19/273 [00:00<00:01, 179.73it/s]"
     ]
    },
    {
     "name": "stdout",
     "output_type": "stream",
     "text": [
      "Train Loss: 0.707\n",
      "Validation Loss: 0.242\n"
     ]
    },
    {
     "name": "stderr",
     "output_type": "stream",
     "text": [
      "100%|███████████████████████████████████████████████████████████████████████████████| 273/273 [00:01<00:00, 182.93it/s]\n",
      "100%|███████████████████████████████████████████████████████████████████████████████████| 3/3 [00:00<00:00, 498.81it/s]\n",
      "  7%|█████▊                                                                          | 20/273 [00:00<00:01, 198.45it/s]"
     ]
    },
    {
     "name": "stdout",
     "output_type": "stream",
     "text": [
      "Train Loss: 0.702\n",
      "Validation Loss: 0.227\n"
     ]
    },
    {
     "name": "stderr",
     "output_type": "stream",
     "text": [
      "100%|███████████████████████████████████████████████████████████████████████████████| 273/273 [00:01<00:00, 173.50it/s]\n",
      "100%|███████████████████████████████████████████████████████████████████████████████████| 3/3 [00:00<00:00, 429.67it/s]\n",
      "  7%|█████▎                                                                          | 18/273 [00:00<00:01, 168.62it/s]"
     ]
    },
    {
     "name": "stdout",
     "output_type": "stream",
     "text": [
      "Train Loss: 0.704\n",
      "Validation Loss: 0.230\n"
     ]
    },
    {
     "name": "stderr",
     "output_type": "stream",
     "text": [
      "100%|███████████████████████████████████████████████████████████████████████████████| 273/273 [00:01<00:00, 167.90it/s]\n",
      "100%|███████████████████████████████████████████████████████████████████████████████████| 3/3 [00:00<00:00, 376.08it/s]\n",
      "  7%|█████▎                                                                          | 18/273 [00:00<00:01, 175.23it/s]"
     ]
    },
    {
     "name": "stdout",
     "output_type": "stream",
     "text": [
      "Train Loss: 0.699\n",
      "Validation Loss: 0.209\n"
     ]
    },
    {
     "name": "stderr",
     "output_type": "stream",
     "text": [
      "100%|███████████████████████████████████████████████████████████████████████████████| 273/273 [00:01<00:00, 167.48it/s]\n",
      "100%|███████████████████████████████████████████████████████████████████████████████████| 3/3 [00:00<00:00, 374.54it/s]\n",
      "  6%|████▉                                                                           | 17/273 [00:00<00:01, 167.16it/s]"
     ]
    },
    {
     "name": "stdout",
     "output_type": "stream",
     "text": [
      "Train Loss: 0.706\n",
      "Validation Loss: 0.252\n"
     ]
    },
    {
     "name": "stderr",
     "output_type": "stream",
     "text": [
      "100%|███████████████████████████████████████████████████████████████████████████████| 273/273 [00:01<00:00, 169.74it/s]\n",
      "100%|███████████████████████████████████████████████████████████████████████████████████| 3/3 [00:00<00:00, 334.28it/s]\n",
      " 12%|█████████▋                                                                      | 33/273 [00:00<00:01, 164.51it/s]"
     ]
    },
    {
     "name": "stdout",
     "output_type": "stream",
     "text": [
      "Train Loss: 0.692\n",
      "Validation Loss: 0.231\n"
     ]
    },
    {
     "name": "stderr",
     "output_type": "stream",
     "text": [
      "100%|███████████████████████████████████████████████████████████████████████████████| 273/273 [00:01<00:00, 167.51it/s]\n",
      "100%|███████████████████████████████████████████████████████████████████████████████████| 3/3 [00:00<00:00, 501.29it/s]\n",
      "  7%|█████▌                                                                          | 19/273 [00:00<00:01, 177.98it/s]"
     ]
    },
    {
     "name": "stdout",
     "output_type": "stream",
     "text": [
      "Train Loss: 0.691\n",
      "Validation Loss: 0.223\n"
     ]
    },
    {
     "name": "stderr",
     "output_type": "stream",
     "text": [
      "100%|███████████████████████████████████████████████████████████████████████████████| 273/273 [00:01<00:00, 168.90it/s]\n",
      "100%|███████████████████████████████████████████████████████████████████████████████████| 3/3 [00:00<00:00, 429.70it/s]\n",
      "  7%|█████▎                                                                          | 18/273 [00:00<00:01, 178.70it/s]"
     ]
    },
    {
     "name": "stdout",
     "output_type": "stream",
     "text": [
      "Train Loss: 0.693\n",
      "Validation Loss: 0.227\n"
     ]
    },
    {
     "name": "stderr",
     "output_type": "stream",
     "text": [
      "100%|███████████████████████████████████████████████████████████████████████████████| 273/273 [00:01<00:00, 162.16it/s]\n",
      "100%|███████████████████████████████████████████████████████████████████████████████████| 3/3 [00:00<00:00, 375.86it/s]\n",
      "  7%|█████▎                                                                          | 18/273 [00:00<00:01, 178.70it/s]"
     ]
    },
    {
     "name": "stdout",
     "output_type": "stream",
     "text": [
      "Train Loss: 0.692\n",
      "Validation Loss: 0.220\n"
     ]
    },
    {
     "name": "stderr",
     "output_type": "stream",
     "text": [
      "100%|███████████████████████████████████████████████████████████████████████████████| 273/273 [00:01<00:00, 170.96it/s]\n",
      "100%|███████████████████████████████████████████████████████████████████████████████████| 3/3 [00:00<00:00, 429.83it/s]\n",
      "  6%|████▉                                                                           | 17/273 [00:00<00:01, 162.28it/s]"
     ]
    },
    {
     "name": "stdout",
     "output_type": "stream",
     "text": [
      "Train Loss: 0.687\n",
      "Validation Loss: 0.221\n"
     ]
    },
    {
     "name": "stderr",
     "output_type": "stream",
     "text": [
      "100%|███████████████████████████████████████████████████████████████████████████████| 273/273 [00:01<00:00, 171.70it/s]\n",
      "100%|███████████████████████████████████████████████████████████████████████████████████| 3/3 [00:00<00:00, 429.73it/s]\n",
      "  6%|████▋                                                                           | 16/273 [00:00<00:01, 158.84it/s]"
     ]
    },
    {
     "name": "stdout",
     "output_type": "stream",
     "text": [
      "Train Loss: 0.685\n",
      "Validation Loss: 0.219\n"
     ]
    },
    {
     "name": "stderr",
     "output_type": "stream",
     "text": [
      "100%|███████████████████████████████████████████████████████████████████████████████| 273/273 [00:01<00:00, 167.71it/s]\n",
      "100%|███████████████████████████████████████████████████████████████████████████████████| 3/3 [00:00<00:00, 375.86it/s]\n",
      "  7%|█████▌                                                                          | 19/273 [00:00<00:01, 179.67it/s]"
     ]
    },
    {
     "name": "stdout",
     "output_type": "stream",
     "text": [
      "Train Loss: 0.678\n",
      "Validation Loss: 0.232\n"
     ]
    },
    {
     "name": "stderr",
     "output_type": "stream",
     "text": [
      "100%|███████████████████████████████████████████████████████████████████████████████| 273/273 [00:01<00:00, 172.56it/s]\n",
      "100%|███████████████████████████████████████████████████████████████████████████████████| 3/3 [00:00<00:00, 501.57it/s]\n",
      "  7%|█████▎                                                                          | 18/273 [00:00<00:01, 178.69it/s]"
     ]
    },
    {
     "name": "stdout",
     "output_type": "stream",
     "text": [
      "Train Loss: 0.678\n",
      "Validation Loss: 0.228\n"
     ]
    },
    {
     "name": "stderr",
     "output_type": "stream",
     "text": [
      "100%|███████████████████████████████████████████████████████████████████████████████| 273/273 [00:01<00:00, 171.17it/s]\n",
      "100%|███████████████████████████████████████████████████████████████████████████████████| 3/3 [00:00<00:00, 375.81it/s]\n",
      "  7%|█████▌                                                                          | 19/273 [00:00<00:01, 181.44it/s]"
     ]
    },
    {
     "name": "stdout",
     "output_type": "stream",
     "text": [
      "Train Loss: 0.673\n",
      "Validation Loss: 0.223\n"
     ]
    },
    {
     "name": "stderr",
     "output_type": "stream",
     "text": [
      "100%|███████████████████████████████████████████████████████████████████████████████| 273/273 [00:01<00:00, 166.26it/s]\n",
      "100%|███████████████████████████████████████████████████████████████████████████████████| 3/3 [00:00<00:00, 334.17it/s]\n",
      "  6%|████▉                                                                           | 17/273 [00:00<00:01, 168.82it/s]"
     ]
    },
    {
     "name": "stdout",
     "output_type": "stream",
     "text": [
      "Train Loss: 0.940\n",
      "Validation Loss: 0.203\n"
     ]
    },
    {
     "name": "stderr",
     "output_type": "stream",
     "text": [
      "100%|███████████████████████████████████████████████████████████████████████████████| 273/273 [00:01<00:00, 163.81it/s]\n",
      "100%|███████████████████████████████████████████████████████████████████████████████████| 3/3 [00:00<00:00, 427.34it/s]\n",
      "  7%|█████▌                                                                          | 19/273 [00:00<00:01, 178.05it/s]"
     ]
    },
    {
     "name": "stdout",
     "output_type": "stream",
     "text": [
      "Train Loss: 0.672\n",
      "Validation Loss: 0.226\n"
     ]
    },
    {
     "name": "stderr",
     "output_type": "stream",
     "text": [
      "100%|███████████████████████████████████████████████████████████████████████████████| 273/273 [00:01<00:00, 163.89it/s]\n",
      "100%|███████████████████████████████████████████████████████████████████████████████████| 3/3 [00:00<00:00, 501.23it/s]\n",
      "  6%|████▉                                                                           | 17/273 [00:00<00:01, 159.31it/s]"
     ]
    },
    {
     "name": "stdout",
     "output_type": "stream",
     "text": [
      "Train Loss: 0.666\n",
      "Validation Loss: 0.214\n"
     ]
    },
    {
     "name": "stderr",
     "output_type": "stream",
     "text": [
      "100%|███████████████████████████████████████████████████████████████████████████████| 273/273 [00:01<00:00, 170.14it/s]\n",
      "100%|███████████████████████████████████████████████████████████████████████████████████| 3/3 [00:00<00:00, 498.87it/s]\n",
      "  7%|█████▎                                                                          | 18/273 [00:00<00:01, 174.19it/s]"
     ]
    },
    {
     "name": "stdout",
     "output_type": "stream",
     "text": [
      "Train Loss: 0.670\n",
      "Validation Loss: 0.223\n"
     ]
    },
    {
     "name": "stderr",
     "output_type": "stream",
     "text": [
      "100%|███████████████████████████████████████████████████████████████████████████████| 273/273 [00:01<00:00, 166.54it/s]\n",
      "100%|███████████████████████████████████████████████████████████████████████████████████| 3/3 [00:00<00:00, 376.02it/s]\n",
      "  7%|█████▎                                                                          | 18/273 [00:00<00:01, 173.43it/s]"
     ]
    },
    {
     "name": "stdout",
     "output_type": "stream",
     "text": [
      "Train Loss: 0.661\n",
      "Validation Loss: 0.207\n"
     ]
    },
    {
     "name": "stderr",
     "output_type": "stream",
     "text": [
      "100%|███████████████████████████████████████████████████████████████████████████████| 273/273 [00:01<00:00, 172.46it/s]\n",
      "100%|███████████████████████████████████████████████████████████████████████████████████| 3/3 [00:00<00:00, 501.41it/s]\n",
      "  6%|████▋                                                                           | 16/273 [00:00<00:01, 148.49it/s]"
     ]
    },
    {
     "name": "stdout",
     "output_type": "stream",
     "text": [
      "Train Loss: 0.661\n",
      "Validation Loss: 0.207\n"
     ]
    },
    {
     "name": "stderr",
     "output_type": "stream",
     "text": [
      "100%|███████████████████████████████████████████████████████████████████████████████| 273/273 [00:01<00:00, 170.04it/s]\n",
      "100%|███████████████████████████████████████████████████████████████████████████████████| 3/3 [00:00<00:00, 374.45it/s]\n",
      "  6%|████▋                                                                           | 16/273 [00:00<00:01, 154.25it/s]"
     ]
    },
    {
     "name": "stdout",
     "output_type": "stream",
     "text": [
      "Train Loss: 0.661\n",
      "Validation Loss: 0.205\n"
     ]
    },
    {
     "name": "stderr",
     "output_type": "stream",
     "text": [
      "100%|███████████████████████████████████████████████████████████████████████████████| 273/273 [00:01<00:00, 170.21it/s]\n",
      "100%|███████████████████████████████████████████████████████████████████████████████████| 3/3 [00:00<00:00, 376.04it/s]\n",
      "  6%|████▉                                                                           | 17/273 [00:00<00:01, 159.22it/s]"
     ]
    },
    {
     "name": "stdout",
     "output_type": "stream",
     "text": [
      "Train Loss: 0.660\n",
      "Validation Loss: 0.191\n"
     ]
    },
    {
     "name": "stderr",
     "output_type": "stream",
     "text": [
      "100%|███████████████████████████████████████████████████████████████████████████████| 273/273 [00:01<00:00, 162.57it/s]\n",
      "100%|███████████████████████████████████████████████████████████████████████████████████| 3/3 [00:00<00:00, 429.73it/s]\n",
      "  6%|████▉                                                                           | 17/273 [00:00<00:01, 160.81it/s]"
     ]
    },
    {
     "name": "stdout",
     "output_type": "stream",
     "text": [
      "Train Loss: 0.657\n",
      "Validation Loss: 0.217\n"
     ]
    },
    {
     "name": "stderr",
     "output_type": "stream",
     "text": [
      "100%|███████████████████████████████████████████████████████████████████████████████| 273/273 [00:01<00:00, 169.17it/s]\n",
      "100%|███████████████████████████████████████████████████████████████████████████████████| 3/3 [00:00<00:00, 429.79it/s]\n",
      "  7%|█████▌                                                                          | 19/273 [00:00<00:01, 181.44it/s]"
     ]
    },
    {
     "name": "stdout",
     "output_type": "stream",
     "text": [
      "Train Loss: 0.654\n",
      "Validation Loss: 0.211\n"
     ]
    },
    {
     "name": "stderr",
     "output_type": "stream",
     "text": [
      "100%|███████████████████████████████████████████████████████████████████████████████| 273/273 [00:01<00:00, 168.40it/s]\n",
      "100%|███████████████████████████████████████████████████████████████████████████████████| 3/3 [00:00<00:00, 429.77it/s]\n",
      "  7%|█████▌                                                                          | 19/273 [00:00<00:01, 183.18it/s]"
     ]
    },
    {
     "name": "stdout",
     "output_type": "stream",
     "text": [
      "Train Loss: 0.654\n",
      "Validation Loss: 0.211\n"
     ]
    },
    {
     "name": "stderr",
     "output_type": "stream",
     "text": [
      "100%|███████████████████████████████████████████████████████████████████████████████| 273/273 [00:01<00:00, 170.24it/s]\n",
      "100%|███████████████████████████████████████████████████████████████████████████████████| 3/3 [00:00<00:00, 376.06it/s]\n",
      "  7%|█████▎                                                                          | 18/273 [00:00<00:01, 171.89it/s]"
     ]
    },
    {
     "name": "stdout",
     "output_type": "stream",
     "text": [
      "Train Loss: 0.653\n",
      "Validation Loss: 0.216\n"
     ]
    },
    {
     "name": "stderr",
     "output_type": "stream",
     "text": [
      "100%|███████████████████████████████████████████████████████████████████████████████| 273/273 [00:01<00:00, 168.89it/s]\n",
      "100%|███████████████████████████████████████████████████████████████████████████████████| 3/3 [00:00<00:00, 429.71it/s]\n",
      "  6%|████▉                                                                           | 17/273 [00:00<00:01, 159.26it/s]"
     ]
    },
    {
     "name": "stdout",
     "output_type": "stream",
     "text": [
      "Train Loss: 0.650\n",
      "Validation Loss: 0.219\n"
     ]
    },
    {
     "name": "stderr",
     "output_type": "stream",
     "text": [
      "100%|███████████████████████████████████████████████████████████████████████████████| 273/273 [00:01<00:00, 166.72it/s]\n",
      "100%|███████████████████████████████████████████████████████████████████████████████████| 3/3 [00:00<00:00, 429.71it/s]\n",
      "  7%|█████▎                                                                          | 18/273 [00:00<00:01, 175.23it/s]"
     ]
    },
    {
     "name": "stdout",
     "output_type": "stream",
     "text": [
      "Train Loss: 0.648\n",
      "Validation Loss: 0.197\n"
     ]
    },
    {
     "name": "stderr",
     "output_type": "stream",
     "text": [
      "100%|███████████████████████████████████████████████████████████████████████████████| 273/273 [00:01<00:00, 164.83it/s]\n",
      "100%|███████████████████████████████████████████████████████████████████████████████████| 3/3 [00:00<00:00, 375.93it/s]\n",
      "  6%|████▉                                                                           | 17/273 [00:00<00:01, 166.22it/s]"
     ]
    },
    {
     "name": "stdout",
     "output_type": "stream",
     "text": [
      "Train Loss: 0.641\n",
      "Validation Loss: 0.215\n"
     ]
    },
    {
     "name": "stderr",
     "output_type": "stream",
     "text": [
      "100%|███████████████████████████████████████████████████████████████████████████████| 273/273 [00:01<00:00, 168.60it/s]\n",
      "100%|███████████████████████████████████████████████████████████████████████████████████| 3/3 [00:00<00:00, 430.52it/s]\n",
      "  6%|████▉                                                                           | 17/273 [00:00<00:01, 167.12it/s]"
     ]
    },
    {
     "name": "stdout",
     "output_type": "stream",
     "text": [
      "Train Loss: 0.644\n",
      "Validation Loss: 0.220\n"
     ]
    },
    {
     "name": "stderr",
     "output_type": "stream",
     "text": [
      "100%|███████████████████████████████████████████████████████████████████████████████| 273/273 [00:01<00:00, 165.44it/s]\n",
      "100%|███████████████████████████████████████████████████████████████████████████████████| 3/3 [00:00<00:00, 501.45it/s]\n",
      " 13%|██████████▌                                                                     | 36/273 [00:00<00:01, 176.94it/s]"
     ]
    },
    {
     "name": "stdout",
     "output_type": "stream",
     "text": [
      "Train Loss: 0.639\n",
      "Validation Loss: 0.190\n"
     ]
    },
    {
     "name": "stderr",
     "output_type": "stream",
     "text": [
      "100%|███████████████████████████████████████████████████████████████████████████████| 273/273 [00:01<00:00, 169.36it/s]\n",
      "100%|███████████████████████████████████████████████████████████████████████████████████| 3/3 [00:00<00:00, 427.21it/s]\n",
      "  7%|█████▌                                                                          | 19/273 [00:00<00:01, 188.56it/s]"
     ]
    },
    {
     "name": "stdout",
     "output_type": "stream",
     "text": [
      "Train Loss: 0.641\n",
      "Validation Loss: 0.226\n"
     ]
    },
    {
     "name": "stderr",
     "output_type": "stream",
     "text": [
      "100%|███████████████████████████████████████████████████████████████████████████████| 273/273 [00:01<00:00, 167.91it/s]\n",
      "100%|███████████████████████████████████████████████████████████████████████████████████| 3/3 [00:00<00:00, 374.39it/s]\n",
      "  6%|████▉                                                                           | 17/273 [00:00<00:01, 160.81it/s]"
     ]
    },
    {
     "name": "stdout",
     "output_type": "stream",
     "text": [
      "Train Loss: 0.638\n",
      "Validation Loss: 0.198\n"
     ]
    },
    {
     "name": "stderr",
     "output_type": "stream",
     "text": [
      "100%|███████████████████████████████████████████████████████████████████████████████| 273/273 [00:01<00:00, 168.56it/s]\n",
      "100%|███████████████████████████████████████████████████████████████████████████████████| 3/3 [00:00<00:00, 376.23it/s]\n",
      "  7%|█████▎                                                                          | 18/273 [00:00<00:01, 178.69it/s]"
     ]
    },
    {
     "name": "stdout",
     "output_type": "stream",
     "text": [
      "Train Loss: 0.636\n",
      "Validation Loss: 0.188\n"
     ]
    },
    {
     "name": "stderr",
     "output_type": "stream",
     "text": [
      "100%|███████████████████████████████████████████████████████████████████████████████| 273/273 [00:01<00:00, 168.88it/s]\n",
      "100%|███████████████████████████████████████████████████████████████████████████████████| 3/3 [00:00<00:00, 332.93it/s]\n",
      "  7%|█████▎                                                                          | 18/273 [00:00<00:01, 175.17it/s]"
     ]
    },
    {
     "name": "stdout",
     "output_type": "stream",
     "text": [
      "Train Loss: 0.632\n",
      "Validation Loss: 0.181\n"
     ]
    },
    {
     "name": "stderr",
     "output_type": "stream",
     "text": [
      "100%|███████████████████████████████████████████████████████████████████████████████| 273/273 [00:01<00:00, 165.64it/s]\n",
      "100%|███████████████████████████████████████████████████████████████████████████████████| 3/3 [00:00<00:00, 501.29it/s]\n",
      "  7%|█████▌                                                                          | 19/273 [00:00<00:01, 186.71it/s]"
     ]
    },
    {
     "name": "stdout",
     "output_type": "stream",
     "text": [
      "Train Loss: 0.630\n",
      "Validation Loss: 0.202\n"
     ]
    },
    {
     "name": "stderr",
     "output_type": "stream",
     "text": [
      "100%|███████████████████████████████████████████████████████████████████████████████| 273/273 [00:01<00:00, 172.41it/s]\n",
      "100%|███████████████████████████████████████████████████████████████████████████████████| 3/3 [00:00<00:00, 333.28it/s]\n",
      "  6%|████▉                                                                           | 17/273 [00:00<00:01, 168.82it/s]"
     ]
    },
    {
     "name": "stdout",
     "output_type": "stream",
     "text": [
      "Train Loss: 0.630\n",
      "Validation Loss: 0.188\n"
     ]
    },
    {
     "name": "stderr",
     "output_type": "stream",
     "text": [
      "100%|███████████████████████████████████████████████████████████████████████████████| 273/273 [00:01<00:00, 168.58it/s]\n",
      "100%|███████████████████████████████████████████████████████████████████████████████████| 3/3 [00:00<00:00, 376.40it/s]\n",
      "  6%|████▋                                                                           | 16/273 [00:00<00:01, 157.28it/s]"
     ]
    },
    {
     "name": "stdout",
     "output_type": "stream",
     "text": [
      "Train Loss: 0.623\n",
      "Validation Loss: 0.185\n"
     ]
    },
    {
     "name": "stderr",
     "output_type": "stream",
     "text": [
      "100%|███████████████████████████████████████████████████████████████████████████████| 273/273 [00:01<00:00, 156.97it/s]\n",
      "100%|███████████████████████████████████████████████████████████████████████████████████| 3/3 [00:00<00:00, 429.83it/s]"
     ]
    },
    {
     "name": "stdout",
     "output_type": "stream",
     "text": [
      "Train Loss: 0.622\n",
      "Validation Loss: 0.188\n"
     ]
    },
    {
     "name": "stderr",
     "output_type": "stream",
     "text": [
      "\n"
     ]
    }
   ],
   "source": [
    "# run the train and val loops\n",
    "epochs=200\n",
    "train_losses = []\n",
    "eval_losses = []\n",
    "for epoch in range(1,epochs+1): \n",
    "    train_losses, preds_train, orig_train, hadamards_train = train(epoch)\n",
    "    eval_losses, preds_val, orig_val, hadamards_val = val(epoch)"
   ]
  },
  {
   "cell_type": "code",
   "execution_count": 95,
   "id": "8d0fa545",
   "metadata": {},
   "outputs": [
    {
     "data": {
      "text/plain": [
       "[array([[0.06651697, 0.962118  , 0.00932837, ..., 0.07257222, 0.04771111,\n",
       "         0.04855257],\n",
       "        [0.06651697, 0.962118  , 0.00932837, ..., 0.07257222, 0.04771111,\n",
       "         0.04855257],\n",
       "        [0.06651697, 0.962118  , 0.00932837, ..., 0.07257222, 0.04771111,\n",
       "         0.04855257],\n",
       "        ...,\n",
       "        [0.07048371, 0.96318597, 0.00948506, ..., 0.07287345, 0.04697517,\n",
       "         0.04793805],\n",
       "        [0.06651697, 0.962118  , 0.00932837, ..., 0.07257222, 0.04771111,\n",
       "         0.04855257],\n",
       "        [0.07048371, 0.96318597, 0.00948506, ..., 0.07287345, 0.04697517,\n",
       "         0.04793805]], dtype=float32),\n",
       " array([[0.08151595, 0.96332365, 0.01000678, ..., 0.07208565, 0.04549919,\n",
       "         0.04667978],\n",
       "        [0.0670406 , 0.96196365, 0.00939491, ..., 0.07327179, 0.05016413,\n",
       "         0.0510252 ],\n",
       "        [0.09459924, 0.9607699 , 0.01043265, ..., 0.0779118 , 0.05205699,\n",
       "         0.05321898],\n",
       "        ...,\n",
       "        [0.09459924, 0.9607699 , 0.01043265, ..., 0.0779118 , 0.05205699,\n",
       "         0.05321898],\n",
       "        [0.06651697, 0.962118  , 0.00932837, ..., 0.07257222, 0.04771111,\n",
       "         0.04855257],\n",
       "        [0.06651697, 0.962118  , 0.00932837, ..., 0.07257222, 0.04771111,\n",
       "         0.04855257]], dtype=float32),\n",
       " array([[0.08151595, 0.96332365, 0.01000678, ..., 0.07208565, 0.04549919,\n",
       "         0.04667978],\n",
       "        [0.09459924, 0.9607699 , 0.01043265, ..., 0.0779118 , 0.05205699,\n",
       "         0.05321898],\n",
       "        [0.07228259, 0.9610357 , 0.00932943, ..., 0.06577498, 0.04590664,\n",
       "         0.04684427],\n",
       "        ...,\n",
       "        [0.06651697, 0.962118  , 0.00932837, ..., 0.07257222, 0.04771111,\n",
       "         0.04855257],\n",
       "        [0.06651697, 0.962118  , 0.00932837, ..., 0.07257222, 0.04771111,\n",
       "         0.04855257],\n",
       "        [0.06651697, 0.962118  , 0.00932837, ..., 0.07257222, 0.04771111,\n",
       "         0.04855257]], dtype=float32)]"
      ]
     },
     "execution_count": 95,
     "metadata": {},
     "output_type": "execute_result"
    }
   ],
   "source": [
    "preds_val"
   ]
  },
  {
   "cell_type": "code",
   "execution_count": 96,
   "id": "800b0edb",
   "metadata": {},
   "outputs": [
    {
     "data": {
      "image/png": "[encoded data removed]",
      "text/plain": [
       "<Figure size 720x360 with 1 Axes>"
      ]
     },
     "metadata": {
      "needs_background": "light"
     },
     "output_type": "display_data"
    }
   ],
   "source": [
    "# plot the train and validation lossto monitor convergence\n",
    "import matplotlib.pyplot as plt\n",
    "plt.figure(figsize=(10,5))\n",
    "plt.title(\"Training and Validation Loss\", fontsize = 15)\n",
    "plt.plot(eval_losses, '-o', label=\"Val_loss\")\n",
    "plt.plot(train_losses, '-o', label=\"Train_loss\")\n",
    "plt.xlabel(\"Iterations\", fontsize=15)\n",
    "plt.ylabel(\"Loss\", fontsize=15)\n",
    "plt.legend()\n",
    "plt.grid(linestyle = '--', linewidth = 0.2)\n",
    "#plt.savefig('./loss.png')\n",
    "plt.show()"
   ]
  },
  {
   "cell_type": "code",
   "execution_count": 97,
   "id": "e668e61c",
   "metadata": {},
   "outputs": [],
   "source": [
    "# define the test loop\n",
    "def test():\n",
    "    model.eval()\n",
    "    running_loss=0\n",
    "    recon_test = []\n",
    "    original_test = []\n",
    "    hadamards_test = []\n",
    "    with torch.no_grad():\n",
    "        for X_test_inputs, X_test_target, X_test_original, hadamard_test in tqdm(test_dl):\n",
    "            X_test_inputs, X_test_target, X_test_original, hadamard_test = X_test_inputs.cuda(), X_test_target.cuda(), X_test_original.cuda(), hadamard_test.cuda()\n",
    "            recon=model(X_test_inputs.float())\n",
    "            loss = loss_function(recon, X_test_target, hadamard_test) \n",
    "            running_loss+=loss.item()\n",
    "            recon_test.append(recon.cpu().detach().numpy())\n",
    "            original_test.append(X_test_original.cpu().detach().numpy())\n",
    "            hadamards_test.append(hadamard_test.cpu().detach().numpy())            \n",
    "        eval_loss=running_loss/len(test_dl)\n",
    "        eval_losses.append(eval_loss)\n",
    "    print('Validation Loss: %.3f' %(eval_loss))\n",
    "    return recon_test, original_test, hadamards_test"
   ]
  },
  {
   "cell_type": "code",
   "execution_count": 98,
   "id": "6eb18112",
   "metadata": {},
   "outputs": [
    {
     "name": "stderr",
     "output_type": "stream",
     "text": [
      "100%|█████████████████████████████████████████████████████████████████████████████████| 14/14 [00:00<00:00, 342.37it/s]"
     ]
    },
    {
     "name": "stdout",
     "output_type": "stream",
     "text": [
      "Validation Loss: 3.209\n"
     ]
    },
    {
     "name": "stderr",
     "output_type": "stream",
     "text": [
      "\n"
     ]
    }
   ],
   "source": [
    "recon_test, original_test, hadamards_test = test()"
   ]
  },
  {
   "cell_type": "code",
   "execution_count": 99,
   "id": "1d2242f7",
   "metadata": {},
   "outputs": [
    {
     "data": {
      "text/plain": [
       "[array([[0.0706559 , 0.96394736, 0.00744298, ..., 0.01659286, 0.02651689,\n",
       "         0.02668702],\n",
       "        [0.02215525, 0.96606714, 0.00992785, ..., 0.0276383 , 0.03019602,\n",
       "         0.02983418],\n",
       "        [0.03793986, 0.964726  , 0.00840427, ..., 0.02470801, 0.02882604,\n",
       "         0.02914468],\n",
       "        ...,\n",
       "        [0.01801959, 0.9683055 , 0.00902107, ..., 0.01684883, 0.03360647,\n",
       "         0.03276118],\n",
       "        [0.03567467, 0.96512514, 0.00832825, ..., 0.06461067, 0.03296332,\n",
       "         0.03259915],\n",
       "        [0.0454215 , 0.96270543, 0.00892358, ..., 0.02085362, 0.02013561,\n",
       "         0.02065969]], dtype=float32),\n",
       " array([[0.04496768, 0.9728434 , 0.0056752 , ..., 0.01566115, 0.03099193,\n",
       "         0.03092029],\n",
       "        [0.04465566, 0.9693365 , 0.00594993, ..., 0.01232666, 0.02901568,\n",
       "         0.02888577],\n",
       "        [0.02959924, 0.96818024, 0.01027961, ..., 0.08646523, 0.01750393,\n",
       "         0.0176568 ],\n",
       "        ...,\n",
       "        [0.04109171, 0.9649992 , 0.00680106, ..., 0.08959524, 0.05631415,\n",
       "         0.05523103],\n",
       "        [0.04087926, 0.9654379 , 0.00909833, ..., 0.01526126, 0.03139127,\n",
       "         0.03163224],\n",
       "        [0.06399282, 0.9645791 , 0.00770793, ..., 0.02929022, 0.03089618,\n",
       "         0.03175881]], dtype=float32),\n",
       " array([[0.02180179, 0.9716997 , 0.01012873, ..., 0.01462052, 0.0149495 ,\n",
       "         0.01483669],\n",
       "        [0.02754303, 0.9643565 , 0.00865644, ..., 0.02210203, 0.03664533,\n",
       "         0.03610354],\n",
       "        [0.03467556, 0.96296084, 0.00734979, ..., 0.03614217, 0.04757493,\n",
       "         0.04700873],\n",
       "        ...,\n",
       "        [0.03183919, 0.9674475 , 0.00762672, ..., 0.08766136, 0.03729725,\n",
       "         0.03829312],\n",
       "        [0.05371379, 0.96633786, 0.00849136, ..., 0.03117426, 0.02966589,\n",
       "         0.03014799],\n",
       "        [0.03793972, 0.9629228 , 0.00957688, ..., 0.03531104, 0.02455873,\n",
       "         0.02500765]], dtype=float32),\n",
       " array([[0.02355433, 0.96231866, 0.00708869, ..., 0.0164009 , 0.02776774,\n",
       "         0.02749282],\n",
       "        [0.09902743, 0.9667662 , 0.00856131, ..., 0.01849282, 0.02228417,\n",
       "         0.02230954],\n",
       "        [0.05458214, 0.9684188 , 0.01146752, ..., 0.02074867, 0.02214069,\n",
       "         0.02216268],\n",
       "        ...,\n",
       "        [0.05565669, 0.9669582 , 0.00883259, ..., 0.02169662, 0.02611413,\n",
       "         0.02574825],\n",
       "        [0.05605255, 0.9603772 , 0.00742924, ..., 0.02263525, 0.0362527 ,\n",
       "         0.03651235],\n",
       "        [0.06106425, 0.9650664 , 0.00885709, ..., 0.02657814, 0.02739059,\n",
       "         0.02748453]], dtype=float32),\n",
       " array([[0.0303112 , 0.97010744, 0.00614875, ..., 0.0235856 , 0.06853411,\n",
       "         0.06984095],\n",
       "        [0.03931687, 0.97186524, 0.00455731, ..., 0.0572286 , 0.23674835,\n",
       "         0.24165706],\n",
       "        [0.02315693, 0.96509415, 0.00902458, ..., 0.02087043, 0.0224775 ,\n",
       "         0.02282727],\n",
       "        ...,\n",
       "        [0.06012512, 0.96127194, 0.0088357 , ..., 0.01489714, 0.02050572,\n",
       "         0.0207129 ],\n",
       "        [0.04104458, 0.96551424, 0.00824146, ..., 0.0170265 , 0.02391314,\n",
       "         0.02439305],\n",
       "        [0.0239939 , 0.96535546, 0.00746516, ..., 0.02806086, 0.01754038,\n",
       "         0.01765847]], dtype=float32),\n",
       " array([[0.06350611, 0.9576226 , 0.00672495, ..., 0.01709122, 0.03048707,\n",
       "         0.03066037],\n",
       "        [0.05376972, 0.964218  , 0.00917305, ..., 0.07691615, 0.03126125,\n",
       "         0.03170919],\n",
       "        [0.0455238 , 0.96708363, 0.00780722, ..., 0.01685783, 0.02656325,\n",
       "         0.02719717],\n",
       "        ...,\n",
       "        [0.07682738, 0.96501887, 0.00758995, ..., 0.04098057, 0.03171752,\n",
       "         0.03198389],\n",
       "        [0.06082362, 0.96567655, 0.00774874, ..., 0.04036628, 0.03061119,\n",
       "         0.03095452],\n",
       "        [0.02917695, 0.96087456, 0.00977554, ..., 0.01371794, 0.01276568,\n",
       "         0.0129197 ]], dtype=float32),\n",
       " array([[0.05724425, 0.96874654, 0.0070691 , ..., 0.01737151, 0.0313065 ,\n",
       "         0.03126692],\n",
       "        [0.08754248, 0.9664823 , 0.00684394, ..., 0.0483981 , 0.03480836,\n",
       "         0.03529999],\n",
       "        [0.05390582, 0.96523976, 0.0103351 , ..., 0.01537109, 0.01376796,\n",
       "         0.01427666],\n",
       "        ...,\n",
       "        [0.05705244, 0.9688205 , 0.00700943, ..., 0.0172808 , 0.03118649,\n",
       "         0.0311399 ],\n",
       "        [0.02215285, 0.9646681 , 0.01118295, ..., 0.0285557 , 0.01890451,\n",
       "         0.01942234],\n",
       "        [0.01898057, 0.96499044, 0.00810674, ..., 0.02725609, 0.03226149,\n",
       "         0.03180708]], dtype=float32),\n",
       " array([[2.7548589e-02, 9.6858549e-01, 9.4205644e-03, ..., 3.3115659e-02,\n",
       "         1.4813119e-02, 1.5056454e-02],\n",
       "        [2.0139974e-02, 9.6506506e-01, 9.7252335e-03, ..., 1.2270717e-01,\n",
       "         5.0852016e-02, 5.0268188e-02],\n",
       "        [6.5002583e-02, 9.6734679e-01, 7.6989252e-03, ..., 7.2930021e-08,\n",
       "         1.2402040e-02, 1.2701033e-02],\n",
       "        ...,\n",
       "        [3.0116191e-02, 9.6667999e-01, 9.2188204e-03, ..., 4.0670678e-02,\n",
       "         2.4206333e-02, 2.4232700e-02],\n",
       "        [4.7868192e-02, 9.6507883e-01, 8.6457385e-03, ..., 1.6168922e-02,\n",
       "         1.9253045e-02, 1.9141302e-02],\n",
       "        [3.8649954e-02, 9.6446413e-01, 9.3127703e-03, ..., 4.4518899e-02,\n",
       "         3.1612355e-02, 3.1687938e-02]], dtype=float32),\n",
       " array([[0.0344523 , 0.96644807, 0.00725638, ..., 0.07426363, 0.04834273,\n",
       "         0.04850033],\n",
       "        [0.03725876, 0.9629857 , 0.01172408, ..., 0.01639509, 0.0175432 ,\n",
       "         0.01770381],\n",
       "        [0.0735379 , 0.96353066, 0.00851765, ..., 0.0137311 , 0.0120429 ,\n",
       "         0.01223496],\n",
       "        ...,\n",
       "        [0.0319916 , 0.96348995, 0.00801729, ..., 0.03780188, 0.02721963,\n",
       "         0.02818902],\n",
       "        [0.04136939, 0.96744645, 0.00715029, ..., 0.04322747, 0.03459205,\n",
       "         0.03549777],\n",
       "        [0.05991637, 0.96568555, 0.01063426, ..., 0.02062803, 0.01996681,\n",
       "         0.02033914]], dtype=float32),\n",
       " array([[3.43057550e-02, 9.60938215e-01, 9.62533057e-03, ...,\n",
       "         1.69964191e-02, 2.44310964e-02, 2.46347971e-02],\n",
       "        [3.61887850e-02, 9.65710104e-01, 9.98058729e-03, ...,\n",
       "         2.47827750e-02, 2.27979403e-02, 2.25977898e-02],\n",
       "        [4.21595611e-02, 9.63850200e-01, 7.56070716e-03, ...,\n",
       "         1.22923665e-02, 2.72838455e-02, 2.70905830e-02],\n",
       "        ...,\n",
       "        [5.20462692e-02, 9.67804909e-01, 8.47177021e-03, ...,\n",
       "         2.08845362e-02, 2.29895283e-02, 2.35752501e-02],\n",
       "        [3.44526358e-02, 9.64563608e-01, 8.98223184e-03, ...,\n",
       "         2.21374236e-07, 1.93751734e-02, 2.08057761e-02],\n",
       "        [3.91029269e-02, 9.62917626e-01, 5.60900988e-03, ...,\n",
       "         9.63084027e-02, 4.81211066e-01, 4.78078663e-01]], dtype=float32),\n",
       " array([[0.06613864, 0.9675821 , 0.00687967, ..., 0.06198686, 0.04323264,\n",
       "         0.04292032],\n",
       "        [0.05097897, 0.96573836, 0.00878411, ..., 0.01505687, 0.03138763,\n",
       "         0.03122518],\n",
       "        [0.03391103, 0.9689887 , 0.00850395, ..., 0.0517226 , 0.03284162,\n",
       "         0.0325942 ],\n",
       "        ...,\n",
       "        [0.05914198, 0.9598667 , 0.00726441, ..., 0.02073529, 0.02922787,\n",
       "         0.03001918],\n",
       "        [0.0469919 , 0.96167177, 0.00691451, ..., 0.02699504, 0.08826859,\n",
       "         0.08924314],\n",
       "        [0.07305206, 0.9647037 , 0.00662058, ..., 0.02683896, 0.03182274,\n",
       "         0.03252618]], dtype=float32),\n",
       " array([[0.02614039, 0.95828944, 0.01059571, ..., 0.01897583, 0.02215801,\n",
       "         0.02249935],\n",
       "        [0.07164907, 0.9577567 , 0.00675223, ..., 0.01476273, 0.02928344,\n",
       "         0.02972281],\n",
       "        [0.04358948, 0.963765  , 0.00998086, ..., 0.04424116, 0.04539614,\n",
       "         0.0452695 ],\n",
       "        ...,\n",
       "        [0.02168566, 0.96146894, 0.00965631, ..., 0.04569498, 0.03187193,\n",
       "         0.03230599],\n",
       "        [0.02121385, 0.9665688 , 0.00835831, ..., 0.0617037 , 0.03129803,\n",
       "         0.03183193],\n",
       "        [0.05174751, 0.9644853 , 0.00898661, ..., 0.02320542, 0.0243281 ,\n",
       "         0.0243993 ]], dtype=float32),\n",
       " array([[0.06235065, 0.9587363 , 0.00660177, ..., 0.01289213, 0.02802146,\n",
       "         0.02837412],\n",
       "        [0.04995296, 0.9635008 , 0.01008358, ..., 0.01637926, 0.02063494,\n",
       "         0.02073999],\n",
       "        [0.07685845, 0.9635059 , 0.00687817, ..., 0.03063329, 0.07289243,\n",
       "         0.07150265],\n",
       "        ...,\n",
       "        [0.01595553, 0.9613371 , 0.00693824, ..., 0.02309836, 0.02551349,\n",
       "         0.02556116],\n",
       "        [0.02054407, 0.97078806, 0.00678548, ..., 0.12212516, 0.04752611,\n",
       "         0.04583271],\n",
       "        [0.01968527, 0.9664805 , 0.00994224, ..., 0.10073746, 0.03214119,\n",
       "         0.03188748]], dtype=float32),\n",
       " array([[0.03607492, 0.96408844, 0.00754943, ..., 0.01513983, 0.02891853,\n",
       "         0.02921402],\n",
       "        [0.03644371, 0.96839094, 0.00823083, ..., 0.01730179, 0.02040365,\n",
       "         0.01989703],\n",
       "        [0.04229259, 0.96564084, 0.00383014, ..., 0.05952854, 0.49018165,\n",
       "         0.48961854],\n",
       "        ...,\n",
       "        [0.03978982, 0.96979374, 0.00985189, ..., 0.01841021, 0.02161818,\n",
       "         0.02179526],\n",
       "        [0.03640072, 0.96579206, 0.00796546, ..., 0.03461076, 0.04363717,\n",
       "         0.04542131],\n",
       "        [0.0636287 , 0.96648425, 0.00676153, ..., 0.01259684, 0.02568906,\n",
       "         0.02548413]], dtype=float32)]"
      ]
     },
     "execution_count": 99,
     "metadata": {},
     "output_type": "execute_result"
    }
   ],
   "source": [
    "recon_test"
   ]
  },
  {
   "cell_type": "code",
   "execution_count": 100,
   "id": "ad652b03",
   "metadata": {},
   "outputs": [],
   "source": [
    "# Get the original as well as reconstructed datasets\n",
    "recon_test = np.vstack(recon_test)\n",
    "original_test = np.vstack(original_test)"
   ]
  },
  {
   "cell_type": "code",
   "execution_count": 101,
   "id": "16004ef9",
   "metadata": {},
   "outputs": [],
   "source": [
    "hadamards_test = np.vstack(hadamards_test)"
   ]
  },
  {
   "cell_type": "code",
   "execution_count": 102,
   "id": "9717399e",
   "metadata": {},
   "outputs": [
    {
     "data": {
      "text/plain": [
       "((868, 97), (868, 97))"
      ]
     },
     "execution_count": 102,
     "metadata": {},
     "output_type": "execute_result"
    }
   ],
   "source": [
    "hadamards_test.shape, recon_test.shape"
   ]
  },
  {
   "cell_type": "code",
   "execution_count": 103,
   "id": "d91c29bf",
   "metadata": {},
   "outputs": [
    {
     "data": {
      "text/plain": [
       "array([[0.0706559 , 0.96394736, 0.00744298, ..., 0.01659286, 0.02651689,\n",
       "        0.02668702],\n",
       "       [0.02215525, 0.96606714, 0.00992785, ..., 0.0276383 , 0.03019602,\n",
       "        0.02983418],\n",
       "       [0.03793986, 0.964726  , 0.00840427, ..., 0.02470801, 0.02882604,\n",
       "        0.02914468],\n",
       "       ...,\n",
       "       [0.03978982, 0.96979374, 0.00985189, ..., 0.01841021, 0.02161818,\n",
       "        0.02179526],\n",
       "       [0.03640072, 0.96579206, 0.00796546, ..., 0.03461076, 0.04363717,\n",
       "        0.04542131],\n",
       "       [0.0636287 , 0.96648425, 0.00676153, ..., 0.01259684, 0.02568906,\n",
       "        0.02548413]], dtype=float32)"
      ]
     },
     "execution_count": 103,
     "metadata": {},
     "output_type": "execute_result"
    }
   ],
   "source": [
    "recon_test"
   ]
  },
  {
   "cell_type": "code",
   "execution_count": 104,
   "id": "546affad",
   "metadata": {},
   "outputs": [],
   "source": [
    "# Fix the observed entries in the reconstructed set\n",
    "recon_test[hadamards_test == 1.0] = original_test[hadamards_test == 1.0]"
   ]
  },
  {
   "cell_type": "code",
   "execution_count": 105,
   "id": "f100cb91",
   "metadata": {},
   "outputs": [
    {
     "data": {
      "text/plain": [
       "((868, 97), (868, 97))"
      ]
     },
     "execution_count": 105,
     "metadata": {},
     "output_type": "execute_result"
    }
   ],
   "source": [
    "recon_test.shape, original_test.shape"
   ]
  },
  {
   "cell_type": "code",
   "execution_count": 106,
   "id": "d20cf57c",
   "metadata": {},
   "outputs": [],
   "source": [
    "recon_test = pd.DataFrame(recon_test)"
   ]
  },
  {
   "cell_type": "code",
   "execution_count": 107,
   "id": "09c0e286",
   "metadata": {},
   "outputs": [],
   "source": [
    "original_test = pd.DataFrame(original_test)"
   ]
  },
  {
   "cell_type": "code",
   "execution_count": 108,
   "id": "49563504",
   "metadata": {},
   "outputs": [],
   "source": [
    "recon_test.columns = data_original.columns[:-1]"
   ]
  },
  {
   "cell_type": "code",
   "execution_count": 109,
   "id": "c7dcd61d",
   "metadata": {},
   "outputs": [],
   "source": [
    "original_test.columns = data_original.columns[:-1]"
   ]
  },
  {
   "cell_type": "code",
   "execution_count": 110,
   "id": "68f04be9",
   "metadata": {},
   "outputs": [],
   "source": [
    "recon_test = pd.DataFrame(recon_test)\n",
    "recon_test.to_csv('C:\\\\Users\\\\16175\\\\Desktop\\\\recon_test.csv')"
   ]
  },
  {
   "cell_type": "code",
   "execution_count": 111,
   "id": "025cec0f",
   "metadata": {},
   "outputs": [],
   "source": [
    "original_test = pd.DataFrame(original_test)\n",
    "original_test.to_csv('C:\\\\Users\\\\16175\\\\Desktop\\\\original_test.csv')"
   ]
  },
  {
   "cell_type": "code",
   "execution_count": 112,
   "id": "1f835ebf",
   "metadata": {},
   "outputs": [],
   "source": [
    "# calculate the metrics on the unobserved entries of the tesset\n",
    "from sklearn.metrics import mean_squared_error\n",
    "rmse = mean_squared_error(original_test, recon_test)"
   ]
  },
  {
   "cell_type": "code",
   "execution_count": 113,
   "id": "c5c2e9d2",
   "metadata": {},
   "outputs": [
    {
     "data": {
      "text/plain": [
       "0.0008197116441498121"
      ]
     },
     "execution_count": 113,
     "metadata": {},
     "output_type": "execute_result"
    }
   ],
   "source": [
    "rmse"
   ]
  },
  {
   "cell_type": "code",
   "execution_count": 114,
   "id": "3747dfa8",
   "metadata": {},
   "outputs": [],
   "source": [
    "hadamards_test = np.array(hadamards_test)"
   ]
  },
  {
   "cell_type": "code",
   "execution_count": 115,
   "id": "9e5adab8",
   "metadata": {},
   "outputs": [
    {
     "name": "stdout",
     "output_type": "stream",
     "text": [
      "-------------- Calculating error -----------------\n"
     ]
    },
    {
     "ename": "KeyError",
     "evalue": "(0, 3)",
     "output_type": "error",
     "traceback": [
      "\u001b[1;31m---------------------------------------------------------------------------\u001b[0m",
      "\u001b[1;31mKeyError\u001b[0m                                  Traceback (most recent call last)",
      "\u001b[1;32m~\\Anaconda3\\envs\\pytorch\\lib\\site-packages\\pandas\\core\\indexes\\base.py\u001b[0m in \u001b[0;36mget_loc\u001b[1;34m(self, key, method, tolerance)\u001b[0m\n\u001b[0;32m   3080\u001b[0m             \u001b[1;32mtry\u001b[0m\u001b[1;33m:\u001b[0m\u001b[1;33m\u001b[0m\u001b[1;33m\u001b[0m\u001b[0m\n\u001b[1;32m-> 3081\u001b[1;33m                 \u001b[1;32mreturn\u001b[0m \u001b[0mself\u001b[0m\u001b[1;33m.\u001b[0m\u001b[0m_engine\u001b[0m\u001b[1;33m.\u001b[0m\u001b[0mget_loc\u001b[0m\u001b[1;33m(\u001b[0m\u001b[0mcasted_key\u001b[0m\u001b[1;33m)\u001b[0m\u001b[1;33m\u001b[0m\u001b[1;33m\u001b[0m\u001b[0m\n\u001b[0m\u001b[0;32m   3082\u001b[0m             \u001b[1;32mexcept\u001b[0m \u001b[0mKeyError\u001b[0m \u001b[1;32mas\u001b[0m \u001b[0merr\u001b[0m\u001b[1;33m:\u001b[0m\u001b[1;33m\u001b[0m\u001b[1;33m\u001b[0m\u001b[0m\n",
      "\u001b[1;32mpandas\\_libs\\index.pyx\u001b[0m in \u001b[0;36mpandas._libs.index.IndexEngine.get_loc\u001b[1;34m()\u001b[0m\n",
      "\u001b[1;32mpandas\\_libs\\index.pyx\u001b[0m in \u001b[0;36mpandas._libs.index.IndexEngine.get_loc\u001b[1;34m()\u001b[0m\n",
      "\u001b[1;32mpandas\\_libs\\hashtable_class_helper.pxi\u001b[0m in \u001b[0;36mpandas._libs.hashtable.PyObjectHashTable.get_item\u001b[1;34m()\u001b[0m\n",
      "\u001b[1;32mpandas\\_libs\\hashtable_class_helper.pxi\u001b[0m in \u001b[0;36mpandas._libs.hashtable.PyObjectHashTable.get_item\u001b[1;34m()\u001b[0m\n",
      "\u001b[1;31mKeyError\u001b[0m: (0, 3)",
      "\nThe above exception was the direct cause of the following exception:\n",
      "\u001b[1;31mKeyError\u001b[0m                                  Traceback (most recent call last)",
      "\u001b[1;32m<ipython-input-115-0cbb9a638128>\u001b[0m in \u001b[0;36m<module>\u001b[1;34m\u001b[0m\n\u001b[0;32m     19\u001b[0m     \u001b[1;32mfor\u001b[0m \u001b[0mj\u001b[0m \u001b[1;32min\u001b[0m \u001b[0mrange\u001b[0m\u001b[1;33m(\u001b[0m\u001b[0mc\u001b[0m\u001b[1;33m)\u001b[0m\u001b[1;33m:\u001b[0m\u001b[1;33m\u001b[0m\u001b[1;33m\u001b[0m\u001b[0m\n\u001b[0;32m     20\u001b[0m         \u001b[1;32mif\u001b[0m \u001b[0mhadamards_test\u001b[0m\u001b[1;33m[\u001b[0m\u001b[0mi\u001b[0m\u001b[1;33m,\u001b[0m \u001b[0mj\u001b[0m\u001b[1;33m]\u001b[0m \u001b[1;33m==\u001b[0m \u001b[1;36m0\u001b[0m\u001b[1;33m:\u001b[0m  \u001b[1;31m# considers error on only unobserved entries\u001b[0m\u001b[1;33m\u001b[0m\u001b[1;33m\u001b[0m\u001b[0m\n\u001b[1;32m---> 21\u001b[1;33m             \u001b[0mhop\u001b[0m\u001b[1;33m.\u001b[0m\u001b[0mappend\u001b[0m\u001b[1;33m(\u001b[0m\u001b[0mrecon_test\u001b[0m\u001b[1;33m[\u001b[0m\u001b[0mi\u001b[0m\u001b[1;33m,\u001b[0m \u001b[0mj\u001b[0m\u001b[1;33m]\u001b[0m\u001b[1;33m)\u001b[0m\u001b[1;33m\u001b[0m\u001b[1;33m\u001b[0m\u001b[0m\n\u001b[0m\u001b[0;32m     22\u001b[0m             \u001b[0mori\u001b[0m\u001b[1;33m.\u001b[0m\u001b[0mappend\u001b[0m\u001b[1;33m(\u001b[0m\u001b[0moriginal_test\u001b[0m\u001b[1;33m[\u001b[0m\u001b[0mi\u001b[0m\u001b[1;33m,\u001b[0m \u001b[0mj\u001b[0m\u001b[1;33m]\u001b[0m\u001b[1;33m)\u001b[0m\u001b[1;33m\u001b[0m\u001b[1;33m\u001b[0m\u001b[0m\n\u001b[0;32m     23\u001b[0m             \u001b[0mp\u001b[0m \u001b[1;33m=\u001b[0m \u001b[0mp\u001b[0m \u001b[1;33m+\u001b[0m \u001b[1;36m1\u001b[0m\u001b[1;33m\u001b[0m\u001b[1;33m\u001b[0m\u001b[0m\n",
      "\u001b[1;32m~\\Anaconda3\\envs\\pytorch\\lib\\site-packages\\pandas\\core\\frame.py\u001b[0m in \u001b[0;36m__getitem__\u001b[1;34m(self, key)\u001b[0m\n\u001b[0;32m   3022\u001b[0m             \u001b[1;32mif\u001b[0m \u001b[0mself\u001b[0m\u001b[1;33m.\u001b[0m\u001b[0mcolumns\u001b[0m\u001b[1;33m.\u001b[0m\u001b[0mnlevels\u001b[0m \u001b[1;33m>\u001b[0m \u001b[1;36m1\u001b[0m\u001b[1;33m:\u001b[0m\u001b[1;33m\u001b[0m\u001b[1;33m\u001b[0m\u001b[0m\n\u001b[0;32m   3023\u001b[0m                 \u001b[1;32mreturn\u001b[0m \u001b[0mself\u001b[0m\u001b[1;33m.\u001b[0m\u001b[0m_getitem_multilevel\u001b[0m\u001b[1;33m(\u001b[0m\u001b[0mkey\u001b[0m\u001b[1;33m)\u001b[0m\u001b[1;33m\u001b[0m\u001b[1;33m\u001b[0m\u001b[0m\n\u001b[1;32m-> 3024\u001b[1;33m             \u001b[0mindexer\u001b[0m \u001b[1;33m=\u001b[0m \u001b[0mself\u001b[0m\u001b[1;33m.\u001b[0m\u001b[0mcolumns\u001b[0m\u001b[1;33m.\u001b[0m\u001b[0mget_loc\u001b[0m\u001b[1;33m(\u001b[0m\u001b[0mkey\u001b[0m\u001b[1;33m)\u001b[0m\u001b[1;33m\u001b[0m\u001b[1;33m\u001b[0m\u001b[0m\n\u001b[0m\u001b[0;32m   3025\u001b[0m             \u001b[1;32mif\u001b[0m \u001b[0mis_integer\u001b[0m\u001b[1;33m(\u001b[0m\u001b[0mindexer\u001b[0m\u001b[1;33m)\u001b[0m\u001b[1;33m:\u001b[0m\u001b[1;33m\u001b[0m\u001b[1;33m\u001b[0m\u001b[0m\n\u001b[0;32m   3026\u001b[0m                 \u001b[0mindexer\u001b[0m \u001b[1;33m=\u001b[0m \u001b[1;33m[\u001b[0m\u001b[0mindexer\u001b[0m\u001b[1;33m]\u001b[0m\u001b[1;33m\u001b[0m\u001b[1;33m\u001b[0m\u001b[0m\n",
      "\u001b[1;32m~\\Anaconda3\\envs\\pytorch\\lib\\site-packages\\pandas\\core\\indexes\\base.py\u001b[0m in \u001b[0;36mget_loc\u001b[1;34m(self, key, method, tolerance)\u001b[0m\n\u001b[0;32m   3081\u001b[0m                 \u001b[1;32mreturn\u001b[0m \u001b[0mself\u001b[0m\u001b[1;33m.\u001b[0m\u001b[0m_engine\u001b[0m\u001b[1;33m.\u001b[0m\u001b[0mget_loc\u001b[0m\u001b[1;33m(\u001b[0m\u001b[0mcasted_key\u001b[0m\u001b[1;33m)\u001b[0m\u001b[1;33m\u001b[0m\u001b[1;33m\u001b[0m\u001b[0m\n\u001b[0;32m   3082\u001b[0m             \u001b[1;32mexcept\u001b[0m \u001b[0mKeyError\u001b[0m \u001b[1;32mas\u001b[0m \u001b[0merr\u001b[0m\u001b[1;33m:\u001b[0m\u001b[1;33m\u001b[0m\u001b[1;33m\u001b[0m\u001b[0m\n\u001b[1;32m-> 3083\u001b[1;33m                 \u001b[1;32mraise\u001b[0m \u001b[0mKeyError\u001b[0m\u001b[1;33m(\u001b[0m\u001b[0mkey\u001b[0m\u001b[1;33m)\u001b[0m \u001b[1;32mfrom\u001b[0m \u001b[0merr\u001b[0m\u001b[1;33m\u001b[0m\u001b[1;33m\u001b[0m\u001b[0m\n\u001b[0m\u001b[0;32m   3084\u001b[0m \u001b[1;33m\u001b[0m\u001b[0m\n\u001b[0;32m   3085\u001b[0m         \u001b[1;32mif\u001b[0m \u001b[0mtolerance\u001b[0m \u001b[1;32mis\u001b[0m \u001b[1;32mnot\u001b[0m \u001b[1;32mNone\u001b[0m\u001b[1;33m:\u001b[0m\u001b[1;33m\u001b[0m\u001b[1;33m\u001b[0m\u001b[0m\n",
      "\u001b[1;31mKeyError\u001b[0m: (0, 3)"
     ]
    }
   ],
   "source": [
    "# Model evaluation calculate the metric on the unobserved entries of the test set this is relative absolute error. \n",
    "[r,c] = original_test.shape\n",
    "hop = np.zeros((r*c))\n",
    "ori = np.zeros((r*c))\n",
    "meane = []\n",
    "abse = []\n",
    "\n",
    "##################################################################\n",
    "\t#  mean  and absolute hop error calculation----------------\n",
    "print(\"-------------- Calculating error -----------------\")\n",
    "\n",
    "[r, c] = original_test.shape\n",
    "        # vectorize matrices - placeholders\n",
    "hop = []\n",
    "ori = []\n",
    "\n",
    "p = 0\n",
    "for i in range(r):\n",
    "    for j in range(c):\n",
    "        if hadamards_test[i, j] == 0:  # considers error on only unobserved entries\n",
    "            hop.append(recon_test[i, j])\n",
    "            ori.append(original_test[i, j])\n",
    "            p = p + 1\n",
    "\n",
    "hop = np.array(hop)\n",
    "ori = np.array(ori)\n",
    "x = np.round(hop - ori)\n",
    "\n",
    "print (\"numerator:\", np.sum(abs(x)))\n",
    "print (\"sum of unobserved entries:\", np.sum(ori))\n",
    "print (\"b: total unobserved entries:\", len(ori))\n",
    "\n",
    "mean_err = (np.sum(abs(x))) / (np.sum(ori))\n",
    "mean_err = mean_err * 100\n",
    "mean_std = np.std(abs(x))\n",
    "\n",
    "abs_err = (np.sum(abs(x))) / (len(ori))  # divided by the number of unobserved entries\n",
    "abs_std = np.std(abs(x))\n",
    "\n",
    "print(mean_err)\n",
    "print(abs_err)"
   ]
  }
 ],
 "metadata": {
  "kernelspec": {
   "display_name": "Python 3",
   "language": "python",
   "name": "python3"
  },
  "language_info": {
   "codemirror_mode": {
    "name": "ipython",
    "version": 3
   },
   "file_extension": ".py",
   "mimetype": "text/x-python",
   "name": "python",
   "nbconvert_exporter": "python",
   "pygments_lexer": "ipython3",
   "version": "3.7.10"
  }
 },
 "nbformat": 4,
 "nbformat_minor": 5
}
